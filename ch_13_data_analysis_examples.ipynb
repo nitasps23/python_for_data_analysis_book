{
 "cells": [
  {
   "cell_type": "code",
   "execution_count": 1,
   "id": "1811d559",
   "metadata": {},
   "outputs": [
    {
     "name": "stdout",
     "output_type": "stream",
     "text": [
      "{ \"a\": \"Mozilla\\/5.0 (Windows NT 6.1; WOW64) AppleWebKit\\/535.11 (KHTML, like Gecko) Chrome\\/17.0.963.78 Safari\\/535.11\", \"c\": \"US\", \"nk\": 1, \"tz\": \"America\\/New_York\", \"gr\": \"MA\", \"g\": \"A6qOVH\", \"h\": \"wfLQtf\", \"l\": \"orofrog\", \"al\": \"en-US,en;q=0.8\", \"hh\": \"1.usa.gov\", \"r\": \"http:\\/\\/www.facebook.com\\/l\\/7AQEFzjSi\\/1.usa.gov\\/wfLQtf\", \"u\": \"http:\\/\\/www.ncbi.nlm.nih.gov\\/pubmed\\/22415991\", \"t\": 1331923247, \"hc\": 1331822918, \"cy\": \"Danvers\", \"ll\": [ 42.576698, -70.954903 ] }\n",
      "\n"
     ]
    }
   ],
   "source": [
    "# bitly data from USA.gov\n",
    "import numpy as np\n",
    "import pandas as pd\n",
    "\n",
    "path = 'examples/example.txt'\n",
    "\n",
    "with open(path) as f:\n",
    "    print(f.readline())"
   ]
  },
  {
   "cell_type": "code",
   "execution_count": 2,
   "id": "5681f8e7",
   "metadata": {},
   "outputs": [
    {
     "data": {
      "text/plain": [
       "{'a': 'Mozilla/5.0 (Windows NT 6.1; WOW64) AppleWebKit/535.11 (KHTML, like Gecko) Chrome/17.0.963.78 Safari/535.11',\n",
       " 'c': 'US',\n",
       " 'nk': 1,\n",
       " 'tz': 'America/New_York',\n",
       " 'gr': 'MA',\n",
       " 'g': 'A6qOVH',\n",
       " 'h': 'wfLQtf',\n",
       " 'l': 'orofrog',\n",
       " 'al': 'en-US,en;q=0.8',\n",
       " 'hh': '1.usa.gov',\n",
       " 'r': 'http://www.facebook.com/l/7AQEFzjSi/1.usa.gov/wfLQtf',\n",
       " 'u': 'http://www.ncbi.nlm.nih.gov/pubmed/22415991',\n",
       " 't': 1331923247,\n",
       " 'hc': 1331822918,\n",
       " 'cy': 'Danvers',\n",
       " 'll': [42.576698, -70.954903]}"
      ]
     },
     "execution_count": 2,
     "metadata": {},
     "output_type": "execute_result"
    }
   ],
   "source": [
    "import json\n",
    "\n",
    "with open(path) as f:\n",
    "    records = [json.loads(line) for line in f]\n",
    "    \n",
    "records[0]"
   ]
  },
  {
   "cell_type": "code",
   "execution_count": 3,
   "id": "65284360",
   "metadata": {},
   "outputs": [
    {
     "ename": "KeyError",
     "evalue": "'tz'",
     "output_type": "error",
     "traceback": [
      "\u001b[0;31m---------------------------------------------------------------------------\u001b[0m",
      "\u001b[0;31mKeyError\u001b[0m                                  Traceback (most recent call last)",
      "Cell \u001b[0;32mIn[3], line 1\u001b[0m\n\u001b[0;32m----> 1\u001b[0m time_zones \u001b[38;5;241m=\u001b[39m [rec[\u001b[38;5;124m\"\u001b[39m\u001b[38;5;124mtz\u001b[39m\u001b[38;5;124m\"\u001b[39m] \u001b[38;5;28;01mfor\u001b[39;00m rec \u001b[38;5;129;01min\u001b[39;00m records]\n",
      "Cell \u001b[0;32mIn[3], line 1\u001b[0m, in \u001b[0;36m<listcomp>\u001b[0;34m(.0)\u001b[0m\n\u001b[0;32m----> 1\u001b[0m time_zones \u001b[38;5;241m=\u001b[39m [rec[\u001b[38;5;124m\"\u001b[39m\u001b[38;5;124mtz\u001b[39m\u001b[38;5;124m\"\u001b[39m] \u001b[38;5;28;01mfor\u001b[39;00m rec \u001b[38;5;129;01min\u001b[39;00m records]\n",
      "\u001b[0;31mKeyError\u001b[0m: 'tz'"
     ]
    }
   ],
   "source": [
    "time_zones = [rec[\"tz\"] for rec in records]\n",
    "\n",
    "# error - not all record has 'tz'"
   ]
  },
  {
   "cell_type": "code",
   "execution_count": 4,
   "id": "1c37528c",
   "metadata": {},
   "outputs": [
    {
     "data": {
      "text/plain": [
       "['America/New_York',\n",
       " 'America/Denver',\n",
       " 'America/New_York',\n",
       " 'America/Sao_Paulo',\n",
       " 'America/New_York',\n",
       " 'America/New_York',\n",
       " 'Europe/Warsaw',\n",
       " '',\n",
       " '',\n",
       " '']"
      ]
     },
     "execution_count": 4,
     "metadata": {},
     "output_type": "execute_result"
    }
   ],
   "source": [
    "# add if to check\n",
    "time_zones = [rec[\"tz\"] for rec in records if 'tz' in rec]\n",
    "time_zones[:10]\n",
    "\n",
    "# some are unknown (empty string)"
   ]
  },
  {
   "cell_type": "code",
   "execution_count": 5,
   "id": "66c7b270",
   "metadata": {},
   "outputs": [],
   "source": [
    "# use dict to store counts of time zones\n",
    "def get_counts(sequence):\n",
    "    counts = {}\n",
    "    for x in sequence:\n",
    "        if x in counts:\n",
    "            counts[x] += 1\n",
    "        else:\n",
    "            counts[x] = 1\n",
    "    return counts\n",
    "\n",
    "# vs using more advanced tools\n",
    "from collections import defaultdict\n",
    "\n",
    "def get_counts2(sequence):\n",
    "    counts = defaultdict(int)\n",
    "    for x in sequence:\n",
    "        count[x] += 1\n",
    "    return counts"
   ]
  },
  {
   "cell_type": "code",
   "execution_count": 6,
   "id": "c2d4513c",
   "metadata": {},
   "outputs": [
    {
     "data": {
      "text/plain": [
       "1251"
      ]
     },
     "execution_count": 6,
     "metadata": {},
     "output_type": "execute_result"
    }
   ],
   "source": [
    "# use func on tz\n",
    "counts = get_counts(time_zones)\n",
    "counts['America/New_York']"
   ]
  },
  {
   "cell_type": "code",
   "execution_count": 7,
   "id": "d5eb2260",
   "metadata": {},
   "outputs": [
    {
     "data": {
      "text/plain": [
       "3440"
      ]
     },
     "execution_count": 7,
     "metadata": {},
     "output_type": "execute_result"
    }
   ],
   "source": [
    "len(time_zones)"
   ]
  },
  {
   "cell_type": "code",
   "execution_count": 8,
   "id": "18378b1a",
   "metadata": {},
   "outputs": [
    {
     "data": {
      "text/plain": [
       "[(33, 'America/Sao_Paulo'),\n",
       " (35, 'Europe/Madrid'),\n",
       " (36, 'Pacific/Honolulu'),\n",
       " (37, 'Asia/Tokyo'),\n",
       " (74, 'Europe/London'),\n",
       " (191, 'America/Denver'),\n",
       " (382, 'America/Los_Angeles'),\n",
       " (400, 'America/Chicago'),\n",
       " (521, ''),\n",
       " (1251, 'America/New_York')]"
      ]
     },
     "execution_count": 8,
     "metadata": {},
     "output_type": "execute_result"
    }
   ],
   "source": [
    "# top 10 time zones\n",
    "def top_counts(count_dict, n=10):\n",
    "    value_key_pairs = [(count, tz) for tz, count in count_dict.items()]\n",
    "    value_key_pairs.sort()\n",
    "    return value_key_pairs[-n:]\n",
    "\n",
    "top_counts(counts)"
   ]
  },
  {
   "cell_type": "code",
   "execution_count": 9,
   "id": "0153c823",
   "metadata": {},
   "outputs": [
    {
     "data": {
      "text/plain": [
       "[('America/New_York', 1251),\n",
       " ('', 521),\n",
       " ('America/Chicago', 400),\n",
       " ('America/Los_Angeles', 382),\n",
       " ('America/Denver', 191),\n",
       " ('Europe/London', 74),\n",
       " ('Asia/Tokyo', 37),\n",
       " ('Pacific/Honolulu', 36),\n",
       " ('Europe/Madrid', 35),\n",
       " ('America/Sao_Paulo', 33)]"
      ]
     },
     "execution_count": 9,
     "metadata": {},
     "output_type": "execute_result"
    }
   ],
   "source": [
    "# vs simpler way\n",
    "from collections import Counter\n",
    "\n",
    "counts = Counter(time_zones)\n",
    "counts.most_common(10)"
   ]
  },
  {
   "cell_type": "code",
   "execution_count": 10,
   "id": "ba09b70d",
   "metadata": {},
   "outputs": [
    {
     "name": "stdout",
     "output_type": "stream",
     "text": [
      "<class 'pandas.core.frame.DataFrame'>\n",
      "RangeIndex: 3560 entries, 0 to 3559\n",
      "Data columns (total 18 columns):\n",
      " #   Column       Non-Null Count  Dtype  \n",
      "---  ------       --------------  -----  \n",
      " 0   a            3440 non-null   object \n",
      " 1   c            2919 non-null   object \n",
      " 2   nk           3440 non-null   float64\n",
      " 3   tz           3440 non-null   object \n",
      " 4   gr           2919 non-null   object \n",
      " 5   g            3440 non-null   object \n",
      " 6   h            3440 non-null   object \n",
      " 7   l            3440 non-null   object \n",
      " 8   al           3094 non-null   object \n",
      " 9   hh           3440 non-null   object \n",
      " 10  r            3440 non-null   object \n",
      " 11  u            3440 non-null   object \n",
      " 12  t            3440 non-null   float64\n",
      " 13  hc           3440 non-null   float64\n",
      " 14  cy           2919 non-null   object \n",
      " 15  ll           2919 non-null   object \n",
      " 16  _heartbeat_  120 non-null    float64\n",
      " 17  kw           93 non-null     object \n",
      "dtypes: float64(4), object(14)\n",
      "memory usage: 500.8+ KB\n"
     ]
    }
   ],
   "source": [
    "# look at data info\n",
    "\n",
    "frame = pd.DataFrame(records)\n",
    "frame.info()"
   ]
  },
  {
   "cell_type": "code",
   "execution_count": 11,
   "id": "df37b7d3",
   "metadata": {},
   "outputs": [
    {
     "data": {
      "text/plain": [
       "0     America/New_York\n",
       "1       America/Denver\n",
       "2     America/New_York\n",
       "3    America/Sao_Paulo\n",
       "4     America/New_York\n",
       "Name: tz, dtype: object"
      ]
     },
     "execution_count": 11,
     "metadata": {},
     "output_type": "execute_result"
    }
   ],
   "source": [
    "frame['tz'].head()"
   ]
  },
  {
   "cell_type": "code",
   "execution_count": 12,
   "id": "9251e17a",
   "metadata": {},
   "outputs": [
    {
     "data": {
      "text/plain": [
       "tz\n",
       "America/New_York       1251\n",
       "                        521\n",
       "America/Chicago         400\n",
       "America/Los_Angeles     382\n",
       "America/Denver          191\n",
       "Name: count, dtype: int64"
      ]
     },
     "execution_count": 12,
     "metadata": {},
     "output_type": "execute_result"
    }
   ],
   "source": [
    "# count values\n",
    "\n",
    "tz_counts = frame['tz'].value_counts()\n",
    "tz_counts.head()"
   ]
  },
  {
   "cell_type": "code",
   "execution_count": 13,
   "id": "94c76ab3",
   "metadata": {},
   "outputs": [
    {
     "data": {
      "text/plain": [
       "tz\n",
       "America/New_York       1251\n",
       "Unknown                 521\n",
       "America/Chicago         400\n",
       "America/Los_Angeles     382\n",
       "America/Denver          191\n",
       "Name: count, dtype: int64"
      ]
     },
     "execution_count": 13,
     "metadata": {},
     "output_type": "execute_result"
    }
   ],
   "source": [
    "# visualize data\n",
    "# replace missing values\n",
    "\n",
    "clean_tz = frame['tz'].fillna('Missing')\n",
    "clean_tz[clean_tz == \"\"] = 'Unknown'\n",
    "tz_counts = clean_tz.value_counts()\n",
    "tz_counts.head()"
   ]
  },
  {
   "cell_type": "code",
   "execution_count": 14,
   "id": "bba82db4",
   "metadata": {},
   "outputs": [
    {
     "data": {
      "image/png": "[encoded data removed]",
      "text/plain": [
       "<Figure size 640x480 with 1 Axes>"
      ]
     },
     "metadata": {},
     "output_type": "display_data"
    }
   ],
   "source": [
    "# use seaborn package to visualize\n",
    "import seaborn as sns\n",
    "\n",
    "subset = tz_counts.head()\n",
    "sns.barplot(y= subset.index, x= subset.to_numpy());"
   ]
  },
  {
   "cell_type": "code",
   "execution_count": 15,
   "id": "c0dc259c",
   "metadata": {},
   "outputs": [
    {
     "data": {
      "text/plain": [
       "'GoogleMaps/RochesterNY'"
      ]
     },
     "execution_count": 15,
     "metadata": {},
     "output_type": "execute_result"
    }
   ],
   "source": [
    "# explore 'a' field\n",
    "frame['a'][1]"
   ]
  },
  {
   "cell_type": "code",
   "execution_count": 16,
   "id": "12ee3583",
   "metadata": {},
   "outputs": [
    {
     "data": {
      "text/plain": [
       "'Mozilla/5.0 (Windows NT 5.1; rv:10.0.2) Gecko/20100101 Firefox/10.0.2'"
      ]
     },
     "execution_count": 16,
     "metadata": {},
     "output_type": "execute_result"
    }
   ],
   "source": [
    "frame['a'][50]"
   ]
  },
  {
   "cell_type": "code",
   "execution_count": 17,
   "id": "21c5288c",
   "metadata": {},
   "outputs": [
    {
     "data": {
      "text/plain": [
       "'Mozilla/5.0 (Linux; U; Android 2.2.2; en-us; LG-P9'"
      ]
     },
     "execution_count": 17,
     "metadata": {},
     "output_type": "execute_result"
    }
   ],
   "source": [
    "frame['a'][51][:50]"
   ]
  },
  {
   "cell_type": "code",
   "execution_count": 18,
   "id": "194e421b",
   "metadata": {},
   "outputs": [
    {
     "data": {
      "text/plain": [
       "0               Mozilla/5.0\n",
       "1    GoogleMaps/RochesterNY\n",
       "2               Mozilla/4.0\n",
       "3               Mozilla/5.0\n",
       "4               Mozilla/5.0\n",
       "dtype: object"
      ]
     },
     "execution_count": 18,
     "metadata": {},
     "output_type": "execute_result"
    }
   ],
   "source": [
    "results = pd.Series([x.split()[0] for x in frame['a'].dropna()])\n",
    "results.head()"
   ]
  },
  {
   "cell_type": "code",
   "execution_count": 19,
   "id": "c6de6b9e",
   "metadata": {},
   "outputs": [
    {
     "data": {
      "text/plain": [
       "Mozilla/5.0                 2594\n",
       "Mozilla/4.0                  601\n",
       "GoogleMaps/RochesterNY       121\n",
       "Opera/9.80                    34\n",
       "TEST_INTERNET_AGENT           24\n",
       "GoogleProducer                21\n",
       "Mozilla/6.0                    5\n",
       "BlackBerry8520/5.0.0.681       4\n",
       "Name: count, dtype: int64"
      ]
     },
     "execution_count": 19,
     "metadata": {},
     "output_type": "execute_result"
    }
   ],
   "source": [
    "results.value_counts().head(8)"
   ]
  },
  {
   "cell_type": "code",
   "execution_count": 20,
   "id": "c36b6374",
   "metadata": {},
   "outputs": [
    {
     "data": {
      "text/html": [
       "<div>\n",
       "<style scoped>\n",
       "    .dataframe tbody tr th:only-of-type {\n",
       "        vertical-align: middle;\n",
       "    }\n",
       "\n",
       "    .dataframe tbody tr th {\n",
       "        vertical-align: top;\n",
       "    }\n",
       "\n",
       "    .dataframe thead th {\n",
       "        text-align: right;\n",
       "    }\n",
       "</style>\n",
       "<table border=\"1\" class=\"dataframe\">\n",
       "  <thead>\n",
       "    <tr style=\"text-align: right;\">\n",
       "      <th></th>\n",
       "      <th>a</th>\n",
       "      <th>c</th>\n",
       "      <th>nk</th>\n",
       "      <th>tz</th>\n",
       "      <th>gr</th>\n",
       "      <th>g</th>\n",
       "      <th>h</th>\n",
       "      <th>l</th>\n",
       "      <th>al</th>\n",
       "      <th>hh</th>\n",
       "      <th>r</th>\n",
       "      <th>u</th>\n",
       "      <th>t</th>\n",
       "      <th>hc</th>\n",
       "      <th>cy</th>\n",
       "      <th>ll</th>\n",
       "      <th>_heartbeat_</th>\n",
       "      <th>kw</th>\n",
       "    </tr>\n",
       "  </thead>\n",
       "  <tbody>\n",
       "    <tr>\n",
       "      <th>0</th>\n",
       "      <td>Mozilla/5.0 (Windows NT 6.1; WOW64) AppleWebKi...</td>\n",
       "      <td>US</td>\n",
       "      <td>1.0</td>\n",
       "      <td>America/New_York</td>\n",
       "      <td>MA</td>\n",
       "      <td>A6qOVH</td>\n",
       "      <td>wfLQtf</td>\n",
       "      <td>orofrog</td>\n",
       "      <td>en-US,en;q=0.8</td>\n",
       "      <td>1.usa.gov</td>\n",
       "      <td>http://www.facebook.com/l/7AQEFzjSi/1.usa.gov/...</td>\n",
       "      <td>http://www.ncbi.nlm.nih.gov/pubmed/22415991</td>\n",
       "      <td>1.331923e+09</td>\n",
       "      <td>1.331823e+09</td>\n",
       "      <td>Danvers</td>\n",
       "      <td>[42.576698, -70.954903]</td>\n",
       "      <td>NaN</td>\n",
       "      <td>NaN</td>\n",
       "    </tr>\n",
       "    <tr>\n",
       "      <th>1</th>\n",
       "      <td>GoogleMaps/RochesterNY</td>\n",
       "      <td>US</td>\n",
       "      <td>0.0</td>\n",
       "      <td>America/Denver</td>\n",
       "      <td>UT</td>\n",
       "      <td>mwszkS</td>\n",
       "      <td>mwszkS</td>\n",
       "      <td>bitly</td>\n",
       "      <td>NaN</td>\n",
       "      <td>j.mp</td>\n",
       "      <td>http://www.AwareMap.com/</td>\n",
       "      <td>http://www.monroecounty.gov/etc/911/rss.php</td>\n",
       "      <td>1.331923e+09</td>\n",
       "      <td>1.308262e+09</td>\n",
       "      <td>Provo</td>\n",
       "      <td>[40.218102, -111.613297]</td>\n",
       "      <td>NaN</td>\n",
       "      <td>NaN</td>\n",
       "    </tr>\n",
       "    <tr>\n",
       "      <th>2</th>\n",
       "      <td>Mozilla/4.0 (compatible; MSIE 8.0; Windows NT ...</td>\n",
       "      <td>US</td>\n",
       "      <td>1.0</td>\n",
       "      <td>America/New_York</td>\n",
       "      <td>DC</td>\n",
       "      <td>xxr3Qb</td>\n",
       "      <td>xxr3Qb</td>\n",
       "      <td>bitly</td>\n",
       "      <td>en-US</td>\n",
       "      <td>1.usa.gov</td>\n",
       "      <td>http://t.co/03elZC4Q</td>\n",
       "      <td>http://boxer.senate.gov/en/press/releases/0316...</td>\n",
       "      <td>1.331923e+09</td>\n",
       "      <td>1.331920e+09</td>\n",
       "      <td>Washington</td>\n",
       "      <td>[38.9007, -77.043098]</td>\n",
       "      <td>NaN</td>\n",
       "      <td>NaN</td>\n",
       "    </tr>\n",
       "    <tr>\n",
       "      <th>3</th>\n",
       "      <td>Mozilla/5.0 (Macintosh; Intel Mac OS X 10_6_8)...</td>\n",
       "      <td>BR</td>\n",
       "      <td>0.0</td>\n",
       "      <td>America/Sao_Paulo</td>\n",
       "      <td>27</td>\n",
       "      <td>zCaLwp</td>\n",
       "      <td>zUtuOu</td>\n",
       "      <td>alelex88</td>\n",
       "      <td>pt-br</td>\n",
       "      <td>1.usa.gov</td>\n",
       "      <td>direct</td>\n",
       "      <td>http://apod.nasa.gov/apod/ap120312.html</td>\n",
       "      <td>1.331923e+09</td>\n",
       "      <td>1.331923e+09</td>\n",
       "      <td>Braz</td>\n",
       "      <td>[-23.549999, -46.616699]</td>\n",
       "      <td>NaN</td>\n",
       "      <td>NaN</td>\n",
       "    </tr>\n",
       "    <tr>\n",
       "      <th>4</th>\n",
       "      <td>Mozilla/5.0 (Windows NT 6.1; WOW64) AppleWebKi...</td>\n",
       "      <td>US</td>\n",
       "      <td>0.0</td>\n",
       "      <td>America/New_York</td>\n",
       "      <td>MA</td>\n",
       "      <td>9b6kNl</td>\n",
       "      <td>9b6kNl</td>\n",
       "      <td>bitly</td>\n",
       "      <td>en-US,en;q=0.8</td>\n",
       "      <td>bit.ly</td>\n",
       "      <td>http://www.shrewsbury-ma.gov/selco/</td>\n",
       "      <td>http://www.shrewsbury-ma.gov/egov/gallery/1341...</td>\n",
       "      <td>1.331923e+09</td>\n",
       "      <td>1.273672e+09</td>\n",
       "      <td>Shrewsbury</td>\n",
       "      <td>[42.286499, -71.714699]</td>\n",
       "      <td>NaN</td>\n",
       "      <td>NaN</td>\n",
       "    </tr>\n",
       "    <tr>\n",
       "      <th>...</th>\n",
       "      <td>...</td>\n",
       "      <td>...</td>\n",
       "      <td>...</td>\n",
       "      <td>...</td>\n",
       "      <td>...</td>\n",
       "      <td>...</td>\n",
       "      <td>...</td>\n",
       "      <td>...</td>\n",
       "      <td>...</td>\n",
       "      <td>...</td>\n",
       "      <td>...</td>\n",
       "      <td>...</td>\n",
       "      <td>...</td>\n",
       "      <td>...</td>\n",
       "      <td>...</td>\n",
       "      <td>...</td>\n",
       "      <td>...</td>\n",
       "      <td>...</td>\n",
       "    </tr>\n",
       "    <tr>\n",
       "      <th>3555</th>\n",
       "      <td>Mozilla/4.0 (compatible; MSIE 9.0; Windows NT ...</td>\n",
       "      <td>US</td>\n",
       "      <td>1.0</td>\n",
       "      <td>America/New_York</td>\n",
       "      <td>NJ</td>\n",
       "      <td>e5SvKE</td>\n",
       "      <td>fqPSr9</td>\n",
       "      <td>tweetdeckapi</td>\n",
       "      <td>en</td>\n",
       "      <td>1.usa.gov</td>\n",
       "      <td>direct</td>\n",
       "      <td>http://www.fda.gov/AdvisoryCommittees/Committe...</td>\n",
       "      <td>1.331927e+09</td>\n",
       "      <td>1.301298e+09</td>\n",
       "      <td>Paramus</td>\n",
       "      <td>[40.9445, -74.07]</td>\n",
       "      <td>NaN</td>\n",
       "      <td>NaN</td>\n",
       "    </tr>\n",
       "    <tr>\n",
       "      <th>3556</th>\n",
       "      <td>Mozilla/5.0 (Windows NT 5.1) AppleWebKit/535.1...</td>\n",
       "      <td>US</td>\n",
       "      <td>0.0</td>\n",
       "      <td>America/Chicago</td>\n",
       "      <td>OK</td>\n",
       "      <td>jQLtP4</td>\n",
       "      <td>jQLtP4</td>\n",
       "      <td>bitly</td>\n",
       "      <td>en-US,en;q=0.8</td>\n",
       "      <td>1.usa.gov</td>\n",
       "      <td>http://www.facebook.com/l.php?u=http%3A%2F%2F1...</td>\n",
       "      <td>http://www.okc.gov/PublicNotificationSystem/Fo...</td>\n",
       "      <td>1.331927e+09</td>\n",
       "      <td>1.307530e+09</td>\n",
       "      <td>Oklahoma City</td>\n",
       "      <td>[35.4715, -97.518997]</td>\n",
       "      <td>NaN</td>\n",
       "      <td>NaN</td>\n",
       "    </tr>\n",
       "    <tr>\n",
       "      <th>3557</th>\n",
       "      <td>GoogleMaps/RochesterNY</td>\n",
       "      <td>US</td>\n",
       "      <td>0.0</td>\n",
       "      <td>America/Denver</td>\n",
       "      <td>UT</td>\n",
       "      <td>mwszkS</td>\n",
       "      <td>mwszkS</td>\n",
       "      <td>bitly</td>\n",
       "      <td>NaN</td>\n",
       "      <td>j.mp</td>\n",
       "      <td>http://www.AwareMap.com/</td>\n",
       "      <td>http://www.monroecounty.gov/etc/911/rss.php</td>\n",
       "      <td>1.331927e+09</td>\n",
       "      <td>1.308262e+09</td>\n",
       "      <td>Provo</td>\n",
       "      <td>[40.218102, -111.613297]</td>\n",
       "      <td>NaN</td>\n",
       "      <td>NaN</td>\n",
       "    </tr>\n",
       "    <tr>\n",
       "      <th>3558</th>\n",
       "      <td>GoogleProducer</td>\n",
       "      <td>US</td>\n",
       "      <td>0.0</td>\n",
       "      <td>America/Los_Angeles</td>\n",
       "      <td>CA</td>\n",
       "      <td>zjtI4X</td>\n",
       "      <td>zjtI4X</td>\n",
       "      <td>bitly</td>\n",
       "      <td>NaN</td>\n",
       "      <td>1.usa.gov</td>\n",
       "      <td>direct</td>\n",
       "      <td>http://www.ahrq.gov/qual/qitoolkit/</td>\n",
       "      <td>1.331927e+09</td>\n",
       "      <td>1.327529e+09</td>\n",
       "      <td>Mountain View</td>\n",
       "      <td>[37.419201, -122.057404]</td>\n",
       "      <td>NaN</td>\n",
       "      <td>NaN</td>\n",
       "    </tr>\n",
       "    <tr>\n",
       "      <th>3559</th>\n",
       "      <td>Mozilla/4.0 (compatible; MSIE 8.0; Windows NT ...</td>\n",
       "      <td>US</td>\n",
       "      <td>0.0</td>\n",
       "      <td>America/New_York</td>\n",
       "      <td>VA</td>\n",
       "      <td>qxKrTK</td>\n",
       "      <td>qxKrTK</td>\n",
       "      <td>bitly</td>\n",
       "      <td>en-US</td>\n",
       "      <td>1.usa.gov</td>\n",
       "      <td>http://t.co/OEEEvwjU</td>\n",
       "      <td>http://herndon-va.gov/Content/public_safety/Pu...</td>\n",
       "      <td>1.331927e+09</td>\n",
       "      <td>1.312898e+09</td>\n",
       "      <td>Mc Lean</td>\n",
       "      <td>[38.935799, -77.162102]</td>\n",
       "      <td>NaN</td>\n",
       "      <td>NaN</td>\n",
       "    </tr>\n",
       "  </tbody>\n",
       "</table>\n",
       "<p>3440 rows × 18 columns</p>\n",
       "</div>"
      ],
      "text/plain": [
       "                                                      a   c   nk  \\\n",
       "0     Mozilla/5.0 (Windows NT 6.1; WOW64) AppleWebKi...  US  1.0   \n",
       "1                                GoogleMaps/RochesterNY  US  0.0   \n",
       "2     Mozilla/4.0 (compatible; MSIE 8.0; Windows NT ...  US  1.0   \n",
       "3     Mozilla/5.0 (Macintosh; Intel Mac OS X 10_6_8)...  BR  0.0   \n",
       "4     Mozilla/5.0 (Windows NT 6.1; WOW64) AppleWebKi...  US  0.0   \n",
       "...                                                 ...  ..  ...   \n",
       "3555  Mozilla/4.0 (compatible; MSIE 9.0; Windows NT ...  US  1.0   \n",
       "3556  Mozilla/5.0 (Windows NT 5.1) AppleWebKit/535.1...  US  0.0   \n",
       "3557                             GoogleMaps/RochesterNY  US  0.0   \n",
       "3558                                     GoogleProducer  US  0.0   \n",
       "3559  Mozilla/4.0 (compatible; MSIE 8.0; Windows NT ...  US  0.0   \n",
       "\n",
       "                       tz  gr       g       h             l              al  \\\n",
       "0        America/New_York  MA  A6qOVH  wfLQtf       orofrog  en-US,en;q=0.8   \n",
       "1          America/Denver  UT  mwszkS  mwszkS         bitly             NaN   \n",
       "2        America/New_York  DC  xxr3Qb  xxr3Qb         bitly           en-US   \n",
       "3       America/Sao_Paulo  27  zCaLwp  zUtuOu      alelex88           pt-br   \n",
       "4        America/New_York  MA  9b6kNl  9b6kNl         bitly  en-US,en;q=0.8   \n",
       "...                   ...  ..     ...     ...           ...             ...   \n",
       "3555     America/New_York  NJ  e5SvKE  fqPSr9  tweetdeckapi              en   \n",
       "3556      America/Chicago  OK  jQLtP4  jQLtP4         bitly  en-US,en;q=0.8   \n",
       "3557       America/Denver  UT  mwszkS  mwszkS         bitly             NaN   \n",
       "3558  America/Los_Angeles  CA  zjtI4X  zjtI4X         bitly             NaN   \n",
       "3559     America/New_York  VA  qxKrTK  qxKrTK         bitly           en-US   \n",
       "\n",
       "             hh                                                  r  \\\n",
       "0     1.usa.gov  http://www.facebook.com/l/7AQEFzjSi/1.usa.gov/...   \n",
       "1          j.mp                           http://www.AwareMap.com/   \n",
       "2     1.usa.gov                               http://t.co/03elZC4Q   \n",
       "3     1.usa.gov                                             direct   \n",
       "4        bit.ly                http://www.shrewsbury-ma.gov/selco/   \n",
       "...         ...                                                ...   \n",
       "3555  1.usa.gov                                             direct   \n",
       "3556  1.usa.gov  http://www.facebook.com/l.php?u=http%3A%2F%2F1...   \n",
       "3557       j.mp                           http://www.AwareMap.com/   \n",
       "3558  1.usa.gov                                             direct   \n",
       "3559  1.usa.gov                               http://t.co/OEEEvwjU   \n",
       "\n",
       "                                                      u             t  \\\n",
       "0           http://www.ncbi.nlm.nih.gov/pubmed/22415991  1.331923e+09   \n",
       "1           http://www.monroecounty.gov/etc/911/rss.php  1.331923e+09   \n",
       "2     http://boxer.senate.gov/en/press/releases/0316...  1.331923e+09   \n",
       "3               http://apod.nasa.gov/apod/ap120312.html  1.331923e+09   \n",
       "4     http://www.shrewsbury-ma.gov/egov/gallery/1341...  1.331923e+09   \n",
       "...                                                 ...           ...   \n",
       "3555  http://www.fda.gov/AdvisoryCommittees/Committe...  1.331927e+09   \n",
       "3556  http://www.okc.gov/PublicNotificationSystem/Fo...  1.331927e+09   \n",
       "3557        http://www.monroecounty.gov/etc/911/rss.php  1.331927e+09   \n",
       "3558                http://www.ahrq.gov/qual/qitoolkit/  1.331927e+09   \n",
       "3559  http://herndon-va.gov/Content/public_safety/Pu...  1.331927e+09   \n",
       "\n",
       "                hc             cy                        ll  _heartbeat_   kw  \n",
       "0     1.331823e+09        Danvers   [42.576698, -70.954903]          NaN  NaN  \n",
       "1     1.308262e+09          Provo  [40.218102, -111.613297]          NaN  NaN  \n",
       "2     1.331920e+09     Washington     [38.9007, -77.043098]          NaN  NaN  \n",
       "3     1.331923e+09           Braz  [-23.549999, -46.616699]          NaN  NaN  \n",
       "4     1.273672e+09     Shrewsbury   [42.286499, -71.714699]          NaN  NaN  \n",
       "...            ...            ...                       ...          ...  ...  \n",
       "3555  1.301298e+09        Paramus         [40.9445, -74.07]          NaN  NaN  \n",
       "3556  1.307530e+09  Oklahoma City     [35.4715, -97.518997]          NaN  NaN  \n",
       "3557  1.308262e+09          Provo  [40.218102, -111.613297]          NaN  NaN  \n",
       "3558  1.327529e+09  Mountain View  [37.419201, -122.057404]          NaN  NaN  \n",
       "3559  1.312898e+09        Mc Lean   [38.935799, -77.162102]          NaN  NaN  \n",
       "\n",
       "[3440 rows x 18 columns]"
      ]
     },
     "execution_count": 20,
     "metadata": {},
     "output_type": "execute_result"
    }
   ],
   "source": [
    "cframe = frame[frame['a'].notna()].copy()\n",
    "cframe"
   ]
  },
  {
   "cell_type": "code",
   "execution_count": 21,
   "id": "87925f09",
   "metadata": {},
   "outputs": [
    {
     "data": {
      "text/plain": [
       "0        Windows\n",
       "1    Not Windows\n",
       "2        Windows\n",
       "3    Not Windows\n",
       "4        Windows\n",
       "Name: os, dtype: object"
      ]
     },
     "execution_count": 21,
     "metadata": {},
     "output_type": "execute_result"
    }
   ],
   "source": [
    "# compute a value if each row is windows\n",
    "cframe['os']= np.where(cframe['a'].str.contains('Windows'),\n",
    "                      'Windows', 'Not Windows')\n",
    "cframe['os'].head()"
   ]
  },
  {
   "cell_type": "code",
   "execution_count": 22,
   "id": "3b2b0a60",
   "metadata": {},
   "outputs": [
    {
     "data": {
      "text/plain": [
       "<pandas.core.groupby.generic.DataFrameGroupBy object at 0x126204a10>"
      ]
     },
     "execution_count": 22,
     "metadata": {},
     "output_type": "execute_result"
    }
   ],
   "source": [
    "# group tz data and list of system\n",
    "by_tz_os= cframe.groupby(['tz', 'os'])\n",
    "by_tz_os"
   ]
  },
  {
   "cell_type": "code",
   "execution_count": 23,
   "id": "cd75855d",
   "metadata": {},
   "outputs": [
    {
     "data": {
      "text/html": [
       "<div>\n",
       "<style scoped>\n",
       "    .dataframe tbody tr th:only-of-type {\n",
       "        vertical-align: middle;\n",
       "    }\n",
       "\n",
       "    .dataframe tbody tr th {\n",
       "        vertical-align: top;\n",
       "    }\n",
       "\n",
       "    .dataframe thead th {\n",
       "        text-align: right;\n",
       "    }\n",
       "</style>\n",
       "<table border=\"1\" class=\"dataframe\">\n",
       "  <thead>\n",
       "    <tr style=\"text-align: right;\">\n",
       "      <th>os</th>\n",
       "      <th>Not Windows</th>\n",
       "      <th>Windows</th>\n",
       "    </tr>\n",
       "    <tr>\n",
       "      <th>tz</th>\n",
       "      <th></th>\n",
       "      <th></th>\n",
       "    </tr>\n",
       "  </thead>\n",
       "  <tbody>\n",
       "    <tr>\n",
       "      <th></th>\n",
       "      <td>245.0</td>\n",
       "      <td>276.0</td>\n",
       "    </tr>\n",
       "    <tr>\n",
       "      <th>Africa/Cairo</th>\n",
       "      <td>0.0</td>\n",
       "      <td>3.0</td>\n",
       "    </tr>\n",
       "    <tr>\n",
       "      <th>Africa/Casablanca</th>\n",
       "      <td>0.0</td>\n",
       "      <td>1.0</td>\n",
       "    </tr>\n",
       "    <tr>\n",
       "      <th>Africa/Ceuta</th>\n",
       "      <td>0.0</td>\n",
       "      <td>2.0</td>\n",
       "    </tr>\n",
       "    <tr>\n",
       "      <th>Africa/Johannesburg</th>\n",
       "      <td>0.0</td>\n",
       "      <td>1.0</td>\n",
       "    </tr>\n",
       "  </tbody>\n",
       "</table>\n",
       "</div>"
      ],
      "text/plain": [
       "os                   Not Windows  Windows\n",
       "tz                                       \n",
       "                           245.0    276.0\n",
       "Africa/Cairo                 0.0      3.0\n",
       "Africa/Casablanca            0.0      1.0\n",
       "Africa/Ceuta                 0.0      2.0\n",
       "Africa/Johannesburg          0.0      1.0"
      ]
     },
     "execution_count": 23,
     "metadata": {},
     "output_type": "execute_result"
    }
   ],
   "source": [
    "agg_counts = by_tz_os.size().unstack().fillna(0)\n",
    "agg_counts.head()"
   ]
  },
  {
   "cell_type": "code",
   "execution_count": 24,
   "id": "bbcef7e0",
   "metadata": {},
   "outputs": [
    {
     "data": {
      "text/plain": [
       "array([24, 20, 21, 92, 87, 53, 54, 57, 26, 55])"
      ]
     },
     "execution_count": 24,
     "metadata": {},
     "output_type": "execute_result"
    }
   ],
   "source": [
    "# select top overall timezone\n",
    "indexer = agg_counts.sum('columns').argsort()\n",
    "indexer.values[:10]"
   ]
  },
  {
   "cell_type": "code",
   "execution_count": 25,
   "id": "5a8def6c",
   "metadata": {},
   "outputs": [
    {
     "data": {
      "text/html": [
       "<div>\n",
       "<style scoped>\n",
       "    .dataframe tbody tr th:only-of-type {\n",
       "        vertical-align: middle;\n",
       "    }\n",
       "\n",
       "    .dataframe tbody tr th {\n",
       "        vertical-align: top;\n",
       "    }\n",
       "\n",
       "    .dataframe thead th {\n",
       "        text-align: right;\n",
       "    }\n",
       "</style>\n",
       "<table border=\"1\" class=\"dataframe\">\n",
       "  <thead>\n",
       "    <tr style=\"text-align: right;\">\n",
       "      <th>os</th>\n",
       "      <th>Not Windows</th>\n",
       "      <th>Windows</th>\n",
       "    </tr>\n",
       "    <tr>\n",
       "      <th>tz</th>\n",
       "      <th></th>\n",
       "      <th></th>\n",
       "    </tr>\n",
       "  </thead>\n",
       "  <tbody>\n",
       "    <tr>\n",
       "      <th>America/Sao_Paulo</th>\n",
       "      <td>13.0</td>\n",
       "      <td>20.0</td>\n",
       "    </tr>\n",
       "    <tr>\n",
       "      <th>Europe/Madrid</th>\n",
       "      <td>16.0</td>\n",
       "      <td>19.0</td>\n",
       "    </tr>\n",
       "    <tr>\n",
       "      <th>Pacific/Honolulu</th>\n",
       "      <td>0.0</td>\n",
       "      <td>36.0</td>\n",
       "    </tr>\n",
       "    <tr>\n",
       "      <th>Asia/Tokyo</th>\n",
       "      <td>2.0</td>\n",
       "      <td>35.0</td>\n",
       "    </tr>\n",
       "    <tr>\n",
       "      <th>Europe/London</th>\n",
       "      <td>43.0</td>\n",
       "      <td>31.0</td>\n",
       "    </tr>\n",
       "    <tr>\n",
       "      <th>America/Denver</th>\n",
       "      <td>132.0</td>\n",
       "      <td>59.0</td>\n",
       "    </tr>\n",
       "    <tr>\n",
       "      <th>America/Los_Angeles</th>\n",
       "      <td>130.0</td>\n",
       "      <td>252.0</td>\n",
       "    </tr>\n",
       "    <tr>\n",
       "      <th>America/Chicago</th>\n",
       "      <td>115.0</td>\n",
       "      <td>285.0</td>\n",
       "    </tr>\n",
       "    <tr>\n",
       "      <th></th>\n",
       "      <td>245.0</td>\n",
       "      <td>276.0</td>\n",
       "    </tr>\n",
       "    <tr>\n",
       "      <th>America/New_York</th>\n",
       "      <td>339.0</td>\n",
       "      <td>912.0</td>\n",
       "    </tr>\n",
       "  </tbody>\n",
       "</table>\n",
       "</div>"
      ],
      "text/plain": [
       "os                   Not Windows  Windows\n",
       "tz                                       \n",
       "America/Sao_Paulo           13.0     20.0\n",
       "Europe/Madrid               16.0     19.0\n",
       "Pacific/Honolulu             0.0     36.0\n",
       "Asia/Tokyo                   2.0     35.0\n",
       "Europe/London               43.0     31.0\n",
       "America/Denver             132.0     59.0\n",
       "America/Los_Angeles        130.0    252.0\n",
       "America/Chicago            115.0    285.0\n",
       "                           245.0    276.0\n",
       "America/New_York           339.0    912.0"
      ]
     },
     "execution_count": 25,
     "metadata": {},
     "output_type": "execute_result"
    }
   ],
   "source": [
    "count_subset = agg_counts.take(indexer[-10:])\n",
    "count_subset"
   ]
  },
  {
   "cell_type": "code",
   "execution_count": 26,
   "id": "00db5dc8",
   "metadata": {},
   "outputs": [
    {
     "data": {
      "text/plain": [
       "tz\n",
       "America/New_York       1251.0\n",
       "                        521.0\n",
       "America/Chicago         400.0\n",
       "America/Los_Angeles     382.0\n",
       "America/Denver          191.0\n",
       "Europe/London            74.0\n",
       "Asia/Tokyo               37.0\n",
       "Pacific/Honolulu         36.0\n",
       "Europe/Madrid            35.0\n",
       "America/Sao_Paulo        33.0\n",
       "dtype: float64"
      ]
     },
     "execution_count": 26,
     "metadata": {},
     "output_type": "execute_result"
    }
   ],
   "source": [
    "# use nlargest giving the same result\n",
    "agg_counts.sum(axis= 'columns').nlargest(10)"
   ]
  },
  {
   "cell_type": "code",
   "execution_count": 27,
   "id": "f16a6510",
   "metadata": {},
   "outputs": [
    {
     "data": {
      "text/html": [
       "<div>\n",
       "<style scoped>\n",
       "    .dataframe tbody tr th:only-of-type {\n",
       "        vertical-align: middle;\n",
       "    }\n",
       "\n",
       "    .dataframe tbody tr th {\n",
       "        vertical-align: top;\n",
       "    }\n",
       "\n",
       "    .dataframe thead th {\n",
       "        text-align: right;\n",
       "    }\n",
       "</style>\n",
       "<table border=\"1\" class=\"dataframe\">\n",
       "  <thead>\n",
       "    <tr style=\"text-align: right;\">\n",
       "      <th></th>\n",
       "      <th>tz</th>\n",
       "      <th>os</th>\n",
       "      <th>total</th>\n",
       "    </tr>\n",
       "  </thead>\n",
       "  <tbody>\n",
       "    <tr>\n",
       "      <th>0</th>\n",
       "      <td>America/Sao_Paulo</td>\n",
       "      <td>Not Windows</td>\n",
       "      <td>13.0</td>\n",
       "    </tr>\n",
       "    <tr>\n",
       "      <th>1</th>\n",
       "      <td>America/Sao_Paulo</td>\n",
       "      <td>Windows</td>\n",
       "      <td>20.0</td>\n",
       "    </tr>\n",
       "    <tr>\n",
       "      <th>2</th>\n",
       "      <td>Europe/Madrid</td>\n",
       "      <td>Not Windows</td>\n",
       "      <td>16.0</td>\n",
       "    </tr>\n",
       "    <tr>\n",
       "      <th>3</th>\n",
       "      <td>Europe/Madrid</td>\n",
       "      <td>Windows</td>\n",
       "      <td>19.0</td>\n",
       "    </tr>\n",
       "    <tr>\n",
       "      <th>4</th>\n",
       "      <td>Pacific/Honolulu</td>\n",
       "      <td>Not Windows</td>\n",
       "      <td>0.0</td>\n",
       "    </tr>\n",
       "    <tr>\n",
       "      <th>5</th>\n",
       "      <td>Pacific/Honolulu</td>\n",
       "      <td>Windows</td>\n",
       "      <td>36.0</td>\n",
       "    </tr>\n",
       "    <tr>\n",
       "      <th>6</th>\n",
       "      <td>Asia/Tokyo</td>\n",
       "      <td>Not Windows</td>\n",
       "      <td>2.0</td>\n",
       "    </tr>\n",
       "    <tr>\n",
       "      <th>7</th>\n",
       "      <td>Asia/Tokyo</td>\n",
       "      <td>Windows</td>\n",
       "      <td>35.0</td>\n",
       "    </tr>\n",
       "    <tr>\n",
       "      <th>8</th>\n",
       "      <td>Europe/London</td>\n",
       "      <td>Not Windows</td>\n",
       "      <td>43.0</td>\n",
       "    </tr>\n",
       "    <tr>\n",
       "      <th>9</th>\n",
       "      <td>Europe/London</td>\n",
       "      <td>Windows</td>\n",
       "      <td>31.0</td>\n",
       "    </tr>\n",
       "  </tbody>\n",
       "</table>\n",
       "</div>"
      ],
      "text/plain": [
       "                  tz           os  total\n",
       "0  America/Sao_Paulo  Not Windows   13.0\n",
       "1  America/Sao_Paulo      Windows   20.0\n",
       "2      Europe/Madrid  Not Windows   16.0\n",
       "3      Europe/Madrid      Windows   19.0\n",
       "4   Pacific/Honolulu  Not Windows    0.0\n",
       "5   Pacific/Honolulu      Windows   36.0\n",
       "6         Asia/Tokyo  Not Windows    2.0\n",
       "7         Asia/Tokyo      Windows   35.0\n",
       "8      Europe/London  Not Windows   43.0\n",
       "9      Europe/London      Windows   31.0"
      ]
     },
     "execution_count": 27,
     "metadata": {},
     "output_type": "execute_result"
    }
   ],
   "source": [
    "# plot bar \n",
    "count_subset = count_subset.stack()\n",
    "count_subset.name = 'total'\n",
    "count_subset = count_subset.reset_index()\n",
    "count_subset\n",
    "count_subset.head(10)\n"
   ]
  },
  {
   "cell_type": "code",
   "execution_count": 28,
   "id": "5ddfb50d",
   "metadata": {},
   "outputs": [
    {
     "data": {
      "image/png": "[encoded data removed]",
      "text/plain": [
       "<Figure size 640x480 with 1 Axes>"
      ]
     },
     "metadata": {},
     "output_type": "display_data"
    }
   ],
   "source": [
    "sns.barplot(x='total', y='tz', hue='os', data= count_subset);"
   ]
  },
  {
   "cell_type": "code",
   "execution_count": 29,
   "id": "96bb481d",
   "metadata": {},
   "outputs": [],
   "source": [
    "# normalize group % to sum to 1\n",
    "def norm_total(group):\n",
    "    group['normed_total']= group['total'] / group['total'].sum()\n",
    "    return group\n",
    "\n",
    "results = count_subset.groupby('tz').apply(norm_total)"
   ]
  },
  {
   "cell_type": "code",
   "execution_count": 30,
   "id": "d2b48b36",
   "metadata": {},
   "outputs": [
    {
     "data": {
      "image/png": "[encoded data removed]",
      "text/plain": [
       "<Figure size 640x480 with 1 Axes>"
      ]
     },
     "metadata": {},
     "output_type": "display_data"
    }
   ],
   "source": [
    "sns.barplot(x= 'normed_total', y= 'tz', hue= 'os', data=results);"
   ]
  },
  {
   "cell_type": "code",
   "execution_count": 31,
   "id": "3500210b",
   "metadata": {},
   "outputs": [
    {
     "data": {
      "text/plain": [
       "0     0.393939\n",
       "1     0.606061\n",
       "2     0.457143\n",
       "3     0.542857\n",
       "4     0.000000\n",
       "5     1.000000\n",
       "6     0.054054\n",
       "7     0.945946\n",
       "8     0.581081\n",
       "9     0.418919\n",
       "10    0.691099\n",
       "11    0.308901\n",
       "12    0.340314\n",
       "13    0.659686\n",
       "14    0.287500\n",
       "15    0.712500\n",
       "16    0.470250\n",
       "17    0.529750\n",
       "18    0.270983\n",
       "19    0.729017\n",
       "Name: total, dtype: float64"
      ]
     },
     "execution_count": 31,
     "metadata": {},
     "output_type": "execute_result"
    }
   ],
   "source": [
    "# another way to normalize sum\n",
    "g = count_subset.groupby('tz')\n",
    "results2 = count_subset['total'] / g['total'].transform('sum')\n",
    "results2"
   ]
  },
  {
   "cell_type": "code",
   "execution_count": 32,
   "id": "79719bd6",
   "metadata": {},
   "outputs": [],
   "source": [
    "## movieLens 1M dataset\n",
    "unames = [\"user_id\", \"gender\", \"age\", \"occupation\", \"zip\"]\n",
    "users = pd.read_table(\"examples/users.dat\", sep=\"::\",\n",
    "                      header=None, names=unames, engine=\"python\")\n",
    "\n",
    "rnames = [\"user_id\", \"movie_id\", \"rating\", \"timestamp\"]\n",
    "ratings = pd.read_table(\"examples/ratings.dat\", sep=\"::\",\n",
    "                        header=None, names=rnames, engine=\"python\")\n",
    "\n",
    "mnames = [\"movie_id\", \"title\", \"genres\"]\n",
    "movies = pd.read_table(\"examples/movies.dat\", sep=\"::\",\n",
    "                       header=None, names=mnames, engine=\"python\")"
   ]
  },
  {
   "cell_type": "code",
   "execution_count": 33,
   "id": "e75aaf65",
   "metadata": {},
   "outputs": [
    {
     "data": {
      "text/html": [
       "<div>\n",
       "<style scoped>\n",
       "    .dataframe tbody tr th:only-of-type {\n",
       "        vertical-align: middle;\n",
       "    }\n",
       "\n",
       "    .dataframe tbody tr th {\n",
       "        vertical-align: top;\n",
       "    }\n",
       "\n",
       "    .dataframe thead th {\n",
       "        text-align: right;\n",
       "    }\n",
       "</style>\n",
       "<table border=\"1\" class=\"dataframe\">\n",
       "  <thead>\n",
       "    <tr style=\"text-align: right;\">\n",
       "      <th></th>\n",
       "      <th>user_id</th>\n",
       "      <th>gender</th>\n",
       "      <th>age</th>\n",
       "      <th>occupation</th>\n",
       "      <th>zip</th>\n",
       "    </tr>\n",
       "  </thead>\n",
       "  <tbody>\n",
       "    <tr>\n",
       "      <th>0</th>\n",
       "      <td>1</td>\n",
       "      <td>F</td>\n",
       "      <td>1</td>\n",
       "      <td>10</td>\n",
       "      <td>48067</td>\n",
       "    </tr>\n",
       "    <tr>\n",
       "      <th>1</th>\n",
       "      <td>2</td>\n",
       "      <td>M</td>\n",
       "      <td>56</td>\n",
       "      <td>16</td>\n",
       "      <td>70072</td>\n",
       "    </tr>\n",
       "    <tr>\n",
       "      <th>2</th>\n",
       "      <td>3</td>\n",
       "      <td>M</td>\n",
       "      <td>25</td>\n",
       "      <td>15</td>\n",
       "      <td>55117</td>\n",
       "    </tr>\n",
       "    <tr>\n",
       "      <th>3</th>\n",
       "      <td>4</td>\n",
       "      <td>M</td>\n",
       "      <td>45</td>\n",
       "      <td>7</td>\n",
       "      <td>02460</td>\n",
       "    </tr>\n",
       "    <tr>\n",
       "      <th>4</th>\n",
       "      <td>5</td>\n",
       "      <td>M</td>\n",
       "      <td>25</td>\n",
       "      <td>20</td>\n",
       "      <td>55455</td>\n",
       "    </tr>\n",
       "  </tbody>\n",
       "</table>\n",
       "</div>"
      ],
      "text/plain": [
       "   user_id gender  age  occupation    zip\n",
       "0        1      F    1          10  48067\n",
       "1        2      M   56          16  70072\n",
       "2        3      M   25          15  55117\n",
       "3        4      M   45           7  02460\n",
       "4        5      M   25          20  55455"
      ]
     },
     "execution_count": 33,
     "metadata": {},
     "output_type": "execute_result"
    }
   ],
   "source": [
    "# look at data\n",
    "users.head()"
   ]
  },
  {
   "cell_type": "code",
   "execution_count": 34,
   "id": "6dde4453",
   "metadata": {},
   "outputs": [
    {
     "data": {
      "text/html": [
       "<div>\n",
       "<style scoped>\n",
       "    .dataframe tbody tr th:only-of-type {\n",
       "        vertical-align: middle;\n",
       "    }\n",
       "\n",
       "    .dataframe tbody tr th {\n",
       "        vertical-align: top;\n",
       "    }\n",
       "\n",
       "    .dataframe thead th {\n",
       "        text-align: right;\n",
       "    }\n",
       "</style>\n",
       "<table border=\"1\" class=\"dataframe\">\n",
       "  <thead>\n",
       "    <tr style=\"text-align: right;\">\n",
       "      <th></th>\n",
       "      <th>user_id</th>\n",
       "      <th>movie_id</th>\n",
       "      <th>rating</th>\n",
       "      <th>timestamp</th>\n",
       "    </tr>\n",
       "  </thead>\n",
       "  <tbody>\n",
       "    <tr>\n",
       "      <th>0</th>\n",
       "      <td>1</td>\n",
       "      <td>1193</td>\n",
       "      <td>5</td>\n",
       "      <td>978300760</td>\n",
       "    </tr>\n",
       "    <tr>\n",
       "      <th>1</th>\n",
       "      <td>1</td>\n",
       "      <td>661</td>\n",
       "      <td>3</td>\n",
       "      <td>978302109</td>\n",
       "    </tr>\n",
       "    <tr>\n",
       "      <th>2</th>\n",
       "      <td>1</td>\n",
       "      <td>914</td>\n",
       "      <td>3</td>\n",
       "      <td>978301968</td>\n",
       "    </tr>\n",
       "    <tr>\n",
       "      <th>3</th>\n",
       "      <td>1</td>\n",
       "      <td>3408</td>\n",
       "      <td>4</td>\n",
       "      <td>978300275</td>\n",
       "    </tr>\n",
       "    <tr>\n",
       "      <th>4</th>\n",
       "      <td>1</td>\n",
       "      <td>2355</td>\n",
       "      <td>5</td>\n",
       "      <td>978824291</td>\n",
       "    </tr>\n",
       "  </tbody>\n",
       "</table>\n",
       "</div>"
      ],
      "text/plain": [
       "   user_id  movie_id  rating  timestamp\n",
       "0        1      1193       5  978300760\n",
       "1        1       661       3  978302109\n",
       "2        1       914       3  978301968\n",
       "3        1      3408       4  978300275\n",
       "4        1      2355       5  978824291"
      ]
     },
     "execution_count": 34,
     "metadata": {},
     "output_type": "execute_result"
    }
   ],
   "source": [
    "ratings.head()"
   ]
  },
  {
   "cell_type": "code",
   "execution_count": 35,
   "id": "732c9569",
   "metadata": {},
   "outputs": [
    {
     "data": {
      "text/html": [
       "<div>\n",
       "<style scoped>\n",
       "    .dataframe tbody tr th:only-of-type {\n",
       "        vertical-align: middle;\n",
       "    }\n",
       "\n",
       "    .dataframe tbody tr th {\n",
       "        vertical-align: top;\n",
       "    }\n",
       "\n",
       "    .dataframe thead th {\n",
       "        text-align: right;\n",
       "    }\n",
       "</style>\n",
       "<table border=\"1\" class=\"dataframe\">\n",
       "  <thead>\n",
       "    <tr style=\"text-align: right;\">\n",
       "      <th></th>\n",
       "      <th>movie_id</th>\n",
       "      <th>title</th>\n",
       "      <th>genres</th>\n",
       "    </tr>\n",
       "  </thead>\n",
       "  <tbody>\n",
       "    <tr>\n",
       "      <th>0</th>\n",
       "      <td>1</td>\n",
       "      <td>Toy Story (1995)</td>\n",
       "      <td>Animation|Children's|Comedy</td>\n",
       "    </tr>\n",
       "    <tr>\n",
       "      <th>1</th>\n",
       "      <td>2</td>\n",
       "      <td>Jumanji (1995)</td>\n",
       "      <td>Adventure|Children's|Fantasy</td>\n",
       "    </tr>\n",
       "    <tr>\n",
       "      <th>2</th>\n",
       "      <td>3</td>\n",
       "      <td>Grumpier Old Men (1995)</td>\n",
       "      <td>Comedy|Romance</td>\n",
       "    </tr>\n",
       "    <tr>\n",
       "      <th>3</th>\n",
       "      <td>4</td>\n",
       "      <td>Waiting to Exhale (1995)</td>\n",
       "      <td>Comedy|Drama</td>\n",
       "    </tr>\n",
       "    <tr>\n",
       "      <th>4</th>\n",
       "      <td>5</td>\n",
       "      <td>Father of the Bride Part II (1995)</td>\n",
       "      <td>Comedy</td>\n",
       "    </tr>\n",
       "  </tbody>\n",
       "</table>\n",
       "</div>"
      ],
      "text/plain": [
       "   movie_id                               title                        genres\n",
       "0         1                    Toy Story (1995)   Animation|Children's|Comedy\n",
       "1         2                      Jumanji (1995)  Adventure|Children's|Fantasy\n",
       "2         3             Grumpier Old Men (1995)                Comedy|Romance\n",
       "3         4            Waiting to Exhale (1995)                  Comedy|Drama\n",
       "4         5  Father of the Bride Part II (1995)                        Comedy"
      ]
     },
     "execution_count": 35,
     "metadata": {},
     "output_type": "execute_result"
    }
   ],
   "source": [
    "movies.head()"
   ]
  },
  {
   "cell_type": "code",
   "execution_count": 36,
   "id": "8cdb24f8",
   "metadata": {},
   "outputs": [
    {
     "data": {
      "text/html": [
       "<div>\n",
       "<style scoped>\n",
       "    .dataframe tbody tr th:only-of-type {\n",
       "        vertical-align: middle;\n",
       "    }\n",
       "\n",
       "    .dataframe tbody tr th {\n",
       "        vertical-align: top;\n",
       "    }\n",
       "\n",
       "    .dataframe thead th {\n",
       "        text-align: right;\n",
       "    }\n",
       "</style>\n",
       "<table border=\"1\" class=\"dataframe\">\n",
       "  <thead>\n",
       "    <tr style=\"text-align: right;\">\n",
       "      <th></th>\n",
       "      <th>user_id</th>\n",
       "      <th>movie_id</th>\n",
       "      <th>rating</th>\n",
       "      <th>timestamp</th>\n",
       "      <th>gender</th>\n",
       "      <th>age</th>\n",
       "      <th>occupation</th>\n",
       "      <th>zip</th>\n",
       "      <th>title</th>\n",
       "      <th>genres</th>\n",
       "    </tr>\n",
       "  </thead>\n",
       "  <tbody>\n",
       "    <tr>\n",
       "      <th>0</th>\n",
       "      <td>1</td>\n",
       "      <td>1193</td>\n",
       "      <td>5</td>\n",
       "      <td>978300760</td>\n",
       "      <td>F</td>\n",
       "      <td>1</td>\n",
       "      <td>10</td>\n",
       "      <td>48067</td>\n",
       "      <td>One Flew Over the Cuckoo's Nest (1975)</td>\n",
       "      <td>Drama</td>\n",
       "    </tr>\n",
       "    <tr>\n",
       "      <th>1</th>\n",
       "      <td>2</td>\n",
       "      <td>1193</td>\n",
       "      <td>5</td>\n",
       "      <td>978298413</td>\n",
       "      <td>M</td>\n",
       "      <td>56</td>\n",
       "      <td>16</td>\n",
       "      <td>70072</td>\n",
       "      <td>One Flew Over the Cuckoo's Nest (1975)</td>\n",
       "      <td>Drama</td>\n",
       "    </tr>\n",
       "    <tr>\n",
       "      <th>2</th>\n",
       "      <td>12</td>\n",
       "      <td>1193</td>\n",
       "      <td>4</td>\n",
       "      <td>978220179</td>\n",
       "      <td>M</td>\n",
       "      <td>25</td>\n",
       "      <td>12</td>\n",
       "      <td>32793</td>\n",
       "      <td>One Flew Over the Cuckoo's Nest (1975)</td>\n",
       "      <td>Drama</td>\n",
       "    </tr>\n",
       "    <tr>\n",
       "      <th>3</th>\n",
       "      <td>15</td>\n",
       "      <td>1193</td>\n",
       "      <td>4</td>\n",
       "      <td>978199279</td>\n",
       "      <td>M</td>\n",
       "      <td>25</td>\n",
       "      <td>7</td>\n",
       "      <td>22903</td>\n",
       "      <td>One Flew Over the Cuckoo's Nest (1975)</td>\n",
       "      <td>Drama</td>\n",
       "    </tr>\n",
       "    <tr>\n",
       "      <th>4</th>\n",
       "      <td>17</td>\n",
       "      <td>1193</td>\n",
       "      <td>5</td>\n",
       "      <td>978158471</td>\n",
       "      <td>M</td>\n",
       "      <td>50</td>\n",
       "      <td>1</td>\n",
       "      <td>95350</td>\n",
       "      <td>One Flew Over the Cuckoo's Nest (1975)</td>\n",
       "      <td>Drama</td>\n",
       "    </tr>\n",
       "    <tr>\n",
       "      <th>...</th>\n",
       "      <td>...</td>\n",
       "      <td>...</td>\n",
       "      <td>...</td>\n",
       "      <td>...</td>\n",
       "      <td>...</td>\n",
       "      <td>...</td>\n",
       "      <td>...</td>\n",
       "      <td>...</td>\n",
       "      <td>...</td>\n",
       "      <td>...</td>\n",
       "    </tr>\n",
       "    <tr>\n",
       "      <th>1000204</th>\n",
       "      <td>5949</td>\n",
       "      <td>2198</td>\n",
       "      <td>5</td>\n",
       "      <td>958846401</td>\n",
       "      <td>M</td>\n",
       "      <td>18</td>\n",
       "      <td>17</td>\n",
       "      <td>47901</td>\n",
       "      <td>Modulations (1998)</td>\n",
       "      <td>Documentary</td>\n",
       "    </tr>\n",
       "    <tr>\n",
       "      <th>1000205</th>\n",
       "      <td>5675</td>\n",
       "      <td>2703</td>\n",
       "      <td>3</td>\n",
       "      <td>976029116</td>\n",
       "      <td>M</td>\n",
       "      <td>35</td>\n",
       "      <td>14</td>\n",
       "      <td>30030</td>\n",
       "      <td>Broken Vessels (1998)</td>\n",
       "      <td>Drama</td>\n",
       "    </tr>\n",
       "    <tr>\n",
       "      <th>1000206</th>\n",
       "      <td>5780</td>\n",
       "      <td>2845</td>\n",
       "      <td>1</td>\n",
       "      <td>958153068</td>\n",
       "      <td>M</td>\n",
       "      <td>18</td>\n",
       "      <td>17</td>\n",
       "      <td>92886</td>\n",
       "      <td>White Boys (1999)</td>\n",
       "      <td>Drama</td>\n",
       "    </tr>\n",
       "    <tr>\n",
       "      <th>1000207</th>\n",
       "      <td>5851</td>\n",
       "      <td>3607</td>\n",
       "      <td>5</td>\n",
       "      <td>957756608</td>\n",
       "      <td>F</td>\n",
       "      <td>18</td>\n",
       "      <td>20</td>\n",
       "      <td>55410</td>\n",
       "      <td>One Little Indian (1973)</td>\n",
       "      <td>Comedy|Drama|Western</td>\n",
       "    </tr>\n",
       "    <tr>\n",
       "      <th>1000208</th>\n",
       "      <td>5938</td>\n",
       "      <td>2909</td>\n",
       "      <td>4</td>\n",
       "      <td>957273353</td>\n",
       "      <td>M</td>\n",
       "      <td>25</td>\n",
       "      <td>1</td>\n",
       "      <td>35401</td>\n",
       "      <td>Five Wives, Three Secretaries and Me (1998)</td>\n",
       "      <td>Documentary</td>\n",
       "    </tr>\n",
       "  </tbody>\n",
       "</table>\n",
       "<p>1000209 rows × 10 columns</p>\n",
       "</div>"
      ],
      "text/plain": [
       "         user_id  movie_id  rating  timestamp gender  age  occupation    zip  \\\n",
       "0              1      1193       5  978300760      F    1          10  48067   \n",
       "1              2      1193       5  978298413      M   56          16  70072   \n",
       "2             12      1193       4  978220179      M   25          12  32793   \n",
       "3             15      1193       4  978199279      M   25           7  22903   \n",
       "4             17      1193       5  978158471      M   50           1  95350   \n",
       "...          ...       ...     ...        ...    ...  ...         ...    ...   \n",
       "1000204     5949      2198       5  958846401      M   18          17  47901   \n",
       "1000205     5675      2703       3  976029116      M   35          14  30030   \n",
       "1000206     5780      2845       1  958153068      M   18          17  92886   \n",
       "1000207     5851      3607       5  957756608      F   18          20  55410   \n",
       "1000208     5938      2909       4  957273353      M   25           1  35401   \n",
       "\n",
       "                                               title                genres  \n",
       "0             One Flew Over the Cuckoo's Nest (1975)                 Drama  \n",
       "1             One Flew Over the Cuckoo's Nest (1975)                 Drama  \n",
       "2             One Flew Over the Cuckoo's Nest (1975)                 Drama  \n",
       "3             One Flew Over the Cuckoo's Nest (1975)                 Drama  \n",
       "4             One Flew Over the Cuckoo's Nest (1975)                 Drama  \n",
       "...                                              ...                   ...  \n",
       "1000204                           Modulations (1998)           Documentary  \n",
       "1000205                        Broken Vessels (1998)                 Drama  \n",
       "1000206                            White Boys (1999)                 Drama  \n",
       "1000207                     One Little Indian (1973)  Comedy|Drama|Western  \n",
       "1000208  Five Wives, Three Secretaries and Me (1998)           Documentary  \n",
       "\n",
       "[1000209 rows x 10 columns]"
      ]
     },
     "execution_count": 36,
     "metadata": {},
     "output_type": "execute_result"
    }
   ],
   "source": [
    "# merge data\n",
    "data = pd.merge(pd.merge(ratings, users), movies)\n",
    "data"
   ]
  },
  {
   "cell_type": "code",
   "execution_count": 37,
   "id": "354a3d30",
   "metadata": {},
   "outputs": [
    {
     "data": {
      "text/plain": [
       "user_id                                            1\n",
       "movie_id                                        1193\n",
       "rating                                             5\n",
       "timestamp                                  978300760\n",
       "gender                                             F\n",
       "age                                                1\n",
       "occupation                                        10\n",
       "zip                                            48067\n",
       "title         One Flew Over the Cuckoo's Nest (1975)\n",
       "genres                                         Drama\n",
       "Name: 0, dtype: object"
      ]
     },
     "execution_count": 37,
     "metadata": {},
     "output_type": "execute_result"
    }
   ],
   "source": [
    "data.iloc[0]"
   ]
  },
  {
   "cell_type": "code",
   "execution_count": 38,
   "id": "ed110705",
   "metadata": {},
   "outputs": [
    {
     "data": {
      "text/html": [
       "<div>\n",
       "<style scoped>\n",
       "    .dataframe tbody tr th:only-of-type {\n",
       "        vertical-align: middle;\n",
       "    }\n",
       "\n",
       "    .dataframe tbody tr th {\n",
       "        vertical-align: top;\n",
       "    }\n",
       "\n",
       "    .dataframe thead th {\n",
       "        text-align: right;\n",
       "    }\n",
       "</style>\n",
       "<table border=\"1\" class=\"dataframe\">\n",
       "  <thead>\n",
       "    <tr style=\"text-align: right;\">\n",
       "      <th>gender</th>\n",
       "      <th>F</th>\n",
       "      <th>M</th>\n",
       "    </tr>\n",
       "    <tr>\n",
       "      <th>title</th>\n",
       "      <th></th>\n",
       "      <th></th>\n",
       "    </tr>\n",
       "  </thead>\n",
       "  <tbody>\n",
       "    <tr>\n",
       "      <th>$1,000,000 Duck (1971)</th>\n",
       "      <td>3.375000</td>\n",
       "      <td>2.761905</td>\n",
       "    </tr>\n",
       "    <tr>\n",
       "      <th>'Night Mother (1986)</th>\n",
       "      <td>3.388889</td>\n",
       "      <td>3.352941</td>\n",
       "    </tr>\n",
       "    <tr>\n",
       "      <th>'Til There Was You (1997)</th>\n",
       "      <td>2.675676</td>\n",
       "      <td>2.733333</td>\n",
       "    </tr>\n",
       "    <tr>\n",
       "      <th>'burbs, The (1989)</th>\n",
       "      <td>2.793478</td>\n",
       "      <td>2.962085</td>\n",
       "    </tr>\n",
       "    <tr>\n",
       "      <th>...And Justice for All (1979)</th>\n",
       "      <td>3.828571</td>\n",
       "      <td>3.689024</td>\n",
       "    </tr>\n",
       "  </tbody>\n",
       "</table>\n",
       "</div>"
      ],
      "text/plain": [
       "gender                                F         M\n",
       "title                                            \n",
       "$1,000,000 Duck (1971)         3.375000  2.761905\n",
       "'Night Mother (1986)           3.388889  3.352941\n",
       "'Til There Was You (1997)      2.675676  2.733333\n",
       "'burbs, The (1989)             2.793478  2.962085\n",
       "...And Justice for All (1979)  3.828571  3.689024"
      ]
     },
     "execution_count": 38,
     "metadata": {},
     "output_type": "execute_result"
    }
   ],
   "source": [
    "# get mean ratings for each film grouped by gender using pivot table\n",
    "mean_ratings = data.pivot_table('rating', index='title',\n",
    "                               columns='gender', aggfunc='mean')\n",
    "mean_ratings.head()"
   ]
  },
  {
   "cell_type": "code",
   "execution_count": 39,
   "id": "5b408e91",
   "metadata": {},
   "outputs": [
    {
     "data": {
      "text/plain": [
       "title\n",
       "$1,000,000 Duck (1971)            37\n",
       "'Night Mother (1986)              70\n",
       "'Til There Was You (1997)         52\n",
       "'burbs, The (1989)               303\n",
       "...And Justice for All (1979)    199\n",
       "dtype: int64"
      ]
     },
     "execution_count": 39,
     "metadata": {},
     "output_type": "execute_result"
    }
   ],
   "source": [
    "# group data by title and group size\n",
    "ratings_by_title = data.groupby('title').size()\n",
    "ratings_by_title.head()"
   ]
  },
  {
   "cell_type": "code",
   "execution_count": 40,
   "id": "c6c9432e",
   "metadata": {},
   "outputs": [
    {
     "data": {
      "text/plain": [
       "Index([''burbs, The (1989)', '10 Things I Hate About You (1999)',\n",
       "       '101 Dalmatians (1961)', '101 Dalmatians (1996)', '12 Angry Men (1957)',\n",
       "       '13th Warrior, The (1999)', '2 Days in the Valley (1996)',\n",
       "       '20,000 Leagues Under the Sea (1954)', '2001: A Space Odyssey (1968)',\n",
       "       '2010 (1984)',\n",
       "       ...\n",
       "       'X-Men (2000)', 'Year of Living Dangerously (1982)',\n",
       "       'Yellow Submarine (1968)', 'You've Got Mail (1998)',\n",
       "       'Young Frankenstein (1974)', 'Young Guns (1988)',\n",
       "       'Young Guns II (1990)', 'Young Sherlock Holmes (1985)',\n",
       "       'Zero Effect (1998)', 'eXistenZ (1999)'],\n",
       "      dtype='object', name='title', length=1216)"
      ]
     },
     "execution_count": 40,
     "metadata": {},
     "output_type": "execute_result"
    }
   ],
   "source": [
    "# filter just titles with >= 250 ratings\n",
    "active_titles = ratings_by_title.index[ratings_by_title >= 250]\n",
    "active_titles"
   ]
  },
  {
   "cell_type": "code",
   "execution_count": 41,
   "id": "214df419",
   "metadata": {},
   "outputs": [
    {
     "data": {
      "text/html": [
       "<div>\n",
       "<style scoped>\n",
       "    .dataframe tbody tr th:only-of-type {\n",
       "        vertical-align: middle;\n",
       "    }\n",
       "\n",
       "    .dataframe tbody tr th {\n",
       "        vertical-align: top;\n",
       "    }\n",
       "\n",
       "    .dataframe thead th {\n",
       "        text-align: right;\n",
       "    }\n",
       "</style>\n",
       "<table border=\"1\" class=\"dataframe\">\n",
       "  <thead>\n",
       "    <tr style=\"text-align: right;\">\n",
       "      <th>gender</th>\n",
       "      <th>F</th>\n",
       "      <th>M</th>\n",
       "    </tr>\n",
       "    <tr>\n",
       "      <th>title</th>\n",
       "      <th></th>\n",
       "      <th></th>\n",
       "    </tr>\n",
       "  </thead>\n",
       "  <tbody>\n",
       "    <tr>\n",
       "      <th>'burbs, The (1989)</th>\n",
       "      <td>2.793478</td>\n",
       "      <td>2.962085</td>\n",
       "    </tr>\n",
       "    <tr>\n",
       "      <th>10 Things I Hate About You (1999)</th>\n",
       "      <td>3.646552</td>\n",
       "      <td>3.311966</td>\n",
       "    </tr>\n",
       "    <tr>\n",
       "      <th>101 Dalmatians (1961)</th>\n",
       "      <td>3.791444</td>\n",
       "      <td>3.500000</td>\n",
       "    </tr>\n",
       "    <tr>\n",
       "      <th>101 Dalmatians (1996)</th>\n",
       "      <td>3.240000</td>\n",
       "      <td>2.911215</td>\n",
       "    </tr>\n",
       "    <tr>\n",
       "      <th>12 Angry Men (1957)</th>\n",
       "      <td>4.184397</td>\n",
       "      <td>4.328421</td>\n",
       "    </tr>\n",
       "    <tr>\n",
       "      <th>...</th>\n",
       "      <td>...</td>\n",
       "      <td>...</td>\n",
       "    </tr>\n",
       "    <tr>\n",
       "      <th>Young Guns (1988)</th>\n",
       "      <td>3.371795</td>\n",
       "      <td>3.425620</td>\n",
       "    </tr>\n",
       "    <tr>\n",
       "      <th>Young Guns II (1990)</th>\n",
       "      <td>2.934783</td>\n",
       "      <td>2.904025</td>\n",
       "    </tr>\n",
       "    <tr>\n",
       "      <th>Young Sherlock Holmes (1985)</th>\n",
       "      <td>3.514706</td>\n",
       "      <td>3.363344</td>\n",
       "    </tr>\n",
       "    <tr>\n",
       "      <th>Zero Effect (1998)</th>\n",
       "      <td>3.864407</td>\n",
       "      <td>3.723140</td>\n",
       "    </tr>\n",
       "    <tr>\n",
       "      <th>eXistenZ (1999)</th>\n",
       "      <td>3.098592</td>\n",
       "      <td>3.289086</td>\n",
       "    </tr>\n",
       "  </tbody>\n",
       "</table>\n",
       "<p>1216 rows × 2 columns</p>\n",
       "</div>"
      ],
      "text/plain": [
       "gender                                    F         M\n",
       "title                                                \n",
       "'burbs, The (1989)                 2.793478  2.962085\n",
       "10 Things I Hate About You (1999)  3.646552  3.311966\n",
       "101 Dalmatians (1961)              3.791444  3.500000\n",
       "101 Dalmatians (1996)              3.240000  2.911215\n",
       "12 Angry Men (1957)                4.184397  4.328421\n",
       "...                                     ...       ...\n",
       "Young Guns (1988)                  3.371795  3.425620\n",
       "Young Guns II (1990)               2.934783  2.904025\n",
       "Young Sherlock Holmes (1985)       3.514706  3.363344\n",
       "Zero Effect (1998)                 3.864407  3.723140\n",
       "eXistenZ (1999)                    3.098592  3.289086\n",
       "\n",
       "[1216 rows x 2 columns]"
      ]
     },
     "execution_count": 41,
     "metadata": {},
     "output_type": "execute_result"
    }
   ],
   "source": [
    "# use the titles to select rows from mean_ratings\n",
    "mean_ratings = mean_ratings.loc[active_titles]\n",
    "mean_ratings"
   ]
  },
  {
   "cell_type": "code",
   "execution_count": 42,
   "id": "8858fd14",
   "metadata": {},
   "outputs": [
    {
     "data": {
      "text/html": [
       "<div>\n",
       "<style scoped>\n",
       "    .dataframe tbody tr th:only-of-type {\n",
       "        vertical-align: middle;\n",
       "    }\n",
       "\n",
       "    .dataframe tbody tr th {\n",
       "        vertical-align: top;\n",
       "    }\n",
       "\n",
       "    .dataframe thead th {\n",
       "        text-align: right;\n",
       "    }\n",
       "</style>\n",
       "<table border=\"1\" class=\"dataframe\">\n",
       "  <thead>\n",
       "    <tr style=\"text-align: right;\">\n",
       "      <th>gender</th>\n",
       "      <th>F</th>\n",
       "      <th>M</th>\n",
       "    </tr>\n",
       "    <tr>\n",
       "      <th>title</th>\n",
       "      <th></th>\n",
       "      <th></th>\n",
       "    </tr>\n",
       "  </thead>\n",
       "  <tbody>\n",
       "    <tr>\n",
       "      <th>Close Shave, A (1995)</th>\n",
       "      <td>4.644444</td>\n",
       "      <td>4.473795</td>\n",
       "    </tr>\n",
       "    <tr>\n",
       "      <th>Wrong Trousers, The (1993)</th>\n",
       "      <td>4.588235</td>\n",
       "      <td>4.478261</td>\n",
       "    </tr>\n",
       "    <tr>\n",
       "      <th>Sunset Blvd. (a.k.a. Sunset Boulevard) (1950)</th>\n",
       "      <td>4.572650</td>\n",
       "      <td>4.464589</td>\n",
       "    </tr>\n",
       "    <tr>\n",
       "      <th>Wallace &amp; Gromit: The Best of Aardman Animation (1996)</th>\n",
       "      <td>4.563107</td>\n",
       "      <td>4.385075</td>\n",
       "    </tr>\n",
       "    <tr>\n",
       "      <th>Schindler's List (1993)</th>\n",
       "      <td>4.562602</td>\n",
       "      <td>4.491415</td>\n",
       "    </tr>\n",
       "  </tbody>\n",
       "</table>\n",
       "</div>"
      ],
      "text/plain": [
       "gender                                                     F         M\n",
       "title                                                                 \n",
       "Close Shave, A (1995)                               4.644444  4.473795\n",
       "Wrong Trousers, The (1993)                          4.588235  4.478261\n",
       "Sunset Blvd. (a.k.a. Sunset Boulevard) (1950)       4.572650  4.464589\n",
       "Wallace & Gromit: The Best of Aardman Animation...  4.563107  4.385075\n",
       "Schindler's List (1993)                             4.562602  4.491415"
      ]
     },
     "execution_count": 42,
     "metadata": {},
     "output_type": "execute_result"
    }
   ],
   "source": [
    "# see top films among female viewers - sort by F column\n",
    "top_female_ratings = mean_ratings.sort_values('F', ascending=False)\n",
    "top_female_ratings.head()"
   ]
  },
  {
   "cell_type": "code",
   "execution_count": 43,
   "id": "fd29e517",
   "metadata": {},
   "outputs": [
    {
     "data": {
      "text/html": [
       "<div>\n",
       "<style scoped>\n",
       "    .dataframe tbody tr th:only-of-type {\n",
       "        vertical-align: middle;\n",
       "    }\n",
       "\n",
       "    .dataframe tbody tr th {\n",
       "        vertical-align: top;\n",
       "    }\n",
       "\n",
       "    .dataframe thead th {\n",
       "        text-align: right;\n",
       "    }\n",
       "</style>\n",
       "<table border=\"1\" class=\"dataframe\">\n",
       "  <thead>\n",
       "    <tr style=\"text-align: right;\">\n",
       "      <th>gender</th>\n",
       "      <th>F</th>\n",
       "      <th>M</th>\n",
       "      <th>diff</th>\n",
       "    </tr>\n",
       "    <tr>\n",
       "      <th>title</th>\n",
       "      <th></th>\n",
       "      <th></th>\n",
       "      <th></th>\n",
       "    </tr>\n",
       "  </thead>\n",
       "  <tbody>\n",
       "    <tr>\n",
       "      <th>Dirty Dancing (1987)</th>\n",
       "      <td>3.790378</td>\n",
       "      <td>2.959596</td>\n",
       "      <td>-0.830782</td>\n",
       "    </tr>\n",
       "    <tr>\n",
       "      <th>Jumpin' Jack Flash (1986)</th>\n",
       "      <td>3.254717</td>\n",
       "      <td>2.578358</td>\n",
       "      <td>-0.676359</td>\n",
       "    </tr>\n",
       "    <tr>\n",
       "      <th>Grease (1978)</th>\n",
       "      <td>3.975265</td>\n",
       "      <td>3.367041</td>\n",
       "      <td>-0.608224</td>\n",
       "    </tr>\n",
       "    <tr>\n",
       "      <th>Little Women (1994)</th>\n",
       "      <td>3.870588</td>\n",
       "      <td>3.321739</td>\n",
       "      <td>-0.548849</td>\n",
       "    </tr>\n",
       "    <tr>\n",
       "      <th>Steel Magnolias (1989)</th>\n",
       "      <td>3.901734</td>\n",
       "      <td>3.365957</td>\n",
       "      <td>-0.535777</td>\n",
       "    </tr>\n",
       "  </tbody>\n",
       "</table>\n",
       "</div>"
      ],
      "text/plain": [
       "gender                            F         M      diff\n",
       "title                                                  \n",
       "Dirty Dancing (1987)       3.790378  2.959596 -0.830782\n",
       "Jumpin' Jack Flash (1986)  3.254717  2.578358 -0.676359\n",
       "Grease (1978)              3.975265  3.367041 -0.608224\n",
       "Little Women (1994)        3.870588  3.321739 -0.548849\n",
       "Steel Magnolias (1989)     3.901734  3.365957 -0.535777"
      ]
     },
     "execution_count": 43,
     "metadata": {},
     "output_type": "execute_result"
    }
   ],
   "source": [
    "# find movies that most divisive btw M and F - add a column for difference\n",
    "# see which one is prefered by W\n",
    "mean_ratings['diff'] = mean_ratings['M'] - mean_ratings['F']\n",
    "\n",
    "# sort by difference\n",
    "sorted_by_diff = mean_ratings.sort_values('diff')\n",
    "sorted_by_diff.head()"
   ]
  },
  {
   "cell_type": "code",
   "execution_count": 44,
   "id": "8c5e06df",
   "metadata": {},
   "outputs": [
    {
     "data": {
      "text/html": [
       "<div>\n",
       "<style scoped>\n",
       "    .dataframe tbody tr th:only-of-type {\n",
       "        vertical-align: middle;\n",
       "    }\n",
       "\n",
       "    .dataframe tbody tr th {\n",
       "        vertical-align: top;\n",
       "    }\n",
       "\n",
       "    .dataframe thead th {\n",
       "        text-align: right;\n",
       "    }\n",
       "</style>\n",
       "<table border=\"1\" class=\"dataframe\">\n",
       "  <thead>\n",
       "    <tr style=\"text-align: right;\">\n",
       "      <th>gender</th>\n",
       "      <th>F</th>\n",
       "      <th>M</th>\n",
       "      <th>diff</th>\n",
       "    </tr>\n",
       "    <tr>\n",
       "      <th>title</th>\n",
       "      <th></th>\n",
       "      <th></th>\n",
       "      <th></th>\n",
       "    </tr>\n",
       "  </thead>\n",
       "  <tbody>\n",
       "    <tr>\n",
       "      <th>Good, The Bad and The Ugly, The (1966)</th>\n",
       "      <td>3.494949</td>\n",
       "      <td>4.221300</td>\n",
       "      <td>0.726351</td>\n",
       "    </tr>\n",
       "    <tr>\n",
       "      <th>Kentucky Fried Movie, The (1977)</th>\n",
       "      <td>2.878788</td>\n",
       "      <td>3.555147</td>\n",
       "      <td>0.676359</td>\n",
       "    </tr>\n",
       "    <tr>\n",
       "      <th>Dumb &amp; Dumber (1994)</th>\n",
       "      <td>2.697987</td>\n",
       "      <td>3.336595</td>\n",
       "      <td>0.638608</td>\n",
       "    </tr>\n",
       "    <tr>\n",
       "      <th>Longest Day, The (1962)</th>\n",
       "      <td>3.411765</td>\n",
       "      <td>4.031447</td>\n",
       "      <td>0.619682</td>\n",
       "    </tr>\n",
       "    <tr>\n",
       "      <th>Cable Guy, The (1996)</th>\n",
       "      <td>2.250000</td>\n",
       "      <td>2.863787</td>\n",
       "      <td>0.613787</td>\n",
       "    </tr>\n",
       "  </tbody>\n",
       "</table>\n",
       "</div>"
      ],
      "text/plain": [
       "gender                                         F         M      diff\n",
       "title                                                               \n",
       "Good, The Bad and The Ugly, The (1966)  3.494949  4.221300  0.726351\n",
       "Kentucky Fried Movie, The (1977)        2.878788  3.555147  0.676359\n",
       "Dumb & Dumber (1994)                    2.697987  3.336595  0.638608\n",
       "Longest Day, The (1962)                 3.411765  4.031447  0.619682\n",
       "Cable Guy, The (1996)                   2.250000  2.863787  0.613787"
      ]
     },
     "execution_count": 44,
     "metadata": {},
     "output_type": "execute_result"
    }
   ],
   "source": [
    "# get movies prefered by M - reverse the order of rows\n",
    "sorted_by_diff[::-1].head()"
   ]
  },
  {
   "cell_type": "code",
   "execution_count": 45,
   "id": "cb34ac37",
   "metadata": {},
   "outputs": [
    {
     "data": {
      "text/plain": [
       "title\n",
       "'burbs, The (1989)                   1.107760\n",
       "10 Things I Hate About You (1999)    0.989815\n",
       "101 Dalmatians (1961)                0.982103\n",
       "101 Dalmatians (1996)                1.098717\n",
       "12 Angry Men (1957)                  0.812731\n",
       "Name: rating, dtype: float64"
      ]
     },
     "execution_count": 45,
     "metadata": {},
     "output_type": "execute_result"
    }
   ],
   "source": [
    "# find variance and standard deviation of ratings\n",
    "# compute rating std by title then filter down active title\n",
    "rating_std_by_title = data.groupby('title')['rating'].std()\n",
    "rating_std_by_title = rating_std_by_title.loc[active_titles]\n",
    "rating_std_by_title.head()"
   ]
  },
  {
   "cell_type": "code",
   "execution_count": 46,
   "id": "afef3f8d",
   "metadata": {},
   "outputs": [
    {
     "data": {
      "text/plain": [
       "title\n",
       "Dumb & Dumber (1994)                     1.321333\n",
       "Blair Witch Project, The (1999)          1.316368\n",
       "Natural Born Killers (1994)              1.307198\n",
       "Tank Girl (1995)                         1.277695\n",
       "Rocky Horror Picture Show, The (1975)    1.260177\n",
       "Eyes Wide Shut (1999)                    1.259624\n",
       "Evita (1996)                             1.253631\n",
       "Billy Madison (1995)                     1.249970\n",
       "Fear and Loathing in Las Vegas (1998)    1.246408\n",
       "Bicentennial Man (1999)                  1.245533\n",
       "Name: rating, dtype: float64"
      ]
     },
     "execution_count": 46,
     "metadata": {},
     "output_type": "execute_result"
    }
   ],
   "source": [
    "# 10 most divisively rated movies\n",
    "rating_std_by_title.sort_values(ascending=False)[:10]"
   ]
  },
  {
   "cell_type": "code",
   "execution_count": 47,
   "id": "3236af50",
   "metadata": {},
   "outputs": [
    {
     "data": {
      "text/plain": [
       "0     Animation|Children's|Comedy\n",
       "1    Adventure|Children's|Fantasy\n",
       "2                  Comedy|Romance\n",
       "3                    Comedy|Drama\n",
       "4                          Comedy\n",
       "Name: genres, dtype: object"
      ]
     },
     "execution_count": 47,
     "metadata": {},
     "output_type": "execute_result"
    }
   ],
   "source": [
    "# use explode method to split genre string into list\n",
    "movies['genres'].head()"
   ]
  },
  {
   "cell_type": "code",
   "execution_count": 48,
   "id": "35347a7f",
   "metadata": {},
   "outputs": [
    {
     "data": {
      "text/plain": [
       "0     [Animation, Children's, Comedy]\n",
       "1    [Adventure, Children's, Fantasy]\n",
       "2                   [Comedy, Romance]\n",
       "3                     [Comedy, Drama]\n",
       "4                            [Comedy]\n",
       "Name: genres, dtype: object"
      ]
     },
     "execution_count": 48,
     "metadata": {},
     "output_type": "execute_result"
    }
   ],
   "source": [
    "movies['genres'].head().str.split(\"|\")"
   ]
  },
  {
   "cell_type": "code",
   "execution_count": 49,
   "id": "02bcc589",
   "metadata": {},
   "outputs": [
    {
     "data": {
      "text/html": [
       "<div>\n",
       "<style scoped>\n",
       "    .dataframe tbody tr th:only-of-type {\n",
       "        vertical-align: middle;\n",
       "    }\n",
       "\n",
       "    .dataframe tbody tr th {\n",
       "        vertical-align: top;\n",
       "    }\n",
       "\n",
       "    .dataframe thead th {\n",
       "        text-align: right;\n",
       "    }\n",
       "</style>\n",
       "<table border=\"1\" class=\"dataframe\">\n",
       "  <thead>\n",
       "    <tr style=\"text-align: right;\">\n",
       "      <th></th>\n",
       "      <th>movie_id</th>\n",
       "      <th>title</th>\n",
       "      <th>genre</th>\n",
       "    </tr>\n",
       "  </thead>\n",
       "  <tbody>\n",
       "    <tr>\n",
       "      <th>0</th>\n",
       "      <td>1</td>\n",
       "      <td>Toy Story (1995)</td>\n",
       "      <td>[Animation, Children's, Comedy]</td>\n",
       "    </tr>\n",
       "    <tr>\n",
       "      <th>1</th>\n",
       "      <td>2</td>\n",
       "      <td>Jumanji (1995)</td>\n",
       "      <td>[Adventure, Children's, Fantasy]</td>\n",
       "    </tr>\n",
       "    <tr>\n",
       "      <th>2</th>\n",
       "      <td>3</td>\n",
       "      <td>Grumpier Old Men (1995)</td>\n",
       "      <td>[Comedy, Romance]</td>\n",
       "    </tr>\n",
       "    <tr>\n",
       "      <th>3</th>\n",
       "      <td>4</td>\n",
       "      <td>Waiting to Exhale (1995)</td>\n",
       "      <td>[Comedy, Drama]</td>\n",
       "    </tr>\n",
       "    <tr>\n",
       "      <th>4</th>\n",
       "      <td>5</td>\n",
       "      <td>Father of the Bride Part II (1995)</td>\n",
       "      <td>[Comedy]</td>\n",
       "    </tr>\n",
       "  </tbody>\n",
       "</table>\n",
       "</div>"
      ],
      "text/plain": [
       "   movie_id                               title  \\\n",
       "0         1                    Toy Story (1995)   \n",
       "1         2                      Jumanji (1995)   \n",
       "2         3             Grumpier Old Men (1995)   \n",
       "3         4            Waiting to Exhale (1995)   \n",
       "4         5  Father of the Bride Part II (1995)   \n",
       "\n",
       "                              genre  \n",
       "0   [Animation, Children's, Comedy]  \n",
       "1  [Adventure, Children's, Fantasy]  \n",
       "2                 [Comedy, Romance]  \n",
       "3                   [Comedy, Drama]  \n",
       "4                          [Comedy]  "
      ]
     },
     "execution_count": 49,
     "metadata": {},
     "output_type": "execute_result"
    }
   ],
   "source": [
    "movies['genre'] = movies.pop('genres').str.split(\"|\")\n",
    "movies.head()"
   ]
  },
  {
   "cell_type": "code",
   "execution_count": 50,
   "id": "143c2092",
   "metadata": {},
   "outputs": [
    {
     "data": {
      "text/html": [
       "<div>\n",
       "<style scoped>\n",
       "    .dataframe tbody tr th:only-of-type {\n",
       "        vertical-align: middle;\n",
       "    }\n",
       "\n",
       "    .dataframe tbody tr th {\n",
       "        vertical-align: top;\n",
       "    }\n",
       "\n",
       "    .dataframe thead th {\n",
       "        text-align: right;\n",
       "    }\n",
       "</style>\n",
       "<table border=\"1\" class=\"dataframe\">\n",
       "  <thead>\n",
       "    <tr style=\"text-align: right;\">\n",
       "      <th></th>\n",
       "      <th>movie_id</th>\n",
       "      <th>title</th>\n",
       "      <th>genre</th>\n",
       "    </tr>\n",
       "  </thead>\n",
       "  <tbody>\n",
       "    <tr>\n",
       "      <th>0</th>\n",
       "      <td>1</td>\n",
       "      <td>Toy Story (1995)</td>\n",
       "      <td>Animation</td>\n",
       "    </tr>\n",
       "    <tr>\n",
       "      <th>0</th>\n",
       "      <td>1</td>\n",
       "      <td>Toy Story (1995)</td>\n",
       "      <td>Children's</td>\n",
       "    </tr>\n",
       "    <tr>\n",
       "      <th>0</th>\n",
       "      <td>1</td>\n",
       "      <td>Toy Story (1995)</td>\n",
       "      <td>Comedy</td>\n",
       "    </tr>\n",
       "    <tr>\n",
       "      <th>1</th>\n",
       "      <td>2</td>\n",
       "      <td>Jumanji (1995)</td>\n",
       "      <td>Adventure</td>\n",
       "    </tr>\n",
       "    <tr>\n",
       "      <th>1</th>\n",
       "      <td>2</td>\n",
       "      <td>Jumanji (1995)</td>\n",
       "      <td>Children's</td>\n",
       "    </tr>\n",
       "    <tr>\n",
       "      <th>1</th>\n",
       "      <td>2</td>\n",
       "      <td>Jumanji (1995)</td>\n",
       "      <td>Fantasy</td>\n",
       "    </tr>\n",
       "    <tr>\n",
       "      <th>2</th>\n",
       "      <td>3</td>\n",
       "      <td>Grumpier Old Men (1995)</td>\n",
       "      <td>Comedy</td>\n",
       "    </tr>\n",
       "    <tr>\n",
       "      <th>2</th>\n",
       "      <td>3</td>\n",
       "      <td>Grumpier Old Men (1995)</td>\n",
       "      <td>Romance</td>\n",
       "    </tr>\n",
       "    <tr>\n",
       "      <th>3</th>\n",
       "      <td>4</td>\n",
       "      <td>Waiting to Exhale (1995)</td>\n",
       "      <td>Comedy</td>\n",
       "    </tr>\n",
       "    <tr>\n",
       "      <th>3</th>\n",
       "      <td>4</td>\n",
       "      <td>Waiting to Exhale (1995)</td>\n",
       "      <td>Drama</td>\n",
       "    </tr>\n",
       "  </tbody>\n",
       "</table>\n",
       "</div>"
      ],
      "text/plain": [
       "   movie_id                     title       genre\n",
       "0         1          Toy Story (1995)   Animation\n",
       "0         1          Toy Story (1995)  Children's\n",
       "0         1          Toy Story (1995)      Comedy\n",
       "1         2            Jumanji (1995)   Adventure\n",
       "1         2            Jumanji (1995)  Children's\n",
       "1         2            Jumanji (1995)     Fantasy\n",
       "2         3   Grumpier Old Men (1995)      Comedy\n",
       "2         3   Grumpier Old Men (1995)     Romance\n",
       "3         4  Waiting to Exhale (1995)      Comedy\n",
       "3         4  Waiting to Exhale (1995)       Drama"
      ]
     },
     "execution_count": 50,
     "metadata": {},
     "output_type": "execute_result"
    }
   ],
   "source": [
    "# explode generate a new dataframe\n",
    "movies_exploded = movies.explode('genre')\n",
    "movies_exploded[:10]"
   ]
  },
  {
   "cell_type": "code",
   "execution_count": 51,
   "id": "8a389d39",
   "metadata": {},
   "outputs": [
    {
     "data": {
      "text/plain": [
       "movie_id                     1\n",
       "title         Toy Story (1995)\n",
       "genre                Animation\n",
       "user_id                      1\n",
       "rating                       5\n",
       "timestamp            978824268\n",
       "gender                       F\n",
       "age                          1\n",
       "occupation                  10\n",
       "zip                      48067\n",
       "Name: 0, dtype: object"
      ]
     },
     "execution_count": 51,
     "metadata": {},
     "output_type": "execute_result"
    }
   ],
   "source": [
    "# merge all 3 tables and group by genre\n",
    "ratings_with_genre = pd.merge(pd.merge(movies_exploded, ratings), users)\n",
    "ratings_with_genre.iloc[0]"
   ]
  },
  {
   "cell_type": "code",
   "execution_count": 52,
   "id": "aae422da",
   "metadata": {},
   "outputs": [
    {
     "data": {
      "text/html": [
       "<div>\n",
       "<style scoped>\n",
       "    .dataframe tbody tr th:only-of-type {\n",
       "        vertical-align: middle;\n",
       "    }\n",
       "\n",
       "    .dataframe tbody tr th {\n",
       "        vertical-align: top;\n",
       "    }\n",
       "\n",
       "    .dataframe thead th {\n",
       "        text-align: right;\n",
       "    }\n",
       "</style>\n",
       "<table border=\"1\" class=\"dataframe\">\n",
       "  <thead>\n",
       "    <tr style=\"text-align: right;\">\n",
       "      <th></th>\n",
       "      <th>movie_id</th>\n",
       "      <th>title</th>\n",
       "      <th>genre</th>\n",
       "      <th>user_id</th>\n",
       "      <th>rating</th>\n",
       "      <th>timestamp</th>\n",
       "      <th>gender</th>\n",
       "      <th>age</th>\n",
       "      <th>occupation</th>\n",
       "      <th>zip</th>\n",
       "    </tr>\n",
       "  </thead>\n",
       "  <tbody>\n",
       "    <tr>\n",
       "      <th>0</th>\n",
       "      <td>1</td>\n",
       "      <td>Toy Story (1995)</td>\n",
       "      <td>Animation</td>\n",
       "      <td>1</td>\n",
       "      <td>5</td>\n",
       "      <td>978824268</td>\n",
       "      <td>F</td>\n",
       "      <td>1</td>\n",
       "      <td>10</td>\n",
       "      <td>48067</td>\n",
       "    </tr>\n",
       "    <tr>\n",
       "      <th>1</th>\n",
       "      <td>1</td>\n",
       "      <td>Toy Story (1995)</td>\n",
       "      <td>Children's</td>\n",
       "      <td>1</td>\n",
       "      <td>5</td>\n",
       "      <td>978824268</td>\n",
       "      <td>F</td>\n",
       "      <td>1</td>\n",
       "      <td>10</td>\n",
       "      <td>48067</td>\n",
       "    </tr>\n",
       "    <tr>\n",
       "      <th>2</th>\n",
       "      <td>1</td>\n",
       "      <td>Toy Story (1995)</td>\n",
       "      <td>Comedy</td>\n",
       "      <td>1</td>\n",
       "      <td>5</td>\n",
       "      <td>978824268</td>\n",
       "      <td>F</td>\n",
       "      <td>1</td>\n",
       "      <td>10</td>\n",
       "      <td>48067</td>\n",
       "    </tr>\n",
       "    <tr>\n",
       "      <th>3</th>\n",
       "      <td>48</td>\n",
       "      <td>Pocahontas (1995)</td>\n",
       "      <td>Animation</td>\n",
       "      <td>1</td>\n",
       "      <td>5</td>\n",
       "      <td>978824351</td>\n",
       "      <td>F</td>\n",
       "      <td>1</td>\n",
       "      <td>10</td>\n",
       "      <td>48067</td>\n",
       "    </tr>\n",
       "    <tr>\n",
       "      <th>4</th>\n",
       "      <td>48</td>\n",
       "      <td>Pocahontas (1995)</td>\n",
       "      <td>Children's</td>\n",
       "      <td>1</td>\n",
       "      <td>5</td>\n",
       "      <td>978824351</td>\n",
       "      <td>F</td>\n",
       "      <td>1</td>\n",
       "      <td>10</td>\n",
       "      <td>48067</td>\n",
       "    </tr>\n",
       "  </tbody>\n",
       "</table>\n",
       "</div>"
      ],
      "text/plain": [
       "   movie_id              title       genre  user_id  rating  timestamp gender  \\\n",
       "0         1   Toy Story (1995)   Animation        1       5  978824268      F   \n",
       "1         1   Toy Story (1995)  Children's        1       5  978824268      F   \n",
       "2         1   Toy Story (1995)      Comedy        1       5  978824268      F   \n",
       "3        48  Pocahontas (1995)   Animation        1       5  978824351      F   \n",
       "4        48  Pocahontas (1995)  Children's        1       5  978824351      F   \n",
       "\n",
       "   age  occupation    zip  \n",
       "0    1          10  48067  \n",
       "1    1          10  48067  \n",
       "2    1          10  48067  \n",
       "3    1          10  48067  \n",
       "4    1          10  48067  "
      ]
     },
     "execution_count": 52,
     "metadata": {},
     "output_type": "execute_result"
    }
   ],
   "source": [
    "ratings_with_genre.head()"
   ]
  },
  {
   "cell_type": "code",
   "execution_count": 53,
   "id": "d08c27c8",
   "metadata": {},
   "outputs": [
    {
     "data": {
      "text/html": [
       "<div>\n",
       "<style scoped>\n",
       "    .dataframe tbody tr th:only-of-type {\n",
       "        vertical-align: middle;\n",
       "    }\n",
       "\n",
       "    .dataframe tbody tr th {\n",
       "        vertical-align: top;\n",
       "    }\n",
       "\n",
       "    .dataframe thead th {\n",
       "        text-align: right;\n",
       "    }\n",
       "</style>\n",
       "<table border=\"1\" class=\"dataframe\">\n",
       "  <thead>\n",
       "    <tr style=\"text-align: right;\">\n",
       "      <th>age</th>\n",
       "      <th>1</th>\n",
       "      <th>18</th>\n",
       "      <th>25</th>\n",
       "      <th>35</th>\n",
       "      <th>45</th>\n",
       "      <th>50</th>\n",
       "      <th>56</th>\n",
       "    </tr>\n",
       "    <tr>\n",
       "      <th>genre</th>\n",
       "      <th></th>\n",
       "      <th></th>\n",
       "      <th></th>\n",
       "      <th></th>\n",
       "      <th></th>\n",
       "      <th></th>\n",
       "      <th></th>\n",
       "    </tr>\n",
       "  </thead>\n",
       "  <tbody>\n",
       "    <tr>\n",
       "      <th>Action</th>\n",
       "      <td>3.506385</td>\n",
       "      <td>3.447097</td>\n",
       "      <td>3.453358</td>\n",
       "      <td>3.538107</td>\n",
       "      <td>3.528543</td>\n",
       "      <td>3.611333</td>\n",
       "      <td>3.610709</td>\n",
       "    </tr>\n",
       "    <tr>\n",
       "      <th>Adventure</th>\n",
       "      <td>3.449975</td>\n",
       "      <td>3.408525</td>\n",
       "      <td>3.443163</td>\n",
       "      <td>3.515291</td>\n",
       "      <td>3.528963</td>\n",
       "      <td>3.628163</td>\n",
       "      <td>3.649064</td>\n",
       "    </tr>\n",
       "    <tr>\n",
       "      <th>Animation</th>\n",
       "      <td>3.476113</td>\n",
       "      <td>3.624014</td>\n",
       "      <td>3.701228</td>\n",
       "      <td>3.740545</td>\n",
       "      <td>3.734856</td>\n",
       "      <td>3.780020</td>\n",
       "      <td>3.756233</td>\n",
       "    </tr>\n",
       "    <tr>\n",
       "      <th>Children's</th>\n",
       "      <td>3.241642</td>\n",
       "      <td>3.294257</td>\n",
       "      <td>3.426873</td>\n",
       "      <td>3.518423</td>\n",
       "      <td>3.527593</td>\n",
       "      <td>3.556555</td>\n",
       "      <td>3.621822</td>\n",
       "    </tr>\n",
       "    <tr>\n",
       "      <th>Comedy</th>\n",
       "      <td>3.497491</td>\n",
       "      <td>3.460417</td>\n",
       "      <td>3.490385</td>\n",
       "      <td>3.561984</td>\n",
       "      <td>3.591789</td>\n",
       "      <td>3.646868</td>\n",
       "      <td>3.650949</td>\n",
       "    </tr>\n",
       "    <tr>\n",
       "      <th>Crime</th>\n",
       "      <td>3.710170</td>\n",
       "      <td>3.668054</td>\n",
       "      <td>3.680321</td>\n",
       "      <td>3.733736</td>\n",
       "      <td>3.750661</td>\n",
       "      <td>3.810688</td>\n",
       "      <td>3.832549</td>\n",
       "    </tr>\n",
       "    <tr>\n",
       "      <th>Documentary</th>\n",
       "      <td>3.730769</td>\n",
       "      <td>3.865865</td>\n",
       "      <td>3.946690</td>\n",
       "      <td>3.953747</td>\n",
       "      <td>3.966521</td>\n",
       "      <td>3.908108</td>\n",
       "      <td>3.961538</td>\n",
       "    </tr>\n",
       "    <tr>\n",
       "      <th>Drama</th>\n",
       "      <td>3.794735</td>\n",
       "      <td>3.721930</td>\n",
       "      <td>3.726428</td>\n",
       "      <td>3.782512</td>\n",
       "      <td>3.784356</td>\n",
       "      <td>3.878415</td>\n",
       "      <td>3.933465</td>\n",
       "    </tr>\n",
       "    <tr>\n",
       "      <th>Fantasy</th>\n",
       "      <td>3.317647</td>\n",
       "      <td>3.353778</td>\n",
       "      <td>3.452484</td>\n",
       "      <td>3.482301</td>\n",
       "      <td>3.532468</td>\n",
       "      <td>3.581570</td>\n",
       "      <td>3.532700</td>\n",
       "    </tr>\n",
       "    <tr>\n",
       "      <th>Film-Noir</th>\n",
       "      <td>4.145455</td>\n",
       "      <td>3.997368</td>\n",
       "      <td>4.058725</td>\n",
       "      <td>4.064910</td>\n",
       "      <td>4.105376</td>\n",
       "      <td>4.175401</td>\n",
       "      <td>4.125932</td>\n",
       "    </tr>\n",
       "  </tbody>\n",
       "</table>\n",
       "</div>"
      ],
      "text/plain": [
       "age                1         18        25        35        45        50  \\\n",
       "genre                                                                     \n",
       "Action       3.506385  3.447097  3.453358  3.538107  3.528543  3.611333   \n",
       "Adventure    3.449975  3.408525  3.443163  3.515291  3.528963  3.628163   \n",
       "Animation    3.476113  3.624014  3.701228  3.740545  3.734856  3.780020   \n",
       "Children's   3.241642  3.294257  3.426873  3.518423  3.527593  3.556555   \n",
       "Comedy       3.497491  3.460417  3.490385  3.561984  3.591789  3.646868   \n",
       "Crime        3.710170  3.668054  3.680321  3.733736  3.750661  3.810688   \n",
       "Documentary  3.730769  3.865865  3.946690  3.953747  3.966521  3.908108   \n",
       "Drama        3.794735  3.721930  3.726428  3.782512  3.784356  3.878415   \n",
       "Fantasy      3.317647  3.353778  3.452484  3.482301  3.532468  3.581570   \n",
       "Film-Noir    4.145455  3.997368  4.058725  4.064910  4.105376  4.175401   \n",
       "\n",
       "age                56  \n",
       "genre                  \n",
       "Action       3.610709  \n",
       "Adventure    3.649064  \n",
       "Animation    3.756233  \n",
       "Children's   3.621822  \n",
       "Comedy       3.650949  \n",
       "Crime        3.832549  \n",
       "Documentary  3.961538  \n",
       "Drama        3.933465  \n",
       "Fantasy      3.532700  \n",
       "Film-Noir    4.125932  "
      ]
     },
     "execution_count": 53,
     "metadata": {},
     "output_type": "execute_result"
    }
   ],
   "source": [
    "genre_ratings = (ratings_with_genre.groupby(['genre', 'age'])\n",
    "                ['rating'].mean()\n",
    "                .unstack('age'))\n",
    "genre_ratings[:10]"
   ]
  },
  {
   "cell_type": "code",
   "execution_count": 89,
   "id": "4fc31620",
   "metadata": {},
   "outputs": [
    {
     "name": "stdout",
     "output_type": "stream",
     "text": [
      "Mary,F,7065\r",
      "\r\n",
      "Anna,F,2604\r",
      "\r\n",
      "Emma,F,2003\r",
      "\r\n",
      "Elizabeth,F,1939\r",
      "\r\n",
      "Minnie,F,1746\r",
      "\r\n",
      "Margaret,F,1578\r",
      "\r\n",
      "Ida,F,1472\r",
      "\r\n",
      "Alice,F,1414\r",
      "\r\n",
      "Bertha,F,1320\r",
      "\r\n",
      "Sarah,F,1288\r",
      "\r\n"
     ]
    }
   ],
   "source": [
    "# US BABY NAMES 1880-2010\n",
    "# look at first 10 in a file\n",
    "!head -n 10 examples/names/yob1880.txt"
   ]
  },
  {
   "cell_type": "code",
   "execution_count": 124,
   "id": "902b9e72",
   "metadata": {},
   "outputs": [
    {
     "data": {
      "text/html": [
       "<div>\n",
       "<style scoped>\n",
       "    .dataframe tbody tr th:only-of-type {\n",
       "        vertical-align: middle;\n",
       "    }\n",
       "\n",
       "    .dataframe tbody tr th {\n",
       "        vertical-align: top;\n",
       "    }\n",
       "\n",
       "    .dataframe thead th {\n",
       "        text-align: right;\n",
       "    }\n",
       "</style>\n",
       "<table border=\"1\" class=\"dataframe\">\n",
       "  <thead>\n",
       "    <tr style=\"text-align: right;\">\n",
       "      <th></th>\n",
       "      <th>name</th>\n",
       "      <th>sex</th>\n",
       "      <th>births</th>\n",
       "    </tr>\n",
       "  </thead>\n",
       "  <tbody>\n",
       "    <tr>\n",
       "      <th>0</th>\n",
       "      <td>Mary</td>\n",
       "      <td>F</td>\n",
       "      <td>7065</td>\n",
       "    </tr>\n",
       "    <tr>\n",
       "      <th>1</th>\n",
       "      <td>Anna</td>\n",
       "      <td>F</td>\n",
       "      <td>2604</td>\n",
       "    </tr>\n",
       "    <tr>\n",
       "      <th>2</th>\n",
       "      <td>Emma</td>\n",
       "      <td>F</td>\n",
       "      <td>2003</td>\n",
       "    </tr>\n",
       "    <tr>\n",
       "      <th>3</th>\n",
       "      <td>Elizabeth</td>\n",
       "      <td>F</td>\n",
       "      <td>1939</td>\n",
       "    </tr>\n",
       "    <tr>\n",
       "      <th>4</th>\n",
       "      <td>Minnie</td>\n",
       "      <td>F</td>\n",
       "      <td>1746</td>\n",
       "    </tr>\n",
       "    <tr>\n",
       "      <th>...</th>\n",
       "      <td>...</td>\n",
       "      <td>...</td>\n",
       "      <td>...</td>\n",
       "    </tr>\n",
       "    <tr>\n",
       "      <th>1995</th>\n",
       "      <td>Woodie</td>\n",
       "      <td>M</td>\n",
       "      <td>5</td>\n",
       "    </tr>\n",
       "    <tr>\n",
       "      <th>1996</th>\n",
       "      <td>Worthy</td>\n",
       "      <td>M</td>\n",
       "      <td>5</td>\n",
       "    </tr>\n",
       "    <tr>\n",
       "      <th>1997</th>\n",
       "      <td>Wright</td>\n",
       "      <td>M</td>\n",
       "      <td>5</td>\n",
       "    </tr>\n",
       "    <tr>\n",
       "      <th>1998</th>\n",
       "      <td>York</td>\n",
       "      <td>M</td>\n",
       "      <td>5</td>\n",
       "    </tr>\n",
       "    <tr>\n",
       "      <th>1999</th>\n",
       "      <td>Zachariah</td>\n",
       "      <td>M</td>\n",
       "      <td>5</td>\n",
       "    </tr>\n",
       "  </tbody>\n",
       "</table>\n",
       "<p>2000 rows × 3 columns</p>\n",
       "</div>"
      ],
      "text/plain": [
       "           name sex  births\n",
       "0          Mary   F    7065\n",
       "1          Anna   F    2604\n",
       "2          Emma   F    2003\n",
       "3     Elizabeth   F    1939\n",
       "4        Minnie   F    1746\n",
       "...         ...  ..     ...\n",
       "1995     Woodie   M       5\n",
       "1996     Worthy   M       5\n",
       "1997     Wright   M       5\n",
       "1998       York   M       5\n",
       "1999  Zachariah   M       5\n",
       "\n",
       "[2000 rows x 3 columns]"
      ]
     },
     "execution_count": 124,
     "metadata": {},
     "output_type": "execute_result"
    }
   ],
   "source": [
    "# load to dataframe\n",
    "names1880 = pd.read_csv('examples/names/yob1880.txt',\n",
    "                       names=['name', 'sex', 'births'])\n",
    "names1880"
   ]
  },
  {
   "cell_type": "code",
   "execution_count": 125,
   "id": "a6cf4bcb",
   "metadata": {},
   "outputs": [
    {
     "data": {
      "text/plain": [
       "sex\n",
       "F     90994\n",
       "M    110490\n",
       "Name: births, dtype: int64"
      ]
     },
     "execution_count": 125,
     "metadata": {},
     "output_type": "execute_result"
    }
   ],
   "source": [
    "#sum of births by sex = total number of births\n",
    "names1880.groupby('sex')['births'].sum()"
   ]
  },
  {
   "cell_type": "code",
   "execution_count": 126,
   "id": "4266e571",
   "metadata": {},
   "outputs": [
    {
     "data": {
      "text/html": [
       "<div>\n",
       "<style scoped>\n",
       "    .dataframe tbody tr th:only-of-type {\n",
       "        vertical-align: middle;\n",
       "    }\n",
       "\n",
       "    .dataframe tbody tr th {\n",
       "        vertical-align: top;\n",
       "    }\n",
       "\n",
       "    .dataframe thead th {\n",
       "        text-align: right;\n",
       "    }\n",
       "</style>\n",
       "<table border=\"1\" class=\"dataframe\">\n",
       "  <thead>\n",
       "    <tr style=\"text-align: right;\">\n",
       "      <th></th>\n",
       "      <th>name</th>\n",
       "      <th>sex</th>\n",
       "      <th>births</th>\n",
       "      <th>year</th>\n",
       "    </tr>\n",
       "  </thead>\n",
       "  <tbody>\n",
       "    <tr>\n",
       "      <th>0</th>\n",
       "      <td>Mary</td>\n",
       "      <td>F</td>\n",
       "      <td>7065</td>\n",
       "      <td>1880</td>\n",
       "    </tr>\n",
       "    <tr>\n",
       "      <th>1</th>\n",
       "      <td>Anna</td>\n",
       "      <td>F</td>\n",
       "      <td>2604</td>\n",
       "      <td>1880</td>\n",
       "    </tr>\n",
       "    <tr>\n",
       "      <th>2</th>\n",
       "      <td>Emma</td>\n",
       "      <td>F</td>\n",
       "      <td>2003</td>\n",
       "      <td>1880</td>\n",
       "    </tr>\n",
       "    <tr>\n",
       "      <th>3</th>\n",
       "      <td>Elizabeth</td>\n",
       "      <td>F</td>\n",
       "      <td>1939</td>\n",
       "      <td>1880</td>\n",
       "    </tr>\n",
       "    <tr>\n",
       "      <th>4</th>\n",
       "      <td>Minnie</td>\n",
       "      <td>F</td>\n",
       "      <td>1746</td>\n",
       "      <td>1880</td>\n",
       "    </tr>\n",
       "    <tr>\n",
       "      <th>...</th>\n",
       "      <td>...</td>\n",
       "      <td>...</td>\n",
       "      <td>...</td>\n",
       "      <td>...</td>\n",
       "    </tr>\n",
       "    <tr>\n",
       "      <th>1692479</th>\n",
       "      <td>Zymaire</td>\n",
       "      <td>M</td>\n",
       "      <td>5</td>\n",
       "      <td>2010</td>\n",
       "    </tr>\n",
       "    <tr>\n",
       "      <th>1692480</th>\n",
       "      <td>Zyonne</td>\n",
       "      <td>M</td>\n",
       "      <td>5</td>\n",
       "      <td>2010</td>\n",
       "    </tr>\n",
       "    <tr>\n",
       "      <th>1692481</th>\n",
       "      <td>Zyquarius</td>\n",
       "      <td>M</td>\n",
       "      <td>5</td>\n",
       "      <td>2010</td>\n",
       "    </tr>\n",
       "    <tr>\n",
       "      <th>1692482</th>\n",
       "      <td>Zyran</td>\n",
       "      <td>M</td>\n",
       "      <td>5</td>\n",
       "      <td>2010</td>\n",
       "    </tr>\n",
       "    <tr>\n",
       "      <th>1692483</th>\n",
       "      <td>Zzyzx</td>\n",
       "      <td>M</td>\n",
       "      <td>5</td>\n",
       "      <td>2010</td>\n",
       "    </tr>\n",
       "  </tbody>\n",
       "</table>\n",
       "<p>1692484 rows × 4 columns</p>\n",
       "</div>"
      ],
      "text/plain": [
       "              name sex  births  year\n",
       "0             Mary   F    7065  1880\n",
       "1             Anna   F    2604  1880\n",
       "2             Emma   F    2003  1880\n",
       "3        Elizabeth   F    1939  1880\n",
       "4           Minnie   F    1746  1880\n",
       "...            ...  ..     ...   ...\n",
       "1692479    Zymaire   M       5  2010\n",
       "1692480     Zyonne   M       5  2010\n",
       "1692481  Zyquarius   M       5  2010\n",
       "1692482      Zyran   M       5  2010\n",
       "1692483      Zzyzx   M       5  2010\n",
       "\n",
       "[1692484 rows x 4 columns]"
      ]
     },
     "execution_count": 126,
     "metadata": {},
     "output_type": "execute_result"
    }
   ],
   "source": [
    "# combine multiple files into one; and add year\n",
    "pieces = []\n",
    "for year in range(1880, 2011):\n",
    "    path = f'examples/names/yob{year}.txt'\n",
    "    frame = pd.read_csv(path, names= ['name', 'sex', 'births'])\n",
    "    \n",
    "    # add a column for the year\n",
    "    frame['year'] = year\n",
    "    pieces.append(frame)\n",
    "\n",
    "# concat into one file\n",
    "names = pd.concat(pieces, ignore_index=True)\n",
    "names"
   ]
  },
  {
   "cell_type": "code",
   "execution_count": 127,
   "id": "ed37114e",
   "metadata": {},
   "outputs": [
    {
     "data": {
      "text/html": [
       "<div>\n",
       "<style scoped>\n",
       "    .dataframe tbody tr th:only-of-type {\n",
       "        vertical-align: middle;\n",
       "    }\n",
       "\n",
       "    .dataframe tbody tr th {\n",
       "        vertical-align: top;\n",
       "    }\n",
       "\n",
       "    .dataframe thead th {\n",
       "        text-align: right;\n",
       "    }\n",
       "</style>\n",
       "<table border=\"1\" class=\"dataframe\">\n",
       "  <thead>\n",
       "    <tr style=\"text-align: right;\">\n",
       "      <th>sex</th>\n",
       "      <th>F</th>\n",
       "      <th>M</th>\n",
       "    </tr>\n",
       "    <tr>\n",
       "      <th>year</th>\n",
       "      <th></th>\n",
       "      <th></th>\n",
       "    </tr>\n",
       "  </thead>\n",
       "  <tbody>\n",
       "    <tr>\n",
       "      <th>2006</th>\n",
       "      <td>1900673</td>\n",
       "      <td>2054644</td>\n",
       "    </tr>\n",
       "    <tr>\n",
       "      <th>2007</th>\n",
       "      <td>1921941</td>\n",
       "      <td>2074707</td>\n",
       "    </tr>\n",
       "    <tr>\n",
       "      <th>2008</th>\n",
       "      <td>1890111</td>\n",
       "      <td>2039317</td>\n",
       "    </tr>\n",
       "    <tr>\n",
       "      <th>2009</th>\n",
       "      <td>1836214</td>\n",
       "      <td>1982609</td>\n",
       "    </tr>\n",
       "    <tr>\n",
       "      <th>2010</th>\n",
       "      <td>1776636</td>\n",
       "      <td>1917792</td>\n",
       "    </tr>\n",
       "  </tbody>\n",
       "</table>\n",
       "</div>"
      ],
      "text/plain": [
       "sex         F        M\n",
       "year                  \n",
       "2006  1900673  2054644\n",
       "2007  1921941  2074707\n",
       "2008  1890111  2039317\n",
       "2009  1836214  1982609\n",
       "2010  1776636  1917792"
      ]
     },
     "execution_count": 127,
     "metadata": {},
     "output_type": "execute_result"
    }
   ],
   "source": [
    "# aggregate data at year and sex\n",
    "total_births = names.pivot_table('births', index='year', columns='sex', aggfunc=sum)\n",
    "total_births.tail()"
   ]
  },
  {
   "cell_type": "code",
   "execution_count": 128,
   "id": "be5af4e8",
   "metadata": {},
   "outputs": [
    {
     "data": {
      "image/png": "[encoded data removed]",
      "text/plain": [
       "<Figure size 640x480 with 1 Axes>"
      ]
     },
     "metadata": {},
     "output_type": "display_data"
    }
   ],
   "source": [
    "total_births.plot(title= 'Total births by sex and year');"
   ]
  },
  {
   "cell_type": "code",
   "execution_count": 133,
   "id": "eafd62ca",
   "metadata": {},
   "outputs": [
    {
     "data": {
      "text/html": [
       "<div>\n",
       "<style scoped>\n",
       "    .dataframe tbody tr th:only-of-type {\n",
       "        vertical-align: middle;\n",
       "    }\n",
       "\n",
       "    .dataframe tbody tr th {\n",
       "        vertical-align: top;\n",
       "    }\n",
       "\n",
       "    .dataframe thead th {\n",
       "        text-align: right;\n",
       "    }\n",
       "</style>\n",
       "<table border=\"1\" class=\"dataframe\">\n",
       "  <thead>\n",
       "    <tr style=\"text-align: right;\">\n",
       "      <th></th>\n",
       "      <th></th>\n",
       "      <th>name</th>\n",
       "      <th>sex</th>\n",
       "      <th>births</th>\n",
       "      <th>year</th>\n",
       "      <th>prop</th>\n",
       "    </tr>\n",
       "  </thead>\n",
       "  <tbody>\n",
       "    <tr>\n",
       "      <th rowspan=\"5\" valign=\"top\">0</th>\n",
       "      <th>0</th>\n",
       "      <td>Mary</td>\n",
       "      <td>F</td>\n",
       "      <td>7065</td>\n",
       "      <td>1880</td>\n",
       "      <td>0.077642</td>\n",
       "    </tr>\n",
       "    <tr>\n",
       "      <th>1</th>\n",
       "      <td>Anna</td>\n",
       "      <td>F</td>\n",
       "      <td>2604</td>\n",
       "      <td>1880</td>\n",
       "      <td>0.028617</td>\n",
       "    </tr>\n",
       "    <tr>\n",
       "      <th>2</th>\n",
       "      <td>Emma</td>\n",
       "      <td>F</td>\n",
       "      <td>2003</td>\n",
       "      <td>1880</td>\n",
       "      <td>0.022012</td>\n",
       "    </tr>\n",
       "    <tr>\n",
       "      <th>3</th>\n",
       "      <td>Elizabeth</td>\n",
       "      <td>F</td>\n",
       "      <td>1939</td>\n",
       "      <td>1880</td>\n",
       "      <td>0.021309</td>\n",
       "    </tr>\n",
       "    <tr>\n",
       "      <th>4</th>\n",
       "      <td>Minnie</td>\n",
       "      <td>F</td>\n",
       "      <td>1746</td>\n",
       "      <td>1880</td>\n",
       "      <td>0.019188</td>\n",
       "    </tr>\n",
       "    <tr>\n",
       "      <th>...</th>\n",
       "      <th>...</th>\n",
       "      <td>...</td>\n",
       "      <td>...</td>\n",
       "      <td>...</td>\n",
       "      <td>...</td>\n",
       "      <td>...</td>\n",
       "    </tr>\n",
       "    <tr>\n",
       "      <th rowspan=\"5\" valign=\"top\">261</th>\n",
       "      <th>1692479</th>\n",
       "      <td>Zymaire</td>\n",
       "      <td>M</td>\n",
       "      <td>5</td>\n",
       "      <td>2010</td>\n",
       "      <td>0.000003</td>\n",
       "    </tr>\n",
       "    <tr>\n",
       "      <th>1692480</th>\n",
       "      <td>Zyonne</td>\n",
       "      <td>M</td>\n",
       "      <td>5</td>\n",
       "      <td>2010</td>\n",
       "      <td>0.000003</td>\n",
       "    </tr>\n",
       "    <tr>\n",
       "      <th>1692481</th>\n",
       "      <td>Zyquarius</td>\n",
       "      <td>M</td>\n",
       "      <td>5</td>\n",
       "      <td>2010</td>\n",
       "      <td>0.000003</td>\n",
       "    </tr>\n",
       "    <tr>\n",
       "      <th>1692482</th>\n",
       "      <td>Zyran</td>\n",
       "      <td>M</td>\n",
       "      <td>5</td>\n",
       "      <td>2010</td>\n",
       "      <td>0.000003</td>\n",
       "    </tr>\n",
       "    <tr>\n",
       "      <th>1692483</th>\n",
       "      <td>Zzyzx</td>\n",
       "      <td>M</td>\n",
       "      <td>5</td>\n",
       "      <td>2010</td>\n",
       "      <td>0.000003</td>\n",
       "    </tr>\n",
       "  </tbody>\n",
       "</table>\n",
       "<p>1692484 rows × 5 columns</p>\n",
       "</div>"
      ],
      "text/plain": [
       "                  name sex  births  year      prop\n",
       "0   0             Mary   F    7065  1880  0.077642\n",
       "    1             Anna   F    2604  1880  0.028617\n",
       "    2             Emma   F    2003  1880  0.022012\n",
       "    3        Elizabeth   F    1939  1880  0.021309\n",
       "    4           Minnie   F    1746  1880  0.019188\n",
       "...                ...  ..     ...   ...       ...\n",
       "261 1692479    Zymaire   M       5  2010  0.000003\n",
       "    1692480     Zyonne   M       5  2010  0.000003\n",
       "    1692481  Zyquarius   M       5  2010  0.000003\n",
       "    1692482      Zyran   M       5  2010  0.000003\n",
       "    1692483      Zzyzx   M       5  2010  0.000003\n",
       "\n",
       "[1692484 rows x 5 columns]"
      ]
     },
     "execution_count": 133,
     "metadata": {},
     "output_type": "execute_result"
    }
   ],
   "source": [
    "# add column prop - group by year and sex\n",
    "def add_prop(group):\n",
    "    group['prop'] = group['births'] / group['births'].sum()\n",
    "    return group\n",
    "\n",
    "names = names.groupby(['year', 'sex'], as_index=False).apply(add_prop)\n",
    "# names.index = names.index.droplevel()\n",
    "names"
   ]
  },
  {
   "cell_type": "code",
   "execution_count": 134,
   "id": "25427e8d",
   "metadata": {},
   "outputs": [
    {
     "data": {
      "text/plain": [
       "year  sex\n",
       "1880  F      1.0\n",
       "      M      1.0\n",
       "1881  F      1.0\n",
       "      M      1.0\n",
       "1882  F      1.0\n",
       "            ... \n",
       "2008  M      1.0\n",
       "2009  F      1.0\n",
       "      M      1.0\n",
       "2010  F      1.0\n",
       "      M      1.0\n",
       "Name: prop, Length: 262, dtype: float64"
      ]
     },
     "execution_count": 134,
     "metadata": {},
     "output_type": "execute_result"
    }
   ],
   "source": [
    "# verify prop column sum to 1\n",
    "names.index = names.index.droplevel()\n",
    "names.groupby(['year', 'sex'])['prop'].sum()"
   ]
  },
  {
   "cell_type": "code",
   "execution_count": 135,
   "id": "1d2ce423",
   "metadata": {},
   "outputs": [
    {
     "data": {
      "text/html": [
       "<div>\n",
       "<style scoped>\n",
       "    .dataframe tbody tr th:only-of-type {\n",
       "        vertical-align: middle;\n",
       "    }\n",
       "\n",
       "    .dataframe tbody tr th {\n",
       "        vertical-align: top;\n",
       "    }\n",
       "\n",
       "    .dataframe thead th {\n",
       "        text-align: right;\n",
       "    }\n",
       "</style>\n",
       "<table border=\"1\" class=\"dataframe\">\n",
       "  <thead>\n",
       "    <tr style=\"text-align: right;\">\n",
       "      <th></th>\n",
       "      <th></th>\n",
       "      <th></th>\n",
       "      <th>name</th>\n",
       "      <th>sex</th>\n",
       "      <th>births</th>\n",
       "      <th>year</th>\n",
       "      <th>prop</th>\n",
       "    </tr>\n",
       "    <tr>\n",
       "      <th>year</th>\n",
       "      <th>sex</th>\n",
       "      <th></th>\n",
       "      <th></th>\n",
       "      <th></th>\n",
       "      <th></th>\n",
       "      <th></th>\n",
       "      <th></th>\n",
       "    </tr>\n",
       "  </thead>\n",
       "  <tbody>\n",
       "    <tr>\n",
       "      <th rowspan=\"5\" valign=\"top\">1880</th>\n",
       "      <th rowspan=\"5\" valign=\"top\">F</th>\n",
       "      <th>0</th>\n",
       "      <td>Mary</td>\n",
       "      <td>F</td>\n",
       "      <td>7065</td>\n",
       "      <td>1880</td>\n",
       "      <td>0.077642</td>\n",
       "    </tr>\n",
       "    <tr>\n",
       "      <th>1</th>\n",
       "      <td>Anna</td>\n",
       "      <td>F</td>\n",
       "      <td>2604</td>\n",
       "      <td>1880</td>\n",
       "      <td>0.028617</td>\n",
       "    </tr>\n",
       "    <tr>\n",
       "      <th>2</th>\n",
       "      <td>Emma</td>\n",
       "      <td>F</td>\n",
       "      <td>2003</td>\n",
       "      <td>1880</td>\n",
       "      <td>0.022012</td>\n",
       "    </tr>\n",
       "    <tr>\n",
       "      <th>3</th>\n",
       "      <td>Elizabeth</td>\n",
       "      <td>F</td>\n",
       "      <td>1939</td>\n",
       "      <td>1880</td>\n",
       "      <td>0.021309</td>\n",
       "    </tr>\n",
       "    <tr>\n",
       "      <th>4</th>\n",
       "      <td>Minnie</td>\n",
       "      <td>F</td>\n",
       "      <td>1746</td>\n",
       "      <td>1880</td>\n",
       "      <td>0.019188</td>\n",
       "    </tr>\n",
       "  </tbody>\n",
       "</table>\n",
       "</div>"
      ],
      "text/plain": [
       "                 name sex  births  year      prop\n",
       "year sex                                         \n",
       "1880 F   0       Mary   F    7065  1880  0.077642\n",
       "         1       Anna   F    2604  1880  0.028617\n",
       "         2       Emma   F    2003  1880  0.022012\n",
       "         3  Elizabeth   F    1939  1880  0.021309\n",
       "         4     Minnie   F    1746  1880  0.019188"
      ]
     },
     "execution_count": 135,
     "metadata": {},
     "output_type": "execute_result"
    }
   ],
   "source": [
    "# extract a subset of data - top 1000 names for each sex/year combination\n",
    "def get_top1000(group):\n",
    "    return group.sort_values('births', ascending=False)[:1000]\n",
    "\n",
    "grouped = names.groupby(['year', 'sex'])\n",
    "top1000 = grouped.apply(get_top1000)\n",
    "top1000.head()"
   ]
  },
  {
   "cell_type": "code",
   "execution_count": 136,
   "id": "0a5b757a",
   "metadata": {},
   "outputs": [
    {
     "data": {
      "text/html": [
       "<div>\n",
       "<style scoped>\n",
       "    .dataframe tbody tr th:only-of-type {\n",
       "        vertical-align: middle;\n",
       "    }\n",
       "\n",
       "    .dataframe tbody tr th {\n",
       "        vertical-align: top;\n",
       "    }\n",
       "\n",
       "    .dataframe thead th {\n",
       "        text-align: right;\n",
       "    }\n",
       "</style>\n",
       "<table border=\"1\" class=\"dataframe\">\n",
       "  <thead>\n",
       "    <tr style=\"text-align: right;\">\n",
       "      <th></th>\n",
       "      <th>name</th>\n",
       "      <th>sex</th>\n",
       "      <th>births</th>\n",
       "      <th>year</th>\n",
       "      <th>prop</th>\n",
       "    </tr>\n",
       "  </thead>\n",
       "  <tbody>\n",
       "    <tr>\n",
       "      <th>0</th>\n",
       "      <td>Mary</td>\n",
       "      <td>F</td>\n",
       "      <td>7065</td>\n",
       "      <td>1880</td>\n",
       "      <td>0.077642</td>\n",
       "    </tr>\n",
       "    <tr>\n",
       "      <th>1</th>\n",
       "      <td>Anna</td>\n",
       "      <td>F</td>\n",
       "      <td>2604</td>\n",
       "      <td>1880</td>\n",
       "      <td>0.028617</td>\n",
       "    </tr>\n",
       "    <tr>\n",
       "      <th>2</th>\n",
       "      <td>Emma</td>\n",
       "      <td>F</td>\n",
       "      <td>2003</td>\n",
       "      <td>1880</td>\n",
       "      <td>0.022012</td>\n",
       "    </tr>\n",
       "    <tr>\n",
       "      <th>3</th>\n",
       "      <td>Elizabeth</td>\n",
       "      <td>F</td>\n",
       "      <td>1939</td>\n",
       "      <td>1880</td>\n",
       "      <td>0.021309</td>\n",
       "    </tr>\n",
       "    <tr>\n",
       "      <th>4</th>\n",
       "      <td>Minnie</td>\n",
       "      <td>F</td>\n",
       "      <td>1746</td>\n",
       "      <td>1880</td>\n",
       "      <td>0.019188</td>\n",
       "    </tr>\n",
       "  </tbody>\n",
       "</table>\n",
       "</div>"
      ],
      "text/plain": [
       "        name sex  births  year      prop\n",
       "0       Mary   F    7065  1880  0.077642\n",
       "1       Anna   F    2604  1880  0.028617\n",
       "2       Emma   F    2003  1880  0.022012\n",
       "3  Elizabeth   F    1939  1880  0.021309\n",
       "4     Minnie   F    1746  1880  0.019188"
      ]
     },
     "execution_count": 136,
     "metadata": {},
     "output_type": "execute_result"
    }
   ],
   "source": [
    "# drop group index\n",
    "top1000 = top1000.reset_index(drop=True)\n",
    "top1000.head()"
   ]
  },
  {
   "cell_type": "code",
   "execution_count": 141,
   "id": "d7fc0d03",
   "metadata": {},
   "outputs": [
    {
     "name": "stdout",
     "output_type": "stream",
     "text": [
      "<class 'pandas.core.frame.DataFrame'>\n",
      "Index: 131 entries, 1880 to 2010\n",
      "Columns: 6871 entries, Aaden to Zuri\n",
      "dtypes: float64(6871)\n",
      "memory usage: 6.9 MB\n"
     ]
    }
   ],
   "source": [
    "# analyze naming trends\n",
    "# split top1000 into boy and girl\n",
    "boys = top1000[top1000['sex'] == 'M']\n",
    "girls = top1000[top1000['sex'] == 'F']\n",
    "\n",
    "# manipulate before plotting\n",
    "total_births = top1000.pivot_table('births', index='year',\n",
    "                                  columns='name',\n",
    "                                  aggfunc=sum)\n",
    "\n",
    "total_births.info()"
   ]
  },
  {
   "cell_type": "code",
   "execution_count": 146,
   "id": "167e4ec2",
   "metadata": {},
   "outputs": [
    {
     "data": {
      "image/png": "[encoded data removed]",
      "text/plain": [
       "<Figure size 1200x1000 with 4 Axes>"
      ]
     },
     "metadata": {},
     "output_type": "display_data"
    }
   ],
   "source": [
    "# plot for a handful of names\n",
    "subset = total_births[['John', 'Harry', 'Mary', 'Marilyn']]\n",
    "subset.plot(subplots=True, figsize= (12,10),\n",
    "           title= 'Number of birth per year');"
   ]
  },
  {
   "cell_type": "code",
   "execution_count": 150,
   "id": "4bccdda9",
   "metadata": {},
   "outputs": [
    {
     "data": {
      "image/png": "[encoded data removed]",
      "text/plain": [
       "<Figure size 640x480 with 1 Axes>"
      ]
     },
     "metadata": {},
     "output_type": "display_data"
    }
   ],
   "source": [
    "# measure the increase in name diversity\n",
    "table = top1000.pivot_table('prop', index='year',\n",
    "                           columns='sex', aggfunc=sum)\n",
    "table.plot(title= 'Sum of table1000.prop by year and sex',\n",
    "          yticks= np.linspace(0, 1.2, 13));"
   ]
  },
  {
   "cell_type": "code",
   "execution_count": 151,
   "id": "4bcb37a7",
   "metadata": {},
   "outputs": [
    {
     "data": {
      "text/html": [
       "<div>\n",
       "<style scoped>\n",
       "    .dataframe tbody tr th:only-of-type {\n",
       "        vertical-align: middle;\n",
       "    }\n",
       "\n",
       "    .dataframe tbody tr th {\n",
       "        vertical-align: top;\n",
       "    }\n",
       "\n",
       "    .dataframe thead th {\n",
       "        text-align: right;\n",
       "    }\n",
       "</style>\n",
       "<table border=\"1\" class=\"dataframe\">\n",
       "  <thead>\n",
       "    <tr style=\"text-align: right;\">\n",
       "      <th></th>\n",
       "      <th>name</th>\n",
       "      <th>sex</th>\n",
       "      <th>births</th>\n",
       "      <th>year</th>\n",
       "      <th>prop</th>\n",
       "    </tr>\n",
       "  </thead>\n",
       "  <tbody>\n",
       "    <tr>\n",
       "      <th>260876</th>\n",
       "      <td>Jacob</td>\n",
       "      <td>M</td>\n",
       "      <td>22144</td>\n",
       "      <td>2010</td>\n",
       "      <td>0.011547</td>\n",
       "    </tr>\n",
       "    <tr>\n",
       "      <th>260877</th>\n",
       "      <td>Ethan</td>\n",
       "      <td>M</td>\n",
       "      <td>18011</td>\n",
       "      <td>2010</td>\n",
       "      <td>0.009392</td>\n",
       "    </tr>\n",
       "    <tr>\n",
       "      <th>260878</th>\n",
       "      <td>Michael</td>\n",
       "      <td>M</td>\n",
       "      <td>17374</td>\n",
       "      <td>2010</td>\n",
       "      <td>0.009059</td>\n",
       "    </tr>\n",
       "    <tr>\n",
       "      <th>260879</th>\n",
       "      <td>Jayden</td>\n",
       "      <td>M</td>\n",
       "      <td>17192</td>\n",
       "      <td>2010</td>\n",
       "      <td>0.008964</td>\n",
       "    </tr>\n",
       "    <tr>\n",
       "      <th>260880</th>\n",
       "      <td>William</td>\n",
       "      <td>M</td>\n",
       "      <td>17064</td>\n",
       "      <td>2010</td>\n",
       "      <td>0.008898</td>\n",
       "    </tr>\n",
       "    <tr>\n",
       "      <th>...</th>\n",
       "      <td>...</td>\n",
       "      <td>...</td>\n",
       "      <td>...</td>\n",
       "      <td>...</td>\n",
       "      <td>...</td>\n",
       "    </tr>\n",
       "    <tr>\n",
       "      <th>261871</th>\n",
       "      <td>Bailey</td>\n",
       "      <td>M</td>\n",
       "      <td>196</td>\n",
       "      <td>2010</td>\n",
       "      <td>0.000102</td>\n",
       "    </tr>\n",
       "    <tr>\n",
       "      <th>261872</th>\n",
       "      <td>Destin</td>\n",
       "      <td>M</td>\n",
       "      <td>196</td>\n",
       "      <td>2010</td>\n",
       "      <td>0.000102</td>\n",
       "    </tr>\n",
       "    <tr>\n",
       "      <th>261873</th>\n",
       "      <td>Eliezer</td>\n",
       "      <td>M</td>\n",
       "      <td>196</td>\n",
       "      <td>2010</td>\n",
       "      <td>0.000102</td>\n",
       "    </tr>\n",
       "    <tr>\n",
       "      <th>261874</th>\n",
       "      <td>Enoch</td>\n",
       "      <td>M</td>\n",
       "      <td>196</td>\n",
       "      <td>2010</td>\n",
       "      <td>0.000102</td>\n",
       "    </tr>\n",
       "    <tr>\n",
       "      <th>261875</th>\n",
       "      <td>Joziah</td>\n",
       "      <td>M</td>\n",
       "      <td>196</td>\n",
       "      <td>2010</td>\n",
       "      <td>0.000102</td>\n",
       "    </tr>\n",
       "  </tbody>\n",
       "</table>\n",
       "<p>1000 rows × 5 columns</p>\n",
       "</div>"
      ],
      "text/plain": [
       "           name sex  births  year      prop\n",
       "260876    Jacob   M   22144  2010  0.011547\n",
       "260877    Ethan   M   18011  2010  0.009392\n",
       "260878  Michael   M   17374  2010  0.009059\n",
       "260879   Jayden   M   17192  2010  0.008964\n",
       "260880  William   M   17064  2010  0.008898\n",
       "...         ...  ..     ...   ...       ...\n",
       "261871   Bailey   M     196  2010  0.000102\n",
       "261872   Destin   M     196  2010  0.000102\n",
       "261873  Eliezer   M     196  2010  0.000102\n",
       "261874    Enoch   M     196  2010  0.000102\n",
       "261875   Joziah   M     196  2010  0.000102\n",
       "\n",
       "[1000 rows x 5 columns]"
      ]
     },
     "execution_count": 151,
     "metadata": {},
     "output_type": "execute_result"
    }
   ],
   "source": [
    "# number of distinct names\n",
    "df = boys[boys['year'] == 2010]\n",
    "df"
   ]
  },
  {
   "cell_type": "code",
   "execution_count": 153,
   "id": "020f3a65",
   "metadata": {},
   "outputs": [
    {
     "data": {
      "text/plain": [
       "260876    0.011547\n",
       "260877    0.020938\n",
       "260878    0.029998\n",
       "260879    0.038962\n",
       "260880    0.047860\n",
       "260881    0.056599\n",
       "260882    0.065186\n",
       "260883    0.073454\n",
       "260884    0.081559\n",
       "260885    0.089643\n",
       "Name: prop, dtype: float64"
      ]
     },
     "execution_count": 153,
     "metadata": {},
     "output_type": "execute_result"
    }
   ],
   "source": [
    "# how many of the most popular names to reach 50%\n",
    "prop_cumsum = df['prop'].sort_values(ascending=False).cumsum()\n",
    "prop_cumsum[:10]"
   ]
  },
  {
   "cell_type": "code",
   "execution_count": 159,
   "id": "fadb079f",
   "metadata": {},
   "outputs": [
    {
     "data": {
      "text/plain": [
       "117"
      ]
     },
     "execution_count": 159,
     "metadata": {},
     "output_type": "execute_result"
    }
   ],
   "source": [
    "prop_cumsum.searchsorted(0.5) + 1\n",
    "#add 1 = 117 with zero-index"
   ]
  },
  {
   "cell_type": "code",
   "execution_count": 158,
   "id": "a44ca7d8",
   "metadata": {},
   "outputs": [
    {
     "data": {
      "text/plain": [
       "25"
      ]
     },
     "execution_count": 158,
     "metadata": {},
     "output_type": "execute_result"
    }
   ],
   "source": [
    "#number was much smaller in 1900\n",
    "df = boys[boys.year == 1900]\n",
    "in1900 = df.sort_values('prop', ascending=False).prop.cumsum()\n",
    "in1900.searchsorted(0.5) + 1"
   ]
  },
  {
   "cell_type": "code",
   "execution_count": 162,
   "id": "90b02f2c",
   "metadata": {},
   "outputs": [
    {
     "data": {
      "text/html": [
       "<div>\n",
       "<style scoped>\n",
       "    .dataframe tbody tr th:only-of-type {\n",
       "        vertical-align: middle;\n",
       "    }\n",
       "\n",
       "    .dataframe tbody tr th {\n",
       "        vertical-align: top;\n",
       "    }\n",
       "\n",
       "    .dataframe thead th {\n",
       "        text-align: right;\n",
       "    }\n",
       "</style>\n",
       "<table border=\"1\" class=\"dataframe\">\n",
       "  <thead>\n",
       "    <tr style=\"text-align: right;\">\n",
       "      <th>sex</th>\n",
       "      <th>F</th>\n",
       "      <th>M</th>\n",
       "    </tr>\n",
       "    <tr>\n",
       "      <th>year</th>\n",
       "      <th></th>\n",
       "      <th></th>\n",
       "    </tr>\n",
       "  </thead>\n",
       "  <tbody>\n",
       "    <tr>\n",
       "      <th>1880</th>\n",
       "      <td>38</td>\n",
       "      <td>14</td>\n",
       "    </tr>\n",
       "    <tr>\n",
       "      <th>1881</th>\n",
       "      <td>38</td>\n",
       "      <td>14</td>\n",
       "    </tr>\n",
       "    <tr>\n",
       "      <th>1882</th>\n",
       "      <td>38</td>\n",
       "      <td>15</td>\n",
       "    </tr>\n",
       "    <tr>\n",
       "      <th>1883</th>\n",
       "      <td>39</td>\n",
       "      <td>15</td>\n",
       "    </tr>\n",
       "    <tr>\n",
       "      <th>1884</th>\n",
       "      <td>39</td>\n",
       "      <td>16</td>\n",
       "    </tr>\n",
       "  </tbody>\n",
       "</table>\n",
       "</div>"
      ],
      "text/plain": [
       "sex    F   M\n",
       "year        \n",
       "1880  38  14\n",
       "1881  38  14\n",
       "1882  38  15\n",
       "1883  39  15\n",
       "1884  39  16"
      ]
     },
     "execution_count": 162,
     "metadata": {},
     "output_type": "execute_result"
    }
   ],
   "source": [
    "# apply this operation as function\n",
    "def get_quantile_count(group, q=0.5):\n",
    "    group = group.sort_values('prop', ascending= False)\n",
    "    return group.prop.cumsum().searchsorted(q) + 1\n",
    "\n",
    "diversity = top1000.groupby(['year', 'sex']).apply(get_quantile_count)\n",
    "diversity = diversity.unstack()\n",
    "diversity.head()"
   ]
  },
  {
   "cell_type": "code",
   "execution_count": 164,
   "id": "0f29fd88",
   "metadata": {},
   "outputs": [
    {
     "data": {
      "image/png": "[encoded data removed]",
      "text/plain": [
       "<Figure size 640x480 with 1 Axes>"
      ]
     },
     "metadata": {},
     "output_type": "display_data"
    }
   ],
   "source": [
    "diversity.plot(title= 'Number of popular names in top 50%');"
   ]
  },
  {
   "cell_type": "code",
   "execution_count": 172,
   "id": "7bdc1f9a",
   "metadata": {},
   "outputs": [
    {
     "data": {
      "text/html": [
       "<div>\n",
       "<style scoped>\n",
       "    .dataframe tbody tr th:only-of-type {\n",
       "        vertical-align: middle;\n",
       "    }\n",
       "\n",
       "    .dataframe tbody tr th {\n",
       "        vertical-align: top;\n",
       "    }\n",
       "\n",
       "    .dataframe thead tr th {\n",
       "        text-align: left;\n",
       "    }\n",
       "\n",
       "    .dataframe thead tr:last-of-type th {\n",
       "        text-align: right;\n",
       "    }\n",
       "</style>\n",
       "<table border=\"1\" class=\"dataframe\">\n",
       "  <thead>\n",
       "    <tr>\n",
       "      <th>sex</th>\n",
       "      <th colspan=\"3\" halign=\"left\">F</th>\n",
       "      <th colspan=\"3\" halign=\"left\">M</th>\n",
       "    </tr>\n",
       "    <tr>\n",
       "      <th>year</th>\n",
       "      <th>1910</th>\n",
       "      <th>1960</th>\n",
       "      <th>2010</th>\n",
       "      <th>1910</th>\n",
       "      <th>1960</th>\n",
       "      <th>2010</th>\n",
       "    </tr>\n",
       "    <tr>\n",
       "      <th>last_letter</th>\n",
       "      <th></th>\n",
       "      <th></th>\n",
       "      <th></th>\n",
       "      <th></th>\n",
       "      <th></th>\n",
       "      <th></th>\n",
       "    </tr>\n",
       "  </thead>\n",
       "  <tbody>\n",
       "    <tr>\n",
       "      <th>a</th>\n",
       "      <td>108399.0</td>\n",
       "      <td>691323.0</td>\n",
       "      <td>677323.0</td>\n",
       "      <td>977.0</td>\n",
       "      <td>5217.0</td>\n",
       "      <td>28896.0</td>\n",
       "    </tr>\n",
       "    <tr>\n",
       "      <th>b</th>\n",
       "      <td>NaN</td>\n",
       "      <td>694.0</td>\n",
       "      <td>455.0</td>\n",
       "      <td>411.0</td>\n",
       "      <td>3911.0</td>\n",
       "      <td>39304.0</td>\n",
       "    </tr>\n",
       "    <tr>\n",
       "      <th>c</th>\n",
       "      <td>5.0</td>\n",
       "      <td>49.0</td>\n",
       "      <td>958.0</td>\n",
       "      <td>482.0</td>\n",
       "      <td>15458.0</td>\n",
       "      <td>23364.0</td>\n",
       "    </tr>\n",
       "    <tr>\n",
       "      <th>d</th>\n",
       "      <td>6751.0</td>\n",
       "      <td>3731.0</td>\n",
       "      <td>2645.0</td>\n",
       "      <td>22112.0</td>\n",
       "      <td>262131.0</td>\n",
       "      <td>44864.0</td>\n",
       "    </tr>\n",
       "    <tr>\n",
       "      <th>e</th>\n",
       "      <td>133599.0</td>\n",
       "      <td>435008.0</td>\n",
       "      <td>317005.0</td>\n",
       "      <td>28665.0</td>\n",
       "      <td>178762.0</td>\n",
       "      <td>130348.0</td>\n",
       "    </tr>\n",
       "  </tbody>\n",
       "</table>\n",
       "</div>"
      ],
      "text/plain": [
       "sex                 F                            M                    \n",
       "year             1910      1960      2010     1910      1960      2010\n",
       "last_letter                                                           \n",
       "a            108399.0  691323.0  677323.0    977.0    5217.0   28896.0\n",
       "b                 NaN     694.0     455.0    411.0    3911.0   39304.0\n",
       "c                 5.0      49.0     958.0    482.0   15458.0   23364.0\n",
       "d              6751.0    3731.0    2645.0  22112.0  262131.0   44864.0\n",
       "e            133599.0  435008.0  317005.0  28665.0  178762.0  130348.0"
      ]
     },
     "execution_count": 172,
     "metadata": {},
     "output_type": "execute_result"
    }
   ],
   "source": [
    "# final letter revolution\n",
    "def get_last_letter(x):\n",
    "    return x[-1]\n",
    "\n",
    "last_letters = names['name'].map(get_last_letter)\n",
    "last_letters.name = 'last_letter'\n",
    "table = names.pivot_table('births',\n",
    "                         index= last_letters,\n",
    "                         columns=['sex', 'year'],\n",
    "                         aggfunc=sum)\n",
    "\n",
    "subtable = table.reindex(columns=[1910,1960,2010], level='year')\n",
    "subtable.head()"
   ]
  },
  {
   "cell_type": "code",
   "execution_count": 173,
   "id": "9de1d212",
   "metadata": {},
   "outputs": [
    {
     "data": {
      "text/plain": [
       "sex  year\n",
       "F    1910     396503.0\n",
       "     1960    2022061.0\n",
       "     2010    1776636.0\n",
       "M    1910     194209.0\n",
       "     1960    2132230.0\n",
       "     2010    1917792.0\n",
       "dtype: float64"
      ]
     },
     "execution_count": 173,
     "metadata": {},
     "output_type": "execute_result"
    }
   ],
   "source": [
    "# normalize the table by total births\n",
    "subtable.sum()"
   ]
  },
  {
   "cell_type": "code",
   "execution_count": 174,
   "id": "4213badd",
   "metadata": {},
   "outputs": [
    {
     "data": {
      "text/html": [
       "<div>\n",
       "<style scoped>\n",
       "    .dataframe tbody tr th:only-of-type {\n",
       "        vertical-align: middle;\n",
       "    }\n",
       "\n",
       "    .dataframe tbody tr th {\n",
       "        vertical-align: top;\n",
       "    }\n",
       "\n",
       "    .dataframe thead tr th {\n",
       "        text-align: left;\n",
       "    }\n",
       "\n",
       "    .dataframe thead tr:last-of-type th {\n",
       "        text-align: right;\n",
       "    }\n",
       "</style>\n",
       "<table border=\"1\" class=\"dataframe\">\n",
       "  <thead>\n",
       "    <tr>\n",
       "      <th>sex</th>\n",
       "      <th colspan=\"3\" halign=\"left\">F</th>\n",
       "      <th colspan=\"3\" halign=\"left\">M</th>\n",
       "    </tr>\n",
       "    <tr>\n",
       "      <th>year</th>\n",
       "      <th>1910</th>\n",
       "      <th>1960</th>\n",
       "      <th>2010</th>\n",
       "      <th>1910</th>\n",
       "      <th>1960</th>\n",
       "      <th>2010</th>\n",
       "    </tr>\n",
       "    <tr>\n",
       "      <th>last_letter</th>\n",
       "      <th></th>\n",
       "      <th></th>\n",
       "      <th></th>\n",
       "      <th></th>\n",
       "      <th></th>\n",
       "      <th></th>\n",
       "    </tr>\n",
       "  </thead>\n",
       "  <tbody>\n",
       "    <tr>\n",
       "      <th>a</th>\n",
       "      <td>0.273388</td>\n",
       "      <td>0.341890</td>\n",
       "      <td>0.381239</td>\n",
       "      <td>0.005031</td>\n",
       "      <td>0.002447</td>\n",
       "      <td>0.015067</td>\n",
       "    </tr>\n",
       "    <tr>\n",
       "      <th>b</th>\n",
       "      <td>NaN</td>\n",
       "      <td>0.000343</td>\n",
       "      <td>0.000256</td>\n",
       "      <td>0.002116</td>\n",
       "      <td>0.001834</td>\n",
       "      <td>0.020494</td>\n",
       "    </tr>\n",
       "    <tr>\n",
       "      <th>c</th>\n",
       "      <td>0.000013</td>\n",
       "      <td>0.000024</td>\n",
       "      <td>0.000539</td>\n",
       "      <td>0.002482</td>\n",
       "      <td>0.007250</td>\n",
       "      <td>0.012183</td>\n",
       "    </tr>\n",
       "    <tr>\n",
       "      <th>d</th>\n",
       "      <td>0.017026</td>\n",
       "      <td>0.001845</td>\n",
       "      <td>0.001489</td>\n",
       "      <td>0.113857</td>\n",
       "      <td>0.122937</td>\n",
       "      <td>0.023394</td>\n",
       "    </tr>\n",
       "    <tr>\n",
       "      <th>e</th>\n",
       "      <td>0.336943</td>\n",
       "      <td>0.215131</td>\n",
       "      <td>0.178430</td>\n",
       "      <td>0.147599</td>\n",
       "      <td>0.083838</td>\n",
       "      <td>0.067968</td>\n",
       "    </tr>\n",
       "    <tr>\n",
       "      <th>f</th>\n",
       "      <td>NaN</td>\n",
       "      <td>0.000010</td>\n",
       "      <td>0.000055</td>\n",
       "      <td>0.000783</td>\n",
       "      <td>0.004329</td>\n",
       "      <td>0.001206</td>\n",
       "    </tr>\n",
       "    <tr>\n",
       "      <th>g</th>\n",
       "      <td>0.000144</td>\n",
       "      <td>0.000156</td>\n",
       "      <td>0.000377</td>\n",
       "      <td>0.002260</td>\n",
       "      <td>0.009488</td>\n",
       "      <td>0.001406</td>\n",
       "    </tr>\n",
       "    <tr>\n",
       "      <th>h</th>\n",
       "      <td>0.051531</td>\n",
       "      <td>0.036220</td>\n",
       "      <td>0.076011</td>\n",
       "      <td>0.045564</td>\n",
       "      <td>0.037914</td>\n",
       "      <td>0.051828</td>\n",
       "    </tr>\n",
       "    <tr>\n",
       "      <th>i</th>\n",
       "      <td>0.001526</td>\n",
       "      <td>0.039965</td>\n",
       "      <td>0.031700</td>\n",
       "      <td>0.000844</td>\n",
       "      <td>0.000610</td>\n",
       "      <td>0.022672</td>\n",
       "    </tr>\n",
       "    <tr>\n",
       "      <th>j</th>\n",
       "      <td>NaN</td>\n",
       "      <td>NaN</td>\n",
       "      <td>0.000093</td>\n",
       "      <td>NaN</td>\n",
       "      <td>NaN</td>\n",
       "      <td>0.000772</td>\n",
       "    </tr>\n",
       "    <tr>\n",
       "      <th>k</th>\n",
       "      <td>0.000121</td>\n",
       "      <td>0.000155</td>\n",
       "      <td>0.000356</td>\n",
       "      <td>0.036579</td>\n",
       "      <td>0.049374</td>\n",
       "      <td>0.018531</td>\n",
       "    </tr>\n",
       "    <tr>\n",
       "      <th>l</th>\n",
       "      <td>0.043188</td>\n",
       "      <td>0.033871</td>\n",
       "      <td>0.026391</td>\n",
       "      <td>0.065023</td>\n",
       "      <td>0.104888</td>\n",
       "      <td>0.070455</td>\n",
       "    </tr>\n",
       "    <tr>\n",
       "      <th>m</th>\n",
       "      <td>0.001200</td>\n",
       "      <td>0.008611</td>\n",
       "      <td>0.002599</td>\n",
       "      <td>0.058046</td>\n",
       "      <td>0.033832</td>\n",
       "      <td>0.024707</td>\n",
       "    </tr>\n",
       "    <tr>\n",
       "      <th>n</th>\n",
       "      <td>0.079238</td>\n",
       "      <td>0.130680</td>\n",
       "      <td>0.140044</td>\n",
       "      <td>0.143387</td>\n",
       "      <td>0.152510</td>\n",
       "      <td>0.362404</td>\n",
       "    </tr>\n",
       "    <tr>\n",
       "      <th>o</th>\n",
       "      <td>0.001672</td>\n",
       "      <td>0.002440</td>\n",
       "      <td>0.001247</td>\n",
       "      <td>0.017064</td>\n",
       "      <td>0.012840</td>\n",
       "      <td>0.042558</td>\n",
       "    </tr>\n",
       "    <tr>\n",
       "      <th>p</th>\n",
       "      <td>0.000018</td>\n",
       "      <td>0.000023</td>\n",
       "      <td>0.000020</td>\n",
       "      <td>0.003172</td>\n",
       "      <td>0.005674</td>\n",
       "      <td>0.001268</td>\n",
       "    </tr>\n",
       "    <tr>\n",
       "      <th>q</th>\n",
       "      <td>NaN</td>\n",
       "      <td>NaN</td>\n",
       "      <td>0.000030</td>\n",
       "      <td>NaN</td>\n",
       "      <td>NaN</td>\n",
       "      <td>0.000180</td>\n",
       "    </tr>\n",
       "    <tr>\n",
       "      <th>r</th>\n",
       "      <td>0.013395</td>\n",
       "      <td>0.006765</td>\n",
       "      <td>0.018045</td>\n",
       "      <td>0.064472</td>\n",
       "      <td>0.031050</td>\n",
       "      <td>0.087390</td>\n",
       "    </tr>\n",
       "    <tr>\n",
       "      <th>s</th>\n",
       "      <td>0.039036</td>\n",
       "      <td>0.012762</td>\n",
       "      <td>0.013336</td>\n",
       "      <td>0.130797</td>\n",
       "      <td>0.102699</td>\n",
       "      <td>0.065160</td>\n",
       "    </tr>\n",
       "    <tr>\n",
       "      <th>t</th>\n",
       "      <td>0.027432</td>\n",
       "      <td>0.015197</td>\n",
       "      <td>0.007838</td>\n",
       "      <td>0.072885</td>\n",
       "      <td>0.065643</td>\n",
       "      <td>0.022861</td>\n",
       "    </tr>\n",
       "    <tr>\n",
       "      <th>u</th>\n",
       "      <td>0.000683</td>\n",
       "      <td>0.000574</td>\n",
       "      <td>0.000416</td>\n",
       "      <td>0.000124</td>\n",
       "      <td>0.000057</td>\n",
       "      <td>0.001227</td>\n",
       "    </tr>\n",
       "    <tr>\n",
       "      <th>v</th>\n",
       "      <td>NaN</td>\n",
       "      <td>0.000060</td>\n",
       "      <td>0.000117</td>\n",
       "      <td>0.000113</td>\n",
       "      <td>0.000036</td>\n",
       "      <td>0.001451</td>\n",
       "    </tr>\n",
       "    <tr>\n",
       "      <th>w</th>\n",
       "      <td>0.000020</td>\n",
       "      <td>0.000031</td>\n",
       "      <td>0.001190</td>\n",
       "      <td>0.006323</td>\n",
       "      <td>0.007706</td>\n",
       "      <td>0.016183</td>\n",
       "    </tr>\n",
       "    <tr>\n",
       "      <th>x</th>\n",
       "      <td>0.000015</td>\n",
       "      <td>0.000037</td>\n",
       "      <td>0.000730</td>\n",
       "      <td>0.003965</td>\n",
       "      <td>0.001851</td>\n",
       "      <td>0.008599</td>\n",
       "    </tr>\n",
       "    <tr>\n",
       "      <th>y</th>\n",
       "      <td>0.110975</td>\n",
       "      <td>0.152551</td>\n",
       "      <td>0.116753</td>\n",
       "      <td>0.077345</td>\n",
       "      <td>0.161011</td>\n",
       "      <td>0.058207</td>\n",
       "    </tr>\n",
       "    <tr>\n",
       "      <th>z</th>\n",
       "      <td>0.002436</td>\n",
       "      <td>0.000658</td>\n",
       "      <td>0.000700</td>\n",
       "      <td>0.000170</td>\n",
       "      <td>0.000184</td>\n",
       "      <td>0.001829</td>\n",
       "    </tr>\n",
       "  </tbody>\n",
       "</table>\n",
       "</div>"
      ],
      "text/plain": [
       "sex                 F                             M                    \n",
       "year             1910      1960      2010      1910      1960      2010\n",
       "last_letter                                                            \n",
       "a            0.273388  0.341890  0.381239  0.005031  0.002447  0.015067\n",
       "b                 NaN  0.000343  0.000256  0.002116  0.001834  0.020494\n",
       "c            0.000013  0.000024  0.000539  0.002482  0.007250  0.012183\n",
       "d            0.017026  0.001845  0.001489  0.113857  0.122937  0.023394\n",
       "e            0.336943  0.215131  0.178430  0.147599  0.083838  0.067968\n",
       "f                 NaN  0.000010  0.000055  0.000783  0.004329  0.001206\n",
       "g            0.000144  0.000156  0.000377  0.002260  0.009488  0.001406\n",
       "h            0.051531  0.036220  0.076011  0.045564  0.037914  0.051828\n",
       "i            0.001526  0.039965  0.031700  0.000844  0.000610  0.022672\n",
       "j                 NaN       NaN  0.000093       NaN       NaN  0.000772\n",
       "k            0.000121  0.000155  0.000356  0.036579  0.049374  0.018531\n",
       "l            0.043188  0.033871  0.026391  0.065023  0.104888  0.070455\n",
       "m            0.001200  0.008611  0.002599  0.058046  0.033832  0.024707\n",
       "n            0.079238  0.130680  0.140044  0.143387  0.152510  0.362404\n",
       "o            0.001672  0.002440  0.001247  0.017064  0.012840  0.042558\n",
       "p            0.000018  0.000023  0.000020  0.003172  0.005674  0.001268\n",
       "q                 NaN       NaN  0.000030       NaN       NaN  0.000180\n",
       "r            0.013395  0.006765  0.018045  0.064472  0.031050  0.087390\n",
       "s            0.039036  0.012762  0.013336  0.130797  0.102699  0.065160\n",
       "t            0.027432  0.015197  0.007838  0.072885  0.065643  0.022861\n",
       "u            0.000683  0.000574  0.000416  0.000124  0.000057  0.001227\n",
       "v                 NaN  0.000060  0.000117  0.000113  0.000036  0.001451\n",
       "w            0.000020  0.000031  0.001190  0.006323  0.007706  0.016183\n",
       "x            0.000015  0.000037  0.000730  0.003965  0.001851  0.008599\n",
       "y            0.110975  0.152551  0.116753  0.077345  0.161011  0.058207\n",
       "z            0.002436  0.000658  0.000700  0.000170  0.000184  0.001829"
      ]
     },
     "execution_count": 174,
     "metadata": {},
     "output_type": "execute_result"
    }
   ],
   "source": [
    "# letter proportion\n",
    "letter_prop = subtable / subtable.sum()\n",
    "letter_prop"
   ]
  },
  {
   "cell_type": "code",
   "execution_count": 178,
   "id": "6d384f1c",
   "metadata": {},
   "outputs": [
    {
     "data": {
      "image/png": "[encoded data removed]",
      "text/plain": [
       "<Figure size 1000x1000 with 2 Axes>"
      ]
     },
     "metadata": {},
     "output_type": "display_data"
    }
   ],
   "source": [
    "# barplot for each sex by year\n",
    "# boy name ending 'n' has significant grow over years\n",
    "import matplotlib.pyplot as plt\n",
    "\n",
    "fig, axes = plt.subplots(2,1,figsize=(10,10))\n",
    "letter_prop['M'].plot(kind='bar', rot=0, ax=axes[0], title='Male')\n",
    "letter_prop['F'].plot(kind='bar', rot=0, ax=axes[1], title='Female', legend=False);"
   ]
  },
  {
   "cell_type": "code",
   "execution_count": 182,
   "id": "d420a739",
   "metadata": {},
   "outputs": [],
   "source": [
    "# normalize by year and sex; subset letters by boynames\n",
    "letter_prop = table / table.sum()"
   ]
  },
  {
   "cell_type": "code",
   "execution_count": 185,
   "id": "1dfa147c",
   "metadata": {},
   "outputs": [
    {
     "data": {
      "text/html": [
       "<div>\n",
       "<style scoped>\n",
       "    .dataframe tbody tr th:only-of-type {\n",
       "        vertical-align: middle;\n",
       "    }\n",
       "\n",
       "    .dataframe tbody tr th {\n",
       "        vertical-align: top;\n",
       "    }\n",
       "\n",
       "    .dataframe thead th {\n",
       "        text-align: right;\n",
       "    }\n",
       "</style>\n",
       "<table border=\"1\" class=\"dataframe\">\n",
       "  <thead>\n",
       "    <tr style=\"text-align: right;\">\n",
       "      <th>last_letter</th>\n",
       "      <th>d</th>\n",
       "      <th>n</th>\n",
       "      <th>y</th>\n",
       "    </tr>\n",
       "    <tr>\n",
       "      <th>year</th>\n",
       "      <th></th>\n",
       "      <th></th>\n",
       "      <th></th>\n",
       "    </tr>\n",
       "  </thead>\n",
       "  <tbody>\n",
       "    <tr>\n",
       "      <th>1880</th>\n",
       "      <td>0.083057</td>\n",
       "      <td>0.153217</td>\n",
       "      <td>0.075763</td>\n",
       "    </tr>\n",
       "    <tr>\n",
       "      <th>1881</th>\n",
       "      <td>0.083246</td>\n",
       "      <td>0.153221</td>\n",
       "      <td>0.077459</td>\n",
       "    </tr>\n",
       "    <tr>\n",
       "      <th>1882</th>\n",
       "      <td>0.085332</td>\n",
       "      <td>0.149561</td>\n",
       "      <td>0.077538</td>\n",
       "    </tr>\n",
       "    <tr>\n",
       "      <th>1883</th>\n",
       "      <td>0.084053</td>\n",
       "      <td>0.151656</td>\n",
       "      <td>0.079149</td>\n",
       "    </tr>\n",
       "    <tr>\n",
       "      <th>1884</th>\n",
       "      <td>0.086122</td>\n",
       "      <td>0.149927</td>\n",
       "      <td>0.080408</td>\n",
       "    </tr>\n",
       "  </tbody>\n",
       "</table>\n",
       "</div>"
      ],
      "text/plain": [
       "last_letter         d         n         y\n",
       "year                                     \n",
       "1880         0.083057  0.153217  0.075763\n",
       "1881         0.083246  0.153221  0.077459\n",
       "1882         0.085332  0.149561  0.077538\n",
       "1883         0.084053  0.151656  0.079149\n",
       "1884         0.086122  0.149927  0.080408"
      ]
     },
     "execution_count": 185,
     "metadata": {},
     "output_type": "execute_result"
    }
   ],
   "source": [
    "dny_ts = letter_prop.loc[['d','n','y'], 'M'].T\n",
    "dny_ts.head()"
   ]
  },
  {
   "cell_type": "code",
   "execution_count": 187,
   "id": "27d86f05",
   "metadata": {},
   "outputs": [
    {
     "data": {
      "image/png": "[encoded data removed]",
      "text/plain": [
       "<Figure size 640x480 with 1 Axes>"
      ]
     },
     "metadata": {},
     "output_type": "display_data"
    }
   ],
   "source": [
    "dny_ts.plot();"
   ]
  },
  {
   "cell_type": "code",
   "execution_count": 188,
   "id": "5f4e2e76",
   "metadata": {},
   "outputs": [
    {
     "data": {
      "text/plain": [
       "632     Leslie\n",
       "2293    Lesley\n",
       "4263    Leslee\n",
       "4730     Lesli\n",
       "6105     Lesly\n",
       "dtype: object"
      ]
     },
     "execution_count": 188,
     "metadata": {},
     "output_type": "execute_result"
    }
   ],
   "source": [
    "# boy name that becomes girl names and vice versa; from top1000\n",
    "all_names = pd.Series(top1000['name'].unique())\n",
    "lesley_like = all_names[all_names.str.contains('Lesl')]\n",
    "lesley_like\n"
   ]
  },
  {
   "cell_type": "code",
   "execution_count": 190,
   "id": "ea9df901",
   "metadata": {},
   "outputs": [
    {
     "data": {
      "text/plain": [
       "name\n",
       "Leslee       993\n",
       "Lesley     35039\n",
       "Lesli        929\n",
       "Leslie    370579\n",
       "Lesly      10073\n",
       "Name: births, dtype: int64"
      ]
     },
     "execution_count": 190,
     "metadata": {},
     "output_type": "execute_result"
    }
   ],
   "source": [
    "# filter down just those names - sum births grouped by name\n",
    "filtered = top1000[top1000['name'].isin(lesley_like)]\n",
    "filtered.groupby('name')['births'].sum()"
   ]
  },
  {
   "cell_type": "code",
   "execution_count": 195,
   "id": "bc47924a",
   "metadata": {},
   "outputs": [
    {
     "data": {
      "text/html": [
       "<div>\n",
       "<style scoped>\n",
       "    .dataframe tbody tr th:only-of-type {\n",
       "        vertical-align: middle;\n",
       "    }\n",
       "\n",
       "    .dataframe tbody tr th {\n",
       "        vertical-align: top;\n",
       "    }\n",
       "\n",
       "    .dataframe thead th {\n",
       "        text-align: right;\n",
       "    }\n",
       "</style>\n",
       "<table border=\"1\" class=\"dataframe\">\n",
       "  <thead>\n",
       "    <tr style=\"text-align: right;\">\n",
       "      <th>sex</th>\n",
       "      <th>F</th>\n",
       "      <th>M</th>\n",
       "    </tr>\n",
       "    <tr>\n",
       "      <th>year</th>\n",
       "      <th></th>\n",
       "      <th></th>\n",
       "    </tr>\n",
       "  </thead>\n",
       "  <tbody>\n",
       "    <tr>\n",
       "      <th>2006</th>\n",
       "      <td>1.0</td>\n",
       "      <td>NaN</td>\n",
       "    </tr>\n",
       "    <tr>\n",
       "      <th>2007</th>\n",
       "      <td>1.0</td>\n",
       "      <td>NaN</td>\n",
       "    </tr>\n",
       "    <tr>\n",
       "      <th>2008</th>\n",
       "      <td>1.0</td>\n",
       "      <td>NaN</td>\n",
       "    </tr>\n",
       "    <tr>\n",
       "      <th>2009</th>\n",
       "      <td>1.0</td>\n",
       "      <td>NaN</td>\n",
       "    </tr>\n",
       "    <tr>\n",
       "      <th>2010</th>\n",
       "      <td>1.0</td>\n",
       "      <td>NaN</td>\n",
       "    </tr>\n",
       "  </tbody>\n",
       "</table>\n",
       "</div>"
      ],
      "text/plain": [
       "sex     F   M\n",
       "year         \n",
       "2006  1.0 NaN\n",
       "2007  1.0 NaN\n",
       "2008  1.0 NaN\n",
       "2009  1.0 NaN\n",
       "2010  1.0 NaN"
      ]
     },
     "execution_count": 195,
     "metadata": {},
     "output_type": "execute_result"
    }
   ],
   "source": [
    "# aggregate by sex and year - normalize within year\n",
    "table = filtered.pivot_table('births',\n",
    "                            index='year',\n",
    "                            columns='sex',\n",
    "                            aggfunc='sum')\n",
    "\n",
    "table = table.div(table.sum(axis='columns'), axis='index')\n",
    "table.tail()"
   ]
  },
  {
   "cell_type": "code",
   "execution_count": 197,
   "id": "7f789a64",
   "metadata": {},
   "outputs": [
    {
     "data": {
      "image/png": "[encoded data removed]",
      "text/plain": [
       "<Figure size 640x480 with 1 Axes>"
      ]
     },
     "metadata": {},
     "output_type": "display_data"
    }
   ],
   "source": [
    "# plot by sex over time\n",
    "table.plot(style={'M': 'k-', 'F': 'k--'});"
   ]
  },
  {
   "cell_type": "code",
   "execution_count": 208,
   "id": "28fc8e99",
   "metadata": {},
   "outputs": [
    {
     "data": {
      "text/plain": [
       "6636"
      ]
     },
     "execution_count": 208,
     "metadata": {},
     "output_type": "execute_result"
    }
   ],
   "source": [
    "#################### USDA Food Database ####################\n",
    "import json\n",
    "\n",
    "db = json.load(open('examples/database.json'))\n",
    "len(db)"
   ]
  },
  {
   "cell_type": "code",
   "execution_count": 210,
   "id": "d7137d97",
   "metadata": {},
   "outputs": [
    {
     "data": {
      "text/plain": [
       "dict_keys(['id', 'description', 'tags', 'manufacturer', 'group', 'portions', 'nutrients'])"
      ]
     },
     "execution_count": 210,
     "metadata": {},
     "output_type": "execute_result"
    }
   ],
   "source": [
    "db[0].keys()"
   ]
  },
  {
   "cell_type": "code",
   "execution_count": 213,
   "id": "2ac9b2ec",
   "metadata": {},
   "outputs": [
    {
     "data": {
      "text/plain": [
       "{'value': 25.18,\n",
       " 'units': 'g',\n",
       " 'description': 'Protein',\n",
       " 'group': 'Composition'}"
      ]
     },
     "execution_count": 213,
     "metadata": {},
     "output_type": "execute_result"
    }
   ],
   "source": [
    "db[0]['nutrients'][0]"
   ]
  },
  {
   "cell_type": "code",
   "execution_count": 216,
   "id": "f9c5850a",
   "metadata": {},
   "outputs": [
    {
     "data": {
      "text/html": [
       "<div>\n",
       "<style scoped>\n",
       "    .dataframe tbody tr th:only-of-type {\n",
       "        vertical-align: middle;\n",
       "    }\n",
       "\n",
       "    .dataframe tbody tr th {\n",
       "        vertical-align: top;\n",
       "    }\n",
       "\n",
       "    .dataframe thead th {\n",
       "        text-align: right;\n",
       "    }\n",
       "</style>\n",
       "<table border=\"1\" class=\"dataframe\">\n",
       "  <thead>\n",
       "    <tr style=\"text-align: right;\">\n",
       "      <th></th>\n",
       "      <th>value</th>\n",
       "      <th>units</th>\n",
       "      <th>description</th>\n",
       "      <th>group</th>\n",
       "    </tr>\n",
       "  </thead>\n",
       "  <tbody>\n",
       "    <tr>\n",
       "      <th>0</th>\n",
       "      <td>25.18</td>\n",
       "      <td>g</td>\n",
       "      <td>Protein</td>\n",
       "      <td>Composition</td>\n",
       "    </tr>\n",
       "    <tr>\n",
       "      <th>1</th>\n",
       "      <td>29.20</td>\n",
       "      <td>g</td>\n",
       "      <td>Total lipid (fat)</td>\n",
       "      <td>Composition</td>\n",
       "    </tr>\n",
       "    <tr>\n",
       "      <th>2</th>\n",
       "      <td>3.06</td>\n",
       "      <td>g</td>\n",
       "      <td>Carbohydrate, by difference</td>\n",
       "      <td>Composition</td>\n",
       "    </tr>\n",
       "    <tr>\n",
       "      <th>3</th>\n",
       "      <td>3.28</td>\n",
       "      <td>g</td>\n",
       "      <td>Ash</td>\n",
       "      <td>Other</td>\n",
       "    </tr>\n",
       "    <tr>\n",
       "      <th>4</th>\n",
       "      <td>376.00</td>\n",
       "      <td>kcal</td>\n",
       "      <td>Energy</td>\n",
       "      <td>Energy</td>\n",
       "    </tr>\n",
       "    <tr>\n",
       "      <th>5</th>\n",
       "      <td>39.28</td>\n",
       "      <td>g</td>\n",
       "      <td>Water</td>\n",
       "      <td>Composition</td>\n",
       "    </tr>\n",
       "    <tr>\n",
       "      <th>6</th>\n",
       "      <td>1573.00</td>\n",
       "      <td>kJ</td>\n",
       "      <td>Energy</td>\n",
       "      <td>Energy</td>\n",
       "    </tr>\n",
       "  </tbody>\n",
       "</table>\n",
       "</div>"
      ],
      "text/plain": [
       "     value units                  description        group\n",
       "0    25.18     g                      Protein  Composition\n",
       "1    29.20     g            Total lipid (fat)  Composition\n",
       "2     3.06     g  Carbohydrate, by difference  Composition\n",
       "3     3.28     g                          Ash        Other\n",
       "4   376.00  kcal                       Energy       Energy\n",
       "5    39.28     g                        Water  Composition\n",
       "6  1573.00    kJ                       Energy       Energy"
      ]
     },
     "execution_count": 216,
     "metadata": {},
     "output_type": "execute_result"
    }
   ],
   "source": [
    "nutrients = pd.DataFrame(db[0]['nutrients'])\n",
    "nutrients.head(7)"
   ]
  },
  {
   "cell_type": "code",
   "execution_count": 217,
   "id": "186ccb6f",
   "metadata": {},
   "outputs": [
    {
     "data": {
      "text/html": [
       "<div>\n",
       "<style scoped>\n",
       "    .dataframe tbody tr th:only-of-type {\n",
       "        vertical-align: middle;\n",
       "    }\n",
       "\n",
       "    .dataframe tbody tr th {\n",
       "        vertical-align: top;\n",
       "    }\n",
       "\n",
       "    .dataframe thead th {\n",
       "        text-align: right;\n",
       "    }\n",
       "</style>\n",
       "<table border=\"1\" class=\"dataframe\">\n",
       "  <thead>\n",
       "    <tr style=\"text-align: right;\">\n",
       "      <th></th>\n",
       "      <th>description</th>\n",
       "      <th>group</th>\n",
       "      <th>id</th>\n",
       "      <th>manufacturer</th>\n",
       "    </tr>\n",
       "  </thead>\n",
       "  <tbody>\n",
       "    <tr>\n",
       "      <th>0</th>\n",
       "      <td>Cheese, caraway</td>\n",
       "      <td>Dairy and Egg Products</td>\n",
       "      <td>1008</td>\n",
       "      <td></td>\n",
       "    </tr>\n",
       "    <tr>\n",
       "      <th>1</th>\n",
       "      <td>Cheese, cheddar</td>\n",
       "      <td>Dairy and Egg Products</td>\n",
       "      <td>1009</td>\n",
       "      <td></td>\n",
       "    </tr>\n",
       "    <tr>\n",
       "      <th>2</th>\n",
       "      <td>Cheese, edam</td>\n",
       "      <td>Dairy and Egg Products</td>\n",
       "      <td>1018</td>\n",
       "      <td></td>\n",
       "    </tr>\n",
       "    <tr>\n",
       "      <th>3</th>\n",
       "      <td>Cheese, feta</td>\n",
       "      <td>Dairy and Egg Products</td>\n",
       "      <td>1019</td>\n",
       "      <td></td>\n",
       "    </tr>\n",
       "    <tr>\n",
       "      <th>4</th>\n",
       "      <td>Cheese, mozzarella, part skim milk</td>\n",
       "      <td>Dairy and Egg Products</td>\n",
       "      <td>1028</td>\n",
       "      <td></td>\n",
       "    </tr>\n",
       "  </tbody>\n",
       "</table>\n",
       "</div>"
      ],
      "text/plain": [
       "                          description                   group    id  \\\n",
       "0                     Cheese, caraway  Dairy and Egg Products  1008   \n",
       "1                     Cheese, cheddar  Dairy and Egg Products  1009   \n",
       "2                        Cheese, edam  Dairy and Egg Products  1018   \n",
       "3                        Cheese, feta  Dairy and Egg Products  1019   \n",
       "4  Cheese, mozzarella, part skim milk  Dairy and Egg Products  1028   \n",
       "\n",
       "  manufacturer  \n",
       "0               \n",
       "1               \n",
       "2               \n",
       "3               \n",
       "4               "
      ]
     },
     "execution_count": 217,
     "metadata": {},
     "output_type": "execute_result"
    }
   ],
   "source": [
    "# specify a list of fields to extract\n",
    "info_keys = [\"description\", \"group\", \"id\", \"manufacturer\"]\n",
    "info = pd.DataFrame(db, columns= info_keys)\n",
    "info.head()"
   ]
  },
  {
   "cell_type": "code",
   "execution_count": 218,
   "id": "f3e1543e",
   "metadata": {},
   "outputs": [
    {
     "name": "stdout",
     "output_type": "stream",
     "text": [
      "<class 'pandas.core.frame.DataFrame'>\n",
      "RangeIndex: 6636 entries, 0 to 6635\n",
      "Data columns (total 4 columns):\n",
      " #   Column        Non-Null Count  Dtype \n",
      "---  ------        --------------  ----- \n",
      " 0   description   6636 non-null   object\n",
      " 1   group         6636 non-null   object\n",
      " 2   id            6636 non-null   int64 \n",
      " 3   manufacturer  5195 non-null   object\n",
      "dtypes: int64(1), object(3)\n",
      "memory usage: 207.5+ KB\n"
     ]
    }
   ],
   "source": [
    "info.info()"
   ]
  },
  {
   "cell_type": "code",
   "execution_count": 219,
   "id": "89030333",
   "metadata": {},
   "outputs": [
    {
     "data": {
      "text/plain": [
       "group\n",
       "Vegetables and Vegetable Products    812\n",
       "Beef Products                        618\n",
       "Baked Products                       496\n",
       "Breakfast Cereals                    403\n",
       "Legumes and Legume Products          365\n",
       "Fast Foods                           365\n",
       "Lamb, Veal, and Game Products        345\n",
       "Sweets                               341\n",
       "Fruits and Fruit Juices              328\n",
       "Pork Products                        328\n",
       "Name: count, dtype: int64"
      ]
     },
     "execution_count": 219,
     "metadata": {},
     "output_type": "execute_result"
    }
   ],
   "source": [
    "# see the distribution of food groups \n",
    "pd.value_counts(info['group'])[:10]"
   ]
  },
  {
   "cell_type": "code",
   "execution_count": 222,
   "id": "3e6866fd",
   "metadata": {},
   "outputs": [
    {
     "data": {
      "text/html": [
       "<div>\n",
       "<style scoped>\n",
       "    .dataframe tbody tr th:only-of-type {\n",
       "        vertical-align: middle;\n",
       "    }\n",
       "\n",
       "    .dataframe tbody tr th {\n",
       "        vertical-align: top;\n",
       "    }\n",
       "\n",
       "    .dataframe thead th {\n",
       "        text-align: right;\n",
       "    }\n",
       "</style>\n",
       "<table border=\"1\" class=\"dataframe\">\n",
       "  <thead>\n",
       "    <tr style=\"text-align: right;\">\n",
       "      <th></th>\n",
       "      <th>value</th>\n",
       "      <th>units</th>\n",
       "      <th>description</th>\n",
       "      <th>group</th>\n",
       "      <th>id</th>\n",
       "    </tr>\n",
       "  </thead>\n",
       "  <tbody>\n",
       "    <tr>\n",
       "      <th>0</th>\n",
       "      <td>25.180</td>\n",
       "      <td>g</td>\n",
       "      <td>Protein</td>\n",
       "      <td>Composition</td>\n",
       "      <td>1008</td>\n",
       "    </tr>\n",
       "    <tr>\n",
       "      <th>1</th>\n",
       "      <td>29.200</td>\n",
       "      <td>g</td>\n",
       "      <td>Total lipid (fat)</td>\n",
       "      <td>Composition</td>\n",
       "      <td>1008</td>\n",
       "    </tr>\n",
       "    <tr>\n",
       "      <th>2</th>\n",
       "      <td>3.060</td>\n",
       "      <td>g</td>\n",
       "      <td>Carbohydrate, by difference</td>\n",
       "      <td>Composition</td>\n",
       "      <td>1008</td>\n",
       "    </tr>\n",
       "    <tr>\n",
       "      <th>3</th>\n",
       "      <td>3.280</td>\n",
       "      <td>g</td>\n",
       "      <td>Ash</td>\n",
       "      <td>Other</td>\n",
       "      <td>1008</td>\n",
       "    </tr>\n",
       "    <tr>\n",
       "      <th>4</th>\n",
       "      <td>376.000</td>\n",
       "      <td>kcal</td>\n",
       "      <td>Energy</td>\n",
       "      <td>Energy</td>\n",
       "      <td>1008</td>\n",
       "    </tr>\n",
       "    <tr>\n",
       "      <th>...</th>\n",
       "      <td>...</td>\n",
       "      <td>...</td>\n",
       "      <td>...</td>\n",
       "      <td>...</td>\n",
       "      <td>...</td>\n",
       "    </tr>\n",
       "    <tr>\n",
       "      <th>389350</th>\n",
       "      <td>0.000</td>\n",
       "      <td>mcg</td>\n",
       "      <td>Vitamin B-12, added</td>\n",
       "      <td>Vitamins</td>\n",
       "      <td>43546</td>\n",
       "    </tr>\n",
       "    <tr>\n",
       "      <th>389351</th>\n",
       "      <td>0.000</td>\n",
       "      <td>mg</td>\n",
       "      <td>Cholesterol</td>\n",
       "      <td>Other</td>\n",
       "      <td>43546</td>\n",
       "    </tr>\n",
       "    <tr>\n",
       "      <th>389352</th>\n",
       "      <td>0.072</td>\n",
       "      <td>g</td>\n",
       "      <td>Fatty acids, total saturated</td>\n",
       "      <td>Other</td>\n",
       "      <td>43546</td>\n",
       "    </tr>\n",
       "    <tr>\n",
       "      <th>389353</th>\n",
       "      <td>0.028</td>\n",
       "      <td>g</td>\n",
       "      <td>Fatty acids, total monounsaturated</td>\n",
       "      <td>Other</td>\n",
       "      <td>43546</td>\n",
       "    </tr>\n",
       "    <tr>\n",
       "      <th>389354</th>\n",
       "      <td>0.041</td>\n",
       "      <td>g</td>\n",
       "      <td>Fatty acids, total polyunsaturated</td>\n",
       "      <td>Other</td>\n",
       "      <td>43546</td>\n",
       "    </tr>\n",
       "  </tbody>\n",
       "</table>\n",
       "<p>389355 rows × 5 columns</p>\n",
       "</div>"
      ],
      "text/plain": [
       "          value units                         description        group     id\n",
       "0        25.180     g                             Protein  Composition   1008\n",
       "1        29.200     g                   Total lipid (fat)  Composition   1008\n",
       "2         3.060     g         Carbohydrate, by difference  Composition   1008\n",
       "3         3.280     g                                 Ash        Other   1008\n",
       "4       376.000  kcal                              Energy       Energy   1008\n",
       "...         ...   ...                                 ...          ...    ...\n",
       "389350    0.000   mcg                 Vitamin B-12, added     Vitamins  43546\n",
       "389351    0.000    mg                         Cholesterol        Other  43546\n",
       "389352    0.072     g        Fatty acids, total saturated        Other  43546\n",
       "389353    0.028     g  Fatty acids, total monounsaturated        Other  43546\n",
       "389354    0.041     g  Fatty acids, total polyunsaturated        Other  43546\n",
       "\n",
       "[389355 rows x 5 columns]"
      ]
     },
     "execution_count": 222,
     "metadata": {},
     "output_type": "execute_result"
    }
   ],
   "source": [
    "# assemble the nutrients for each food into a single large table\n",
    "# analysis on all of the nutrient data\n",
    "\n",
    "nutrients = []\n",
    "\n",
    "for rec in db:\n",
    "    fnuts = pd.DataFrame(rec['nutrients'])\n",
    "    fnuts['id'] = rec['id']\n",
    "    nutrients.append(fnuts)\n",
    "                             \n",
    "nutrients = pd.concat(nutrients, ignore_index=True)\n",
    "nutrients"
   ]
  },
  {
   "cell_type": "code",
   "execution_count": 224,
   "id": "3214178f",
   "metadata": {},
   "outputs": [
    {
     "data": {
      "text/plain": [
       "14179"
      ]
     },
     "execution_count": 224,
     "metadata": {},
     "output_type": "execute_result"
    }
   ],
   "source": [
    "# drop duplicates\n",
    "nutrients.duplicated().sum()"
   ]
  },
  {
   "cell_type": "code",
   "execution_count": 226,
   "id": "373078a9",
   "metadata": {},
   "outputs": [
    {
     "data": {
      "text/plain": [
       "0"
      ]
     },
     "execution_count": 226,
     "metadata": {},
     "output_type": "execute_result"
    }
   ],
   "source": [
    "nutrients = nutrients.drop_duplicates()\n",
    "nutrients.duplicated().sum()"
   ]
  },
  {
   "cell_type": "code",
   "execution_count": 229,
   "id": "a4ee89d9",
   "metadata": {},
   "outputs": [
    {
     "name": "stdout",
     "output_type": "stream",
     "text": [
      "<class 'pandas.core.frame.DataFrame'>\n",
      "RangeIndex: 6636 entries, 0 to 6635\n",
      "Data columns (total 4 columns):\n",
      " #   Column        Non-Null Count  Dtype \n",
      "---  ------        --------------  ----- \n",
      " 0   food          6636 non-null   object\n",
      " 1   fgroup        6636 non-null   object\n",
      " 2   id            6636 non-null   int64 \n",
      " 3   manufacturer  5195 non-null   object\n",
      "dtypes: int64(1), object(3)\n",
      "memory usage: 207.5+ KB\n"
     ]
    }
   ],
   "source": [
    "# rename for clarity\n",
    "col_mapping = {'description' : 'food',\n",
    "              'group' : 'fgroup'}\n",
    "info = info.rename(columns= col_mapping, copy=False)\n",
    "info.info()"
   ]
  },
  {
   "cell_type": "code",
   "execution_count": 230,
   "id": "cd8294b8",
   "metadata": {},
   "outputs": [
    {
     "data": {
      "text/html": [
       "<div>\n",
       "<style scoped>\n",
       "    .dataframe tbody tr th:only-of-type {\n",
       "        vertical-align: middle;\n",
       "    }\n",
       "\n",
       "    .dataframe tbody tr th {\n",
       "        vertical-align: top;\n",
       "    }\n",
       "\n",
       "    .dataframe thead th {\n",
       "        text-align: right;\n",
       "    }\n",
       "</style>\n",
       "<table border=\"1\" class=\"dataframe\">\n",
       "  <thead>\n",
       "    <tr style=\"text-align: right;\">\n",
       "      <th></th>\n",
       "      <th>value</th>\n",
       "      <th>units</th>\n",
       "      <th>nutrient</th>\n",
       "      <th>nutgroup</th>\n",
       "      <th>id</th>\n",
       "    </tr>\n",
       "  </thead>\n",
       "  <tbody>\n",
       "    <tr>\n",
       "      <th>0</th>\n",
       "      <td>25.180</td>\n",
       "      <td>g</td>\n",
       "      <td>Protein</td>\n",
       "      <td>Composition</td>\n",
       "      <td>1008</td>\n",
       "    </tr>\n",
       "    <tr>\n",
       "      <th>1</th>\n",
       "      <td>29.200</td>\n",
       "      <td>g</td>\n",
       "      <td>Total lipid (fat)</td>\n",
       "      <td>Composition</td>\n",
       "      <td>1008</td>\n",
       "    </tr>\n",
       "    <tr>\n",
       "      <th>2</th>\n",
       "      <td>3.060</td>\n",
       "      <td>g</td>\n",
       "      <td>Carbohydrate, by difference</td>\n",
       "      <td>Composition</td>\n",
       "      <td>1008</td>\n",
       "    </tr>\n",
       "    <tr>\n",
       "      <th>3</th>\n",
       "      <td>3.280</td>\n",
       "      <td>g</td>\n",
       "      <td>Ash</td>\n",
       "      <td>Other</td>\n",
       "      <td>1008</td>\n",
       "    </tr>\n",
       "    <tr>\n",
       "      <th>4</th>\n",
       "      <td>376.000</td>\n",
       "      <td>kcal</td>\n",
       "      <td>Energy</td>\n",
       "      <td>Energy</td>\n",
       "      <td>1008</td>\n",
       "    </tr>\n",
       "    <tr>\n",
       "      <th>...</th>\n",
       "      <td>...</td>\n",
       "      <td>...</td>\n",
       "      <td>...</td>\n",
       "      <td>...</td>\n",
       "      <td>...</td>\n",
       "    </tr>\n",
       "    <tr>\n",
       "      <th>389350</th>\n",
       "      <td>0.000</td>\n",
       "      <td>mcg</td>\n",
       "      <td>Vitamin B-12, added</td>\n",
       "      <td>Vitamins</td>\n",
       "      <td>43546</td>\n",
       "    </tr>\n",
       "    <tr>\n",
       "      <th>389351</th>\n",
       "      <td>0.000</td>\n",
       "      <td>mg</td>\n",
       "      <td>Cholesterol</td>\n",
       "      <td>Other</td>\n",
       "      <td>43546</td>\n",
       "    </tr>\n",
       "    <tr>\n",
       "      <th>389352</th>\n",
       "      <td>0.072</td>\n",
       "      <td>g</td>\n",
       "      <td>Fatty acids, total saturated</td>\n",
       "      <td>Other</td>\n",
       "      <td>43546</td>\n",
       "    </tr>\n",
       "    <tr>\n",
       "      <th>389353</th>\n",
       "      <td>0.028</td>\n",
       "      <td>g</td>\n",
       "      <td>Fatty acids, total monounsaturated</td>\n",
       "      <td>Other</td>\n",
       "      <td>43546</td>\n",
       "    </tr>\n",
       "    <tr>\n",
       "      <th>389354</th>\n",
       "      <td>0.041</td>\n",
       "      <td>g</td>\n",
       "      <td>Fatty acids, total polyunsaturated</td>\n",
       "      <td>Other</td>\n",
       "      <td>43546</td>\n",
       "    </tr>\n",
       "  </tbody>\n",
       "</table>\n",
       "<p>375176 rows × 5 columns</p>\n",
       "</div>"
      ],
      "text/plain": [
       "          value units                            nutrient     nutgroup     id\n",
       "0        25.180     g                             Protein  Composition   1008\n",
       "1        29.200     g                   Total lipid (fat)  Composition   1008\n",
       "2         3.060     g         Carbohydrate, by difference  Composition   1008\n",
       "3         3.280     g                                 Ash        Other   1008\n",
       "4       376.000  kcal                              Energy       Energy   1008\n",
       "...         ...   ...                                 ...          ...    ...\n",
       "389350    0.000   mcg                 Vitamin B-12, added     Vitamins  43546\n",
       "389351    0.000    mg                         Cholesterol        Other  43546\n",
       "389352    0.072     g        Fatty acids, total saturated        Other  43546\n",
       "389353    0.028     g  Fatty acids, total monounsaturated        Other  43546\n",
       "389354    0.041     g  Fatty acids, total polyunsaturated        Other  43546\n",
       "\n",
       "[375176 rows x 5 columns]"
      ]
     },
     "execution_count": 230,
     "metadata": {},
     "output_type": "execute_result"
    }
   ],
   "source": [
    "col_mapping = {'description' : 'nutrient',\n",
    "              'group' : 'nutgroup'}\n",
    "nutrients = nutrients.rename(columns=col_mapping, copy=False)\n",
    "nutrients"
   ]
  },
  {
   "cell_type": "code",
   "execution_count": 231,
   "id": "1364bac1",
   "metadata": {},
   "outputs": [
    {
     "name": "stdout",
     "output_type": "stream",
     "text": [
      "<class 'pandas.core.frame.DataFrame'>\n",
      "RangeIndex: 375176 entries, 0 to 375175\n",
      "Data columns (total 8 columns):\n",
      " #   Column        Non-Null Count   Dtype  \n",
      "---  ------        --------------   -----  \n",
      " 0   value         375176 non-null  float64\n",
      " 1   units         375176 non-null  object \n",
      " 2   nutrient      375176 non-null  object \n",
      " 3   nutgroup      375176 non-null  object \n",
      " 4   id            375176 non-null  int64  \n",
      " 5   food          375176 non-null  object \n",
      " 6   fgroup        375176 non-null  object \n",
      " 7   manufacturer  293054 non-null  object \n",
      "dtypes: float64(1), int64(1), object(6)\n",
      "memory usage: 22.9+ MB\n"
     ]
    }
   ],
   "source": [
    "# merge info with nutrients:\n",
    "ndata = pd.merge(nutrients, info, on='id')\n",
    "ndata.info()"
   ]
  },
  {
   "cell_type": "code",
   "execution_count": 232,
   "id": "df2125cd",
   "metadata": {},
   "outputs": [
    {
     "data": {
      "text/plain": [
       "value                                             0.04\n",
       "units                                                g\n",
       "nutrient                                       Glycine\n",
       "nutgroup                                   Amino Acids\n",
       "id                                                6158\n",
       "food            Soup, tomato bisque, canned, condensed\n",
       "fgroup                      Soups, Sauces, and Gravies\n",
       "manufacturer                                          \n",
       "Name: 30000, dtype: object"
      ]
     },
     "execution_count": 232,
     "metadata": {},
     "output_type": "execute_result"
    }
   ],
   "source": [
    "ndata.iloc[30000]"
   ]
  },
  {
   "cell_type": "code",
   "execution_count": 235,
   "id": "5a94f1d8",
   "metadata": {},
   "outputs": [
    {
     "data": {
      "text/plain": [
       "nutrient          fgroup                           \n",
       "Adjusted Protein  Sweets                               12.900\n",
       "                  Vegetables and Vegetable Products     2.180\n",
       "Alanine           Baby Foods                            0.085\n",
       "                  Baked Products                        0.248\n",
       "                  Beef Products                         1.550\n",
       "Name: value, dtype: float64"
      ]
     },
     "execution_count": 235,
     "metadata": {},
     "output_type": "execute_result"
    }
   ],
   "source": [
    "# make a plot of median values by food group and nutrient type\n",
    "result = ndata.groupby(['nutrient', 'fgroup'])['value'].quantile(0.5)\n",
    "result.head()"
   ]
  },
  {
   "cell_type": "code",
   "execution_count": 237,
   "id": "1f629aba",
   "metadata": {},
   "outputs": [
    {
     "data": {
      "image/png": "[encoded data removed]",
      "text/plain": [
       "<Figure size 640x480 with 1 Axes>"
      ]
     },
     "metadata": {},
     "output_type": "display_data"
    }
   ],
   "source": [
    "result['Zinc, Zn'].sort_values().plot(kind='barh');"
   ]
  },
  {
   "cell_type": "code",
   "execution_count": 241,
   "id": "dbb529d9",
   "metadata": {},
   "outputs": [
    {
     "data": {
      "text/plain": [
       "nutrient\n",
       "Alanine                           Gelatins, dry powder, unsweetened\n",
       "Arginine                               Seeds, sesame flour, low-fat\n",
       "Aspartic acid                                   Soy protein isolate\n",
       "Cystine                Seeds, cottonseed flour, low fat (glandless)\n",
       "Glutamic acid                                   Soy protein isolate\n",
       "Glycine                           Gelatins, dry powder, unsweetened\n",
       "Histidine                Whale, beluga, meat, dried (Alaska Native)\n",
       "Hydroxyproline    KENTUCKY FRIED CHICKEN, Fried Chicken, ORIGINA...\n",
       "Isoleucine        Soy protein isolate, PROTEIN TECHNOLOGIES INTE...\n",
       "Leucine           Soy protein isolate, PROTEIN TECHNOLOGIES INTE...\n",
       "Lysine            Seal, bearded (Oogruk), meat, dried (Alaska Na...\n",
       "Methionine                    Fish, cod, Atlantic, dried and salted\n",
       "Phenylalanine     Soy protein isolate, PROTEIN TECHNOLOGIES INTE...\n",
       "Proline                           Gelatins, dry powder, unsweetened\n",
       "Serine            Soy protein isolate, PROTEIN TECHNOLOGIES INTE...\n",
       "Threonine         Soy protein isolate, PROTEIN TECHNOLOGIES INTE...\n",
       "Tryptophan         Sea lion, Steller, meat with fat (Alaska Native)\n",
       "Tyrosine          Soy protein isolate, PROTEIN TECHNOLOGIES INTE...\n",
       "Valine            Soy protein isolate, PROTEIN TECHNOLOGIES INTE...\n",
       "Name: food, dtype: object"
      ]
     },
     "execution_count": 241,
     "metadata": {},
     "output_type": "execute_result"
    }
   ],
   "source": [
    "# find which food is most dense in each nutrient\n",
    "by_nutrient = ndata.groupby(['nutgroup', 'nutrient'])\n",
    "\n",
    "def get_maximum(x):\n",
    "    return x.loc[x.value.idxmax()]\n",
    "\n",
    "max_food = by_nutrient.apply(get_maximum)[['value', 'food']]\n",
    "max_food['food'] = max_food['food'].str[:50]\n",
    "max_food.loc['Amino Acids']['food']"
   ]
  },
  {
   "cell_type": "code",
   "execution_count": 245,
   "id": "8461b636",
   "metadata": {},
   "outputs": [],
   "source": [
    "#################### 2012 Federal Election Commission Database ####################\n",
    "fec = pd.read_csv('examples/P00000001-ALL.csv', low_memory=False)"
   ]
  },
  {
   "cell_type": "code",
   "execution_count": 246,
   "id": "90d3cc0d",
   "metadata": {},
   "outputs": [
    {
     "name": "stdout",
     "output_type": "stream",
     "text": [
      "<class 'pandas.core.frame.DataFrame'>\n",
      "RangeIndex: 1001731 entries, 0 to 1001730\n",
      "Data columns (total 16 columns):\n",
      " #   Column             Non-Null Count    Dtype  \n",
      "---  ------             --------------    -----  \n",
      " 0   cmte_id            1001731 non-null  object \n",
      " 1   cand_id            1001731 non-null  object \n",
      " 2   cand_nm            1001731 non-null  object \n",
      " 3   contbr_nm          1001731 non-null  object \n",
      " 4   contbr_city        1001712 non-null  object \n",
      " 5   contbr_st          1001727 non-null  object \n",
      " 6   contbr_zip         1001620 non-null  object \n",
      " 7   contbr_employer    988002 non-null   object \n",
      " 8   contbr_occupation  993301 non-null   object \n",
      " 9   contb_receipt_amt  1001731 non-null  float64\n",
      " 10  contb_receipt_dt   1001731 non-null  object \n",
      " 11  receipt_desc       14166 non-null    object \n",
      " 12  memo_cd            92482 non-null    object \n",
      " 13  memo_text          97770 non-null    object \n",
      " 14  form_tp            1001731 non-null  object \n",
      " 15  file_num           1001731 non-null  int64  \n",
      "dtypes: float64(1), int64(1), object(14)\n",
      "memory usage: 122.3+ MB\n"
     ]
    }
   ],
   "source": [
    "fec.info()"
   ]
  },
  {
   "cell_type": "code",
   "execution_count": 248,
   "id": "e1065847",
   "metadata": {},
   "outputs": [
    {
     "data": {
      "text/plain": [
       "cmte_id                             C00431445\n",
       "cand_id                             P80003338\n",
       "cand_nm                         Obama, Barack\n",
       "contbr_nm                         ELLMAN, IRA\n",
       "contbr_city                             TEMPE\n",
       "contbr_st                                  AZ\n",
       "contbr_zip                          852816719\n",
       "contbr_employer      ARIZONA STATE UNIVERSITY\n",
       "contbr_occupation                   PROFESSOR\n",
       "contb_receipt_amt                        50.0\n",
       "contb_receipt_dt                    01-DEC-11\n",
       "receipt_desc                              NaN\n",
       "memo_cd                                   NaN\n",
       "memo_text                                 NaN\n",
       "form_tp                                 SA17A\n",
       "file_num                               772372\n",
       "Name: 123456, dtype: object"
      ]
     },
     "execution_count": 248,
     "metadata": {},
     "output_type": "execute_result"
    }
   ],
   "source": [
    "# sample record in the DataFrame\n",
    "fec.iloc[123456]"
   ]
  },
  {
   "cell_type": "code",
   "execution_count": 250,
   "id": "32eaae5f",
   "metadata": {},
   "outputs": [
    {
     "data": {
      "text/plain": [
       "array(['Bachmann, Michelle', 'Romney, Mitt', 'Obama, Barack',\n",
       "       \"Roemer, Charles E. 'Buddy' III\", 'Pawlenty, Timothy',\n",
       "       'Johnson, Gary Earl', 'Paul, Ron', 'Santorum, Rick',\n",
       "       'Cain, Herman', 'Gingrich, Newt', 'McCotter, Thaddeus G',\n",
       "       'Huntsman, Jon', 'Perry, Rick'], dtype=object)"
      ]
     },
     "execution_count": 250,
     "metadata": {},
     "output_type": "execute_result"
    }
   ],
   "source": [
    "# get a list of all the unique political candidates\n",
    "unique_cands = fec['cand_nm'].unique()\n",
    "unique_cands"
   ]
  },
  {
   "cell_type": "code",
   "execution_count": 251,
   "id": "0d94ac51",
   "metadata": {},
   "outputs": [
    {
     "data": {
      "text/plain": [
       "'Obama, Barack'"
      ]
     },
     "execution_count": 251,
     "metadata": {},
     "output_type": "execute_result"
    }
   ],
   "source": [
    "unique_cands[2]"
   ]
  },
  {
   "cell_type": "code",
   "execution_count": 253,
   "id": "ba0d83cc",
   "metadata": {},
   "outputs": [],
   "source": [
    "# indicate party affiliation using a dictionary\n",
    "parties = {\"Bachmann, Michelle\": \"Republican\",\n",
    "           \"Cain, Herman\": \"Republican\",\n",
    "           \"Gingrich, Newt\": \"Republican\",\n",
    "           \"Huntsman, Jon\": \"Republican\",\n",
    "           \"Johnson, Gary Earl\": \"Republican\",\n",
    "           \"McCotter, Thaddeus G\": \"Republican\",\n",
    "           \"Obama, Barack\": \"Democrat\",\n",
    "           \"Paul, Ron\": \"Republican\",\n",
    "           \"Pawlenty, Timothy\": \"Republican\",\n",
    "           \"Perry, Rick\": \"Republican\",\n",
    "           \"Roemer, Charles E. 'Buddy' III\": \"Republican\",\n",
    "           \"Romney, Mitt\": \"Republican\",\n",
    "           \"Santorum, Rick\": \"Republican\"}"
   ]
  },
  {
   "cell_type": "code",
   "execution_count": 255,
   "id": "dffd9c72",
   "metadata": {},
   "outputs": [
    {
     "data": {
      "text/plain": [
       "123456    Obama, Barack\n",
       "123457    Obama, Barack\n",
       "123458    Obama, Barack\n",
       "123459    Obama, Barack\n",
       "123460    Obama, Barack\n",
       "Name: cand_nm, dtype: object"
      ]
     },
     "execution_count": 255,
     "metadata": {},
     "output_type": "execute_result"
    }
   ],
   "source": [
    "# compute an array of political parties from the candidate names\n",
    "fec['cand_nm'][123456:123461]"
   ]
  },
  {
   "cell_type": "code",
   "execution_count": 256,
   "id": "2066c551",
   "metadata": {},
   "outputs": [
    {
     "data": {
      "text/plain": [
       "123456    Democrat\n",
       "123457    Democrat\n",
       "123458    Democrat\n",
       "123459    Democrat\n",
       "123460    Democrat\n",
       "Name: cand_nm, dtype: object"
      ]
     },
     "execution_count": 256,
     "metadata": {},
     "output_type": "execute_result"
    }
   ],
   "source": [
    "fec['cand_nm'][123456:123461].map(parties)"
   ]
  },
  {
   "cell_type": "code",
   "execution_count": 259,
   "id": "7d1cabcd",
   "metadata": {},
   "outputs": [
    {
     "data": {
      "text/plain": [
       "party\n",
       "Democrat      593746\n",
       "Republican    407985\n",
       "Name: count, dtype: int64"
      ]
     },
     "execution_count": 259,
     "metadata": {},
     "output_type": "execute_result"
    }
   ],
   "source": [
    "# Add it as a column\n",
    "fec['party'] = fec['cand_nm'].map(parties)\n",
    "fec['party'].value_counts()"
   ]
  },
  {
   "cell_type": "code",
   "execution_count": 260,
   "id": "c884694b",
   "metadata": {},
   "outputs": [
    {
     "data": {
      "text/plain": [
       "contb_receipt_amt\n",
       "True     991475\n",
       "False     10256\n",
       "Name: count, dtype: int64"
      ]
     },
     "execution_count": 260,
     "metadata": {},
     "output_type": "execute_result"
    }
   ],
   "source": [
    "# this data includes both contributions and refunds\n",
    "(fec['contb_receipt_amt'] > 0).value_counts()"
   ]
  },
  {
   "cell_type": "code",
   "execution_count": 261,
   "id": "e57de4cf",
   "metadata": {},
   "outputs": [],
   "source": [
    "# restrict the dataset to positive contributions to simplify the analysis\n",
    "fec = fec[fec['contb_receipt_amt'] > 0]"
   ]
  },
  {
   "cell_type": "code",
   "execution_count": 263,
   "id": "8e988ced",
   "metadata": {},
   "outputs": [],
   "source": [
    "# repare a subset that just has contributions to Barack Obama and Mitt Romney\n",
    "fec_mrbo = fec[fec['cand_nm'].isin(['Obama, Barack', 'Romney, Mitt'])]"
   ]
  },
  {
   "cell_type": "code",
   "execution_count": 264,
   "id": "01a03331",
   "metadata": {},
   "outputs": [
    {
     "data": {
      "text/plain": [
       "contbr_occupation\n",
       "RETIRED                                   233990\n",
       "INFORMATION REQUESTED                      35107\n",
       "ATTORNEY                                   34286\n",
       "HOMEMAKER                                  29931\n",
       "PHYSICIAN                                  23432\n",
       "INFORMATION REQUESTED PER BEST EFFORTS     21138\n",
       "ENGINEER                                   14334\n",
       "TEACHER                                    13990\n",
       "CONSULTANT                                 13273\n",
       "PROFESSOR                                  12555\n",
       "Name: count, dtype: int64"
      ]
     },
     "execution_count": 264,
     "metadata": {},
     "output_type": "execute_result"
    }
   ],
   "source": [
    "# Donation Statistics by Occupation and Employer\n",
    "# total number of donations by occupation can be computed with value_counts\n",
    "fec['contbr_occupation'].value_counts()[:10]"
   ]
  },
  {
   "cell_type": "code",
   "execution_count": 267,
   "id": "8ca57196",
   "metadata": {},
   "outputs": [],
   "source": [
    "# technique for cleaning up a few of them by mapping from one occupation to another\n",
    "# using dict.get to allow occupations with no mapping to “pass through”\n",
    "occ_mapping = {\n",
    "    \"INFORMATION REQUESTED PER BEST EFFORTS\" : \"NOT PROVIDED\",\n",
    "   \"INFORMATION REQUESTED\" : \"NOT PROVIDED\",\n",
    "   \"INFORMATION REQUESTED (BEST EFFORTS)\" : \"NOT PROVIDED\",\n",
    "   \"C.E.O.\": \"CEO\"\n",
    "}\n"
   ]
  },
  {
   "cell_type": "code",
   "execution_count": 271,
   "id": "e20573c2",
   "metadata": {},
   "outputs": [
    {
     "name": "stderr",
     "output_type": "stream",
     "text": [
      "/var/folders/dt/h03hwm697hx841j0c8hc19nc0000gn/T/ipykernel_24871/1194659926.py:5: SettingWithCopyWarning: \n",
      "A value is trying to be set on a copy of a slice from a DataFrame.\n",
      "Try using .loc[row_indexer,col_indexer] = value instead\n",
      "\n",
      "See the caveats in the documentation: https://pandas.pydata.org/pandas-docs/stable/user_guide/indexing.html#returning-a-view-versus-a-copy\n",
      "  fec['contbr_occupation'] = fec['contbr_occupation'].map(get_occ)\n"
     ]
    },
    {
     "data": {
      "text/plain": [
       "contbr_occupation\n",
       "RETIRED         233990\n",
       "NOT PROVIDED     57151\n",
       "ATTORNEY         34286\n",
       "HOMEMAKER        29931\n",
       "PHYSICIAN        23432\n",
       "ENGINEER         14334\n",
       "TEACHER          13990\n",
       "CONSULTANT       13273\n",
       "PROFESSOR        12555\n",
       "NOT EMPLOYED      9828\n",
       "Name: count, dtype: int64"
      ]
     },
     "execution_count": 271,
     "metadata": {},
     "output_type": "execute_result"
    }
   ],
   "source": [
    "def get_occ(x):\n",
    "    # If no mapping provided, return x\n",
    "    return occ_mapping.get(x, x)\n",
    "\n",
    "fec['contbr_occupation'] = fec['contbr_occupation'].map(get_occ)\n",
    "fec['contbr_occupation'].value_counts()[:10]"
   ]
  },
  {
   "cell_type": "code",
   "execution_count": 272,
   "id": "88bfcc14",
   "metadata": {},
   "outputs": [
    {
     "name": "stderr",
     "output_type": "stream",
     "text": [
      "/var/folders/dt/h03hwm697hx841j0c8hc19nc0000gn/T/ipykernel_24871/3896919883.py:13: SettingWithCopyWarning: \n",
      "A value is trying to be set on a copy of a slice from a DataFrame.\n",
      "Try using .loc[row_indexer,col_indexer] = value instead\n",
      "\n",
      "See the caveats in the documentation: https://pandas.pydata.org/pandas-docs/stable/user_guide/indexing.html#returning-a-view-versus-a-copy\n",
      "  fec['contbr_employer'] = fec['contbr_employer'].map(get_emp)\n"
     ]
    },
    {
     "data": {
      "text/plain": [
       "contbr_employer\n",
       "RETIRED          206675\n",
       "SELF-EMPLOYED    125164\n",
       "NOT PROVIDED      58396\n",
       "NOT EMPLOYED      45877\n",
       "NONE              19929\n",
       "HOMEMAKER         18269\n",
       "REQUESTED          4233\n",
       "UNEMPLOYED         2514\n",
       "US ARMY            1817\n",
       "STUDENT            1786\n",
       "Name: count, dtype: int64"
      ]
     },
     "execution_count": 272,
     "metadata": {},
     "output_type": "execute_result"
    }
   ],
   "source": [
    "# do the same thing for employers\n",
    "emp_mapping = {\n",
    "   \"INFORMATION REQUESTED PER BEST EFFORTS\" : \"NOT PROVIDED\",\n",
    "   \"INFORMATION REQUESTED\" : \"NOT PROVIDED\",\n",
    "   \"SELF\" : \"SELF-EMPLOYED\",\n",
    "   \"SELF EMPLOYED\" : \"SELF-EMPLOYED\",\n",
    "}\n",
    "\n",
    "def get_emp(x):\n",
    "    # If no mapping provided, return x\n",
    "    return emp_mapping.get(x, x)\n",
    "\n",
    "fec['contbr_employer'] = fec['contbr_employer'].map(get_emp)\n",
    "fec['contbr_employer'].value_counts()[:10]"
   ]
  },
  {
   "cell_type": "code",
   "execution_count": 274,
   "id": "7513d6d3",
   "metadata": {},
   "outputs": [
    {
     "data": {
      "text/html": [
       "<div>\n",
       "<style scoped>\n",
       "    .dataframe tbody tr th:only-of-type {\n",
       "        vertical-align: middle;\n",
       "    }\n",
       "\n",
       "    .dataframe tbody tr th {\n",
       "        vertical-align: top;\n",
       "    }\n",
       "\n",
       "    .dataframe thead th {\n",
       "        text-align: right;\n",
       "    }\n",
       "</style>\n",
       "<table border=\"1\" class=\"dataframe\">\n",
       "  <thead>\n",
       "    <tr style=\"text-align: right;\">\n",
       "      <th>party</th>\n",
       "      <th>Democrat</th>\n",
       "      <th>Republican</th>\n",
       "    </tr>\n",
       "    <tr>\n",
       "      <th>contbr_occupation</th>\n",
       "      <th></th>\n",
       "      <th></th>\n",
       "    </tr>\n",
       "  </thead>\n",
       "  <tbody>\n",
       "    <tr>\n",
       "      <th>ATTORNEY</th>\n",
       "      <td>11141982.97</td>\n",
       "      <td>7477194.43</td>\n",
       "    </tr>\n",
       "    <tr>\n",
       "      <th>CEO</th>\n",
       "      <td>2074974.79</td>\n",
       "      <td>4211040.52</td>\n",
       "    </tr>\n",
       "    <tr>\n",
       "      <th>CONSULTANT</th>\n",
       "      <td>2459912.71</td>\n",
       "      <td>2544725.45</td>\n",
       "    </tr>\n",
       "    <tr>\n",
       "      <th>ENGINEER</th>\n",
       "      <td>951525.55</td>\n",
       "      <td>1818373.70</td>\n",
       "    </tr>\n",
       "    <tr>\n",
       "      <th>EXECUTIVE</th>\n",
       "      <td>1355161.05</td>\n",
       "      <td>4138850.09</td>\n",
       "    </tr>\n",
       "    <tr>\n",
       "      <th>HOMEMAKER</th>\n",
       "      <td>4248875.80</td>\n",
       "      <td>13634275.78</td>\n",
       "    </tr>\n",
       "    <tr>\n",
       "      <th>INVESTOR</th>\n",
       "      <td>884133.00</td>\n",
       "      <td>2431768.92</td>\n",
       "    </tr>\n",
       "    <tr>\n",
       "      <th>LAWYER</th>\n",
       "      <td>3160478.87</td>\n",
       "      <td>391224.32</td>\n",
       "    </tr>\n",
       "    <tr>\n",
       "      <th>MANAGER</th>\n",
       "      <td>762883.22</td>\n",
       "      <td>1444532.37</td>\n",
       "    </tr>\n",
       "    <tr>\n",
       "      <th>NOT PROVIDED</th>\n",
       "      <td>4866973.96</td>\n",
       "      <td>20565473.01</td>\n",
       "    </tr>\n",
       "    <tr>\n",
       "      <th>OWNER</th>\n",
       "      <td>1001567.36</td>\n",
       "      <td>2408286.92</td>\n",
       "    </tr>\n",
       "    <tr>\n",
       "      <th>PHYSICIAN</th>\n",
       "      <td>3735124.94</td>\n",
       "      <td>3594320.24</td>\n",
       "    </tr>\n",
       "    <tr>\n",
       "      <th>PRESIDENT</th>\n",
       "      <td>1878509.95</td>\n",
       "      <td>4720923.76</td>\n",
       "    </tr>\n",
       "    <tr>\n",
       "      <th>PROFESSOR</th>\n",
       "      <td>2165071.08</td>\n",
       "      <td>296702.73</td>\n",
       "    </tr>\n",
       "    <tr>\n",
       "      <th>REAL ESTATE</th>\n",
       "      <td>528902.09</td>\n",
       "      <td>1625902.25</td>\n",
       "    </tr>\n",
       "    <tr>\n",
       "      <th>RETIRED</th>\n",
       "      <td>25305116.38</td>\n",
       "      <td>23561244.49</td>\n",
       "    </tr>\n",
       "    <tr>\n",
       "      <th>SELF-EMPLOYED</th>\n",
       "      <td>672393.40</td>\n",
       "      <td>1640252.54</td>\n",
       "    </tr>\n",
       "  </tbody>\n",
       "</table>\n",
       "</div>"
      ],
      "text/plain": [
       "party                 Democrat   Republican\n",
       "contbr_occupation                          \n",
       "ATTORNEY           11141982.97   7477194.43\n",
       "CEO                 2074974.79   4211040.52\n",
       "CONSULTANT          2459912.71   2544725.45\n",
       "ENGINEER             951525.55   1818373.70\n",
       "EXECUTIVE           1355161.05   4138850.09\n",
       "HOMEMAKER           4248875.80  13634275.78\n",
       "INVESTOR             884133.00   2431768.92\n",
       "LAWYER              3160478.87    391224.32\n",
       "MANAGER              762883.22   1444532.37\n",
       "NOT PROVIDED        4866973.96  20565473.01\n",
       "OWNER               1001567.36   2408286.92\n",
       "PHYSICIAN           3735124.94   3594320.24\n",
       "PRESIDENT           1878509.95   4720923.76\n",
       "PROFESSOR           2165071.08    296702.73\n",
       "REAL ESTATE          528902.09   1625902.25\n",
       "RETIRED            25305116.38  23561244.49\n",
       "SELF-EMPLOYED        672393.40   1640252.54"
      ]
     },
     "execution_count": 274,
     "metadata": {},
     "output_type": "execute_result"
    }
   ],
   "source": [
    "# use pivot_table to aggregate the data by party and occupation\n",
    "# filter down to the subset that donated at least $2 million\n",
    "by_occupation = fec.pivot_table('contb_receipt_amt',\n",
    "                               index='contbr_occupation',\n",
    "                               columns='party',\n",
    "                               aggfunc='sum')\n",
    "over_2mm = by_occupation[by_occupation.sum(axis='columns') > 2000000]\n",
    "over_2mm"
   ]
  },
  {
   "cell_type": "code",
   "execution_count": 276,
   "id": "97856eca",
   "metadata": {},
   "outputs": [
    {
     "data": {
      "image/png": "[encoded data removed]",
      "text/plain": [
       "<Figure size 640x480 with 1 Axes>"
      ]
     },
     "metadata": {},
     "output_type": "display_data"
    }
   ],
   "source": [
    "# easier to look at this data graphically as a bar plot\n",
    "over_2mm.plot(kind='barh');"
   ]
  },
  {
   "cell_type": "code",
   "execution_count": 277,
   "id": "67c8ce67",
   "metadata": {},
   "outputs": [],
   "source": [
    "# top donor occupations or top companies that donated to Obama and Romney\n",
    "# group by candidate name and use a variant of the top method\n",
    "def get_top_amounts(group, key, n=5):\n",
    "    totals = group.groupby(key)['contb_receipt_amt'].sum()\n",
    "    return totals.nlargest(n)"
   ]
  },
  {
   "cell_type": "code",
   "execution_count": 280,
   "id": "8061b58b",
   "metadata": {},
   "outputs": [
    {
     "data": {
      "text/plain": [
       "cand_nm        contbr_occupation                     \n",
       "Obama, Barack  RETIRED                                   25305116.38\n",
       "               ATTORNEY                                  11141982.97\n",
       "               INFORMATION REQUESTED                      4866973.96\n",
       "               HOMEMAKER                                  4248875.80\n",
       "               PHYSICIAN                                  3735124.94\n",
       "               LAWYER                                     3160478.87\n",
       "               CONSULTANT                                 2459912.71\n",
       "Romney, Mitt   RETIRED                                   11508473.59\n",
       "               INFORMATION REQUESTED PER BEST EFFORTS    11396894.84\n",
       "               HOMEMAKER                                  8147446.22\n",
       "               ATTORNEY                                   5364718.82\n",
       "               PRESIDENT                                  2491244.89\n",
       "               EXECUTIVE                                  2300947.03\n",
       "               C.E.O.                                     1968386.11\n",
       "Name: contb_receipt_amt, dtype: float64"
      ]
     },
     "execution_count": 280,
     "metadata": {},
     "output_type": "execute_result"
    }
   ],
   "source": [
    "# aggregate by occupation and employer\n",
    "grouped = fec_mrbo.groupby('cand_nm')\n",
    "grouped.apply(get_top_amounts, 'contbr_occupation', n=7)"
   ]
  },
  {
   "cell_type": "code",
   "execution_count": 281,
   "id": "cdb41d64",
   "metadata": {},
   "outputs": [
    {
     "data": {
      "text/plain": [
       "cand_nm        contbr_employer                       \n",
       "Obama, Barack  RETIRED                                   22694358.85\n",
       "               SELF-EMPLOYED                             17080985.96\n",
       "               NOT EMPLOYED                               8586308.70\n",
       "               INFORMATION REQUESTED                      5053480.37\n",
       "               HOMEMAKER                                  2605408.54\n",
       "               SELF                                       1076531.20\n",
       "               SELF EMPLOYED                               469290.00\n",
       "               STUDENT                                     318831.45\n",
       "               VOLUNTEER                                   257104.00\n",
       "               MICROSOFT                                   215585.36\n",
       "Romney, Mitt   INFORMATION REQUESTED PER BEST EFFORTS    12059527.24\n",
       "               RETIRED                                   11506225.71\n",
       "               HOMEMAKER                                  8147196.22\n",
       "               SELF-EMPLOYED                              7409860.98\n",
       "               STUDENT                                     496490.94\n",
       "               CREDIT SUISSE                               281150.00\n",
       "               MORGAN STANLEY                              267266.00\n",
       "               GOLDMAN SACH & CO.                          238250.00\n",
       "               BARCLAYS CAPITAL                            162750.00\n",
       "               H.I.G. CAPITAL                              139500.00\n",
       "Name: contb_receipt_amt, dtype: float64"
      ]
     },
     "execution_count": 281,
     "metadata": {},
     "output_type": "execute_result"
    }
   ],
   "source": [
    "grouped.apply(get_top_amounts, 'contbr_employer', n=10)"
   ]
  },
  {
   "cell_type": "code",
   "execution_count": 283,
   "id": "dc829752",
   "metadata": {},
   "outputs": [
    {
     "data": {
      "text/plain": [
       "411         (10, 100]\n",
       "412       (100, 1000]\n",
       "413       (100, 1000]\n",
       "414         (10, 100]\n",
       "415         (10, 100]\n",
       "             ...     \n",
       "701381      (10, 100]\n",
       "701382    (100, 1000]\n",
       "701383        (1, 10]\n",
       "701384      (10, 100]\n",
       "701385    (100, 1000]\n",
       "Name: contb_receipt_amt, Length: 694282, dtype: category\n",
       "Categories (8, interval[int64, right]): [(0, 1] < (1, 10] < (10, 100] < (100, 1000] < (1000, 10000] < (10000, 100000] < (100000, 1000000] < (1000000, 10000000]]"
      ]
     },
     "execution_count": 283,
     "metadata": {},
     "output_type": "execute_result"
    }
   ],
   "source": [
    "# Bucketing Donation Amounts\n",
    "# use the cut function to discretize the contributor amounts into buckets by contribution size\n",
    "bins = np.array([0, 1, 10, 100, 1000, 10000,\n",
    "            100_000, 1_000_000, 10_000_000])\n",
    "labels = pd.cut(fec_mrbo['contb_receipt_amt'], bins)\n",
    "labels"
   ]
  },
  {
   "cell_type": "code",
   "execution_count": 286,
   "id": "7561d2f6",
   "metadata": {},
   "outputs": [
    {
     "data": {
      "text/html": [
       "<div>\n",
       "<style scoped>\n",
       "    .dataframe tbody tr th:only-of-type {\n",
       "        vertical-align: middle;\n",
       "    }\n",
       "\n",
       "    .dataframe tbody tr th {\n",
       "        vertical-align: top;\n",
       "    }\n",
       "\n",
       "    .dataframe thead th {\n",
       "        text-align: right;\n",
       "    }\n",
       "</style>\n",
       "<table border=\"1\" class=\"dataframe\">\n",
       "  <thead>\n",
       "    <tr style=\"text-align: right;\">\n",
       "      <th>cand_nm</th>\n",
       "      <th>Obama, Barack</th>\n",
       "      <th>Romney, Mitt</th>\n",
       "    </tr>\n",
       "    <tr>\n",
       "      <th>contb_receipt_amt</th>\n",
       "      <th></th>\n",
       "      <th></th>\n",
       "    </tr>\n",
       "  </thead>\n",
       "  <tbody>\n",
       "    <tr>\n",
       "      <th>(0, 1]</th>\n",
       "      <td>493</td>\n",
       "      <td>77</td>\n",
       "    </tr>\n",
       "    <tr>\n",
       "      <th>(1, 10]</th>\n",
       "      <td>40070</td>\n",
       "      <td>3681</td>\n",
       "    </tr>\n",
       "    <tr>\n",
       "      <th>(10, 100]</th>\n",
       "      <td>372280</td>\n",
       "      <td>31853</td>\n",
       "    </tr>\n",
       "    <tr>\n",
       "      <th>(100, 1000]</th>\n",
       "      <td>153991</td>\n",
       "      <td>43357</td>\n",
       "    </tr>\n",
       "    <tr>\n",
       "      <th>(1000, 10000]</th>\n",
       "      <td>22284</td>\n",
       "      <td>26186</td>\n",
       "    </tr>\n",
       "    <tr>\n",
       "      <th>(10000, 100000]</th>\n",
       "      <td>2</td>\n",
       "      <td>1</td>\n",
       "    </tr>\n",
       "    <tr>\n",
       "      <th>(100000, 1000000]</th>\n",
       "      <td>3</td>\n",
       "      <td>0</td>\n",
       "    </tr>\n",
       "    <tr>\n",
       "      <th>(1000000, 10000000]</th>\n",
       "      <td>4</td>\n",
       "      <td>0</td>\n",
       "    </tr>\n",
       "  </tbody>\n",
       "</table>\n",
       "</div>"
      ],
      "text/plain": [
       "cand_nm              Obama, Barack  Romney, Mitt\n",
       "contb_receipt_amt                               \n",
       "(0, 1]                         493            77\n",
       "(1, 10]                      40070          3681\n",
       "(10, 100]                   372280         31853\n",
       "(100, 1000]                 153991         43357\n",
       "(1000, 10000]                22284         26186\n",
       "(10000, 100000]                  2             1\n",
       "(100000, 1000000]                3             0\n",
       "(1000000, 10000000]              4             0"
      ]
     },
     "execution_count": 286,
     "metadata": {},
     "output_type": "execute_result"
    }
   ],
   "source": [
    "# group the data for Obama and Romney by name and bin label to get a histogram by donation size\n",
    "grouped = fec_mrbo.groupby(['cand_nm', labels])\n",
    "grouped.size().unstack(level=0)"
   ]
  },
  {
   "cell_type": "code",
   "execution_count": 289,
   "id": "7c1af185",
   "metadata": {},
   "outputs": [
    {
     "data": {
      "text/html": [
       "<div>\n",
       "<style scoped>\n",
       "    .dataframe tbody tr th:only-of-type {\n",
       "        vertical-align: middle;\n",
       "    }\n",
       "\n",
       "    .dataframe tbody tr th {\n",
       "        vertical-align: top;\n",
       "    }\n",
       "\n",
       "    .dataframe thead th {\n",
       "        text-align: right;\n",
       "    }\n",
       "</style>\n",
       "<table border=\"1\" class=\"dataframe\">\n",
       "  <thead>\n",
       "    <tr style=\"text-align: right;\">\n",
       "      <th>cand_nm</th>\n",
       "      <th>Obama, Barack</th>\n",
       "      <th>Romney, Mitt</th>\n",
       "    </tr>\n",
       "    <tr>\n",
       "      <th>contb_receipt_amt</th>\n",
       "      <th></th>\n",
       "      <th></th>\n",
       "    </tr>\n",
       "  </thead>\n",
       "  <tbody>\n",
       "    <tr>\n",
       "      <th>(0, 1]</th>\n",
       "      <td>318.24</td>\n",
       "      <td>77.00</td>\n",
       "    </tr>\n",
       "    <tr>\n",
       "      <th>(1, 10]</th>\n",
       "      <td>337267.62</td>\n",
       "      <td>29819.66</td>\n",
       "    </tr>\n",
       "    <tr>\n",
       "      <th>(10, 100]</th>\n",
       "      <td>20288981.41</td>\n",
       "      <td>1987783.76</td>\n",
       "    </tr>\n",
       "    <tr>\n",
       "      <th>(100, 1000]</th>\n",
       "      <td>54798531.46</td>\n",
       "      <td>22363381.69</td>\n",
       "    </tr>\n",
       "    <tr>\n",
       "      <th>(1000, 10000]</th>\n",
       "      <td>51753705.67</td>\n",
       "      <td>63942145.42</td>\n",
       "    </tr>\n",
       "    <tr>\n",
       "      <th>(10000, 100000]</th>\n",
       "      <td>59100.00</td>\n",
       "      <td>12700.00</td>\n",
       "    </tr>\n",
       "    <tr>\n",
       "      <th>(100000, 1000000]</th>\n",
       "      <td>1490683.08</td>\n",
       "      <td>0.00</td>\n",
       "    </tr>\n",
       "    <tr>\n",
       "      <th>(1000000, 10000000]</th>\n",
       "      <td>7148839.76</td>\n",
       "      <td>0.00</td>\n",
       "    </tr>\n",
       "  </tbody>\n",
       "</table>\n",
       "</div>"
      ],
      "text/plain": [
       "cand_nm              Obama, Barack  Romney, Mitt\n",
       "contb_receipt_amt                               \n",
       "(0, 1]                      318.24         77.00\n",
       "(1, 10]                  337267.62      29819.66\n",
       "(10, 100]              20288981.41    1987783.76\n",
       "(100, 1000]            54798531.46   22363381.69\n",
       "(1000, 10000]          51753705.67   63942145.42\n",
       "(10000, 100000]           59100.00      12700.00\n",
       "(100000, 1000000]       1490683.08          0.00\n",
       "(1000000, 10000000]     7148839.76          0.00"
      ]
     },
     "execution_count": 289,
     "metadata": {},
     "output_type": "execute_result"
    }
   ],
   "source": [
    "# sum the contribution amounts and normalize within buckets \n",
    "# to visualize the percentage of total donations of each size by candidate\n",
    "bucket_sums = grouped['contb_receipt_amt'].sum().unstack(level=0)\n",
    "bucket_sums"
   ]
  },
  {
   "cell_type": "code",
   "execution_count": 290,
   "id": "a8bc9ae6",
   "metadata": {},
   "outputs": [
    {
     "data": {
      "text/html": [
       "<div>\n",
       "<style scoped>\n",
       "    .dataframe tbody tr th:only-of-type {\n",
       "        vertical-align: middle;\n",
       "    }\n",
       "\n",
       "    .dataframe tbody tr th {\n",
       "        vertical-align: top;\n",
       "    }\n",
       "\n",
       "    .dataframe thead th {\n",
       "        text-align: right;\n",
       "    }\n",
       "</style>\n",
       "<table border=\"1\" class=\"dataframe\">\n",
       "  <thead>\n",
       "    <tr style=\"text-align: right;\">\n",
       "      <th>cand_nm</th>\n",
       "      <th>Obama, Barack</th>\n",
       "      <th>Romney, Mitt</th>\n",
       "    </tr>\n",
       "    <tr>\n",
       "      <th>contb_receipt_amt</th>\n",
       "      <th></th>\n",
       "      <th></th>\n",
       "    </tr>\n",
       "  </thead>\n",
       "  <tbody>\n",
       "    <tr>\n",
       "      <th>(0, 1]</th>\n",
       "      <td>0.805182</td>\n",
       "      <td>0.194818</td>\n",
       "    </tr>\n",
       "    <tr>\n",
       "      <th>(1, 10]</th>\n",
       "      <td>0.918767</td>\n",
       "      <td>0.081233</td>\n",
       "    </tr>\n",
       "    <tr>\n",
       "      <th>(10, 100]</th>\n",
       "      <td>0.910769</td>\n",
       "      <td>0.089231</td>\n",
       "    </tr>\n",
       "    <tr>\n",
       "      <th>(100, 1000]</th>\n",
       "      <td>0.710176</td>\n",
       "      <td>0.289824</td>\n",
       "    </tr>\n",
       "    <tr>\n",
       "      <th>(1000, 10000]</th>\n",
       "      <td>0.447326</td>\n",
       "      <td>0.552674</td>\n",
       "    </tr>\n",
       "    <tr>\n",
       "      <th>(10000, 100000]</th>\n",
       "      <td>0.823120</td>\n",
       "      <td>0.176880</td>\n",
       "    </tr>\n",
       "    <tr>\n",
       "      <th>(100000, 1000000]</th>\n",
       "      <td>1.000000</td>\n",
       "      <td>0.000000</td>\n",
       "    </tr>\n",
       "    <tr>\n",
       "      <th>(1000000, 10000000]</th>\n",
       "      <td>1.000000</td>\n",
       "      <td>0.000000</td>\n",
       "    </tr>\n",
       "  </tbody>\n",
       "</table>\n",
       "</div>"
      ],
      "text/plain": [
       "cand_nm              Obama, Barack  Romney, Mitt\n",
       "contb_receipt_amt                               \n",
       "(0, 1]                    0.805182      0.194818\n",
       "(1, 10]                   0.918767      0.081233\n",
       "(10, 100]                 0.910769      0.089231\n",
       "(100, 1000]               0.710176      0.289824\n",
       "(1000, 10000]             0.447326      0.552674\n",
       "(10000, 100000]           0.823120      0.176880\n",
       "(100000, 1000000]         1.000000      0.000000\n",
       "(1000000, 10000000]       1.000000      0.000000"
      ]
     },
     "execution_count": 290,
     "metadata": {},
     "output_type": "execute_result"
    }
   ],
   "source": [
    "normed_sums = bucket_sums.div(bucket_sums.sum(axis='columns'),\n",
    "                             axis='index')\n",
    "normed_sums"
   ]
  },
  {
   "cell_type": "code",
   "execution_count": 292,
   "id": "36cdeebc",
   "metadata": {},
   "outputs": [
    {
     "data": {
      "image/png": "[encoded data removed]",
      "text/plain": [
       "<Figure size 640x480 with 1 Axes>"
      ]
     },
     "metadata": {},
     "output_type": "display_data"
    }
   ],
   "source": [
    "normed_sums[:-2].plot(kind='barh');"
   ]
  },
  {
   "cell_type": "code",
   "execution_count": 298,
   "id": "492c8b4d",
   "metadata": {},
   "outputs": [
    {
     "data": {
      "text/html": [
       "<div>\n",
       "<style scoped>\n",
       "    .dataframe tbody tr th:only-of-type {\n",
       "        vertical-align: middle;\n",
       "    }\n",
       "\n",
       "    .dataframe tbody tr th {\n",
       "        vertical-align: top;\n",
       "    }\n",
       "\n",
       "    .dataframe thead th {\n",
       "        text-align: right;\n",
       "    }\n",
       "</style>\n",
       "<table border=\"1\" class=\"dataframe\">\n",
       "  <thead>\n",
       "    <tr style=\"text-align: right;\">\n",
       "      <th>cand_nm</th>\n",
       "      <th>Obama, Barack</th>\n",
       "      <th>Romney, Mitt</th>\n",
       "    </tr>\n",
       "    <tr>\n",
       "      <th>contbr_st</th>\n",
       "      <th></th>\n",
       "      <th></th>\n",
       "    </tr>\n",
       "  </thead>\n",
       "  <tbody>\n",
       "    <tr>\n",
       "      <th>AK</th>\n",
       "      <td>281840.15</td>\n",
       "      <td>86204.24</td>\n",
       "    </tr>\n",
       "    <tr>\n",
       "      <th>AL</th>\n",
       "      <td>543123.48</td>\n",
       "      <td>527303.51</td>\n",
       "    </tr>\n",
       "    <tr>\n",
       "      <th>AR</th>\n",
       "      <td>359247.28</td>\n",
       "      <td>105556.00</td>\n",
       "    </tr>\n",
       "    <tr>\n",
       "      <th>AZ</th>\n",
       "      <td>1506476.98</td>\n",
       "      <td>1888436.23</td>\n",
       "    </tr>\n",
       "    <tr>\n",
       "      <th>CA</th>\n",
       "      <td>23824984.24</td>\n",
       "      <td>11237636.60</td>\n",
       "    </tr>\n",
       "    <tr>\n",
       "      <th>CO</th>\n",
       "      <td>2132429.49</td>\n",
       "      <td>1506714.12</td>\n",
       "    </tr>\n",
       "    <tr>\n",
       "      <th>CT</th>\n",
       "      <td>2068291.26</td>\n",
       "      <td>3499475.45</td>\n",
       "    </tr>\n",
       "    <tr>\n",
       "      <th>DC</th>\n",
       "      <td>4373538.80</td>\n",
       "      <td>1025137.50</td>\n",
       "    </tr>\n",
       "    <tr>\n",
       "      <th>DE</th>\n",
       "      <td>336669.14</td>\n",
       "      <td>82712.00</td>\n",
       "    </tr>\n",
       "    <tr>\n",
       "      <th>FL</th>\n",
       "      <td>7318178.58</td>\n",
       "      <td>8338458.81</td>\n",
       "    </tr>\n",
       "  </tbody>\n",
       "</table>\n",
       "</div>"
      ],
      "text/plain": [
       "cand_nm    Obama, Barack  Romney, Mitt\n",
       "contbr_st                             \n",
       "AK             281840.15      86204.24\n",
       "AL             543123.48     527303.51\n",
       "AR             359247.28     105556.00\n",
       "AZ            1506476.98    1888436.23\n",
       "CA           23824984.24   11237636.60\n",
       "CO            2132429.49    1506714.12\n",
       "CT            2068291.26    3499475.45\n",
       "DC            4373538.80    1025137.50\n",
       "DE             336669.14      82712.00\n",
       "FL            7318178.58    8338458.81"
      ]
     },
     "execution_count": 298,
     "metadata": {},
     "output_type": "execute_result"
    }
   ],
   "source": [
    "# Donation Statistics by State\n",
    "# aggregating the data by candidate and state\n",
    "grouped = fec_mrbo.groupby(['cand_nm', 'contbr_st'])\n",
    "totals = grouped['contb_receipt_amt'].sum().unstack(level=0).fillna(0)\n",
    "totals = totals[totals.sum(axis='columns') > 100000]\n",
    "totals.head(10)"
   ]
  },
  {
   "cell_type": "code",
   "execution_count": 300,
   "id": "bb013b4e",
   "metadata": {},
   "outputs": [
    {
     "data": {
      "text/html": [
       "<div>\n",
       "<style scoped>\n",
       "    .dataframe tbody tr th:only-of-type {\n",
       "        vertical-align: middle;\n",
       "    }\n",
       "\n",
       "    .dataframe tbody tr th {\n",
       "        vertical-align: top;\n",
       "    }\n",
       "\n",
       "    .dataframe thead th {\n",
       "        text-align: right;\n",
       "    }\n",
       "</style>\n",
       "<table border=\"1\" class=\"dataframe\">\n",
       "  <thead>\n",
       "    <tr style=\"text-align: right;\">\n",
       "      <th>cand_nm</th>\n",
       "      <th>Obama, Barack</th>\n",
       "      <th>Romney, Mitt</th>\n",
       "    </tr>\n",
       "    <tr>\n",
       "      <th>contbr_st</th>\n",
       "      <th></th>\n",
       "      <th></th>\n",
       "    </tr>\n",
       "  </thead>\n",
       "  <tbody>\n",
       "    <tr>\n",
       "      <th>AK</th>\n",
       "      <td>0.765778</td>\n",
       "      <td>0.234222</td>\n",
       "    </tr>\n",
       "    <tr>\n",
       "      <th>AL</th>\n",
       "      <td>0.507390</td>\n",
       "      <td>0.492610</td>\n",
       "    </tr>\n",
       "    <tr>\n",
       "      <th>AR</th>\n",
       "      <td>0.772902</td>\n",
       "      <td>0.227098</td>\n",
       "    </tr>\n",
       "    <tr>\n",
       "      <th>AZ</th>\n",
       "      <td>0.443745</td>\n",
       "      <td>0.556255</td>\n",
       "    </tr>\n",
       "    <tr>\n",
       "      <th>CA</th>\n",
       "      <td>0.679498</td>\n",
       "      <td>0.320502</td>\n",
       "    </tr>\n",
       "    <tr>\n",
       "      <th>CO</th>\n",
       "      <td>0.585970</td>\n",
       "      <td>0.414030</td>\n",
       "    </tr>\n",
       "    <tr>\n",
       "      <th>CT</th>\n",
       "      <td>0.371476</td>\n",
       "      <td>0.628524</td>\n",
       "    </tr>\n",
       "    <tr>\n",
       "      <th>DC</th>\n",
       "      <td>0.810113</td>\n",
       "      <td>0.189887</td>\n",
       "    </tr>\n",
       "    <tr>\n",
       "      <th>DE</th>\n",
       "      <td>0.802776</td>\n",
       "      <td>0.197224</td>\n",
       "    </tr>\n",
       "    <tr>\n",
       "      <th>FL</th>\n",
       "      <td>0.467417</td>\n",
       "      <td>0.532583</td>\n",
       "    </tr>\n",
       "  </tbody>\n",
       "</table>\n",
       "</div>"
      ],
      "text/plain": [
       "cand_nm    Obama, Barack  Romney, Mitt\n",
       "contbr_st                             \n",
       "AK              0.765778      0.234222\n",
       "AL              0.507390      0.492610\n",
       "AR              0.772902      0.227098\n",
       "AZ              0.443745      0.556255\n",
       "CA              0.679498      0.320502\n",
       "CO              0.585970      0.414030\n",
       "CT              0.371476      0.628524\n",
       "DC              0.810113      0.189887\n",
       "DE              0.802776      0.197224\n",
       "FL              0.467417      0.532583"
      ]
     },
     "execution_count": 300,
     "metadata": {},
     "output_type": "execute_result"
    }
   ],
   "source": [
    "# get the relative percentage of total donations by state for each candidate\n",
    "percent = totals.div(totals.sum(axis='columns'), axis='index')\n",
    "percent.head(10)"
   ]
  },
  {
   "cell_type": "code",
   "execution_count": null,
   "id": "2a58979c",
   "metadata": {},
   "outputs": [],
   "source": []
  }
 ],
 "metadata": {
  "kernelspec": {
   "display_name": "Python 3 (ipykernel)",
   "language": "python",
   "name": "python3"
  },
  "language_info": {
   "codemirror_mode": {
    "name": "ipython",
    "version": 3
   },
   "file_extension": ".py",
   "mimetype": "text/x-python",
   "name": "python",
   "nbconvert_exporter": "python",
   "pygments_lexer": "ipython3",
   "version": "3.11.5"
  }
 },
 "nbformat": 4,
 "nbformat_minor": 5
}
